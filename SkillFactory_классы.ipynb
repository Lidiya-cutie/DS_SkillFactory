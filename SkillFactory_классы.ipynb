{
  "nbformat": 4,
  "nbformat_minor": 0,
  "metadata": {
    "colab": {
      "provenance": [],
      "mount_file_id": "1qdSYJ06gOOkj3utDdvbgNF6lyIUzl54U",
      "authorship_tag": "ABX9TyNbArXJXti4ml1awuD7hb7y",
      "include_colab_link": true
    },
    "kernelspec": {
      "name": "python3",
      "display_name": "Python 3"
    },
    "language_info": {
      "name": "python"
    }
  },
  "cells": [
    {
      "cell_type": "markdown",
      "metadata": {
        "id": "view-in-github",
        "colab_type": "text"
      },
      "source": [
        "<a href=\"https://colab.research.google.com/github/Lidiya-cutie/DS_SkillFactory/blob/main/SkillFactory_%D0%BA%D0%BB%D0%B0%D1%81%D1%81%D1%8B.ipynb\" target=\"_parent\"><img src=\"https://colab.research.google.com/assets/colab-badge.svg\" alt=\"Open In Colab\"/></a>"
      ]
    },
    {
      "cell_type": "code",
      "execution_count": null,
      "metadata": {
        "colab": {
          "base_uri": "https://localhost:8080/"
        },
        "id": "jdPtBbryhlBq",
        "outputId": "8a347781-956b-4cbf-877e-3ce48cef8f97"
      },
      "outputs": [
        {
          "output_type": "stream",
          "name": "stdout",
          "text": [
            "True\n",
            "True\n",
            "False\n"
          ]
        }
      ],
      "source": [
        "# возвращает True, если проверяемый объект является экземпляром указанного класса (классов) или его подкласса (прямого, косвенного или виртуального), иначе False. \n",
        "\n",
        "class One:\n",
        "  def __init__(self):\n",
        "    self.data = []\n",
        "\n",
        "class Two(One):\n",
        "  def __init__(self):\n",
        "    super().__init__()\n",
        "\n",
        "print(isinstance(Two(), Two))\n",
        "print(isinstance(Two(), One))    \n",
        "print(isinstance(One(), Two))    "
      ]
    },
    {
      "cell_type": "markdown",
      "source": [
        "# ОБЪЕКТЫ"
      ],
      "metadata": {
        "id": "_dOw01zB0pzE"
      }
    },
    {
      "cell_type": "code",
      "source": [
        "# Объект числа хранит своё значение — данные\n",
        "number = 2.5   \n",
        "# Вызовем метод is_integer. Он скажет нам, является ли number целым числом  \n",
        "print(number.is_integer())  \n",
        "# => False  \n",
        "  \n",
        "# Давайте попробуем представить number как обыкновенную дробь  \n",
        "print(number.as_integer_ratio())  \n",
        "# => (5, 2)  \n",
        "# Действительно 2.5 = 5/2 "
      ],
      "metadata": {
        "colab": {
          "base_uri": "https://localhost:8080/"
        },
        "id": "OUThNbjJ0y8D",
        "outputId": "2de1ab96-4bdb-4efd-dfd7-c150ee87b095"
      },
      "execution_count": null,
      "outputs": [
        {
          "output_type": "stream",
          "name": "stdout",
          "text": [
            "False\n",
            "(5, 2)\n"
          ]
        }
      ]
    },
    {
      "cell_type": "code",
      "source": [
        "# список хранит данные своих элементов, мы можем совершать над ними действия встроенными методами.\n",
        "people = [\"Vasiliy\", \"Stanislav\", \"Alexandra\", \"Vasiliy\"]  "
      ],
      "metadata": {
        "id": "3cIiMBo-1QH7"
      },
      "execution_count": null,
      "outputs": []
    },
    {
      "cell_type": "code",
      "source": [
        "# Посчитаем число Василиев с помощью метода count  \n",
        "print(people.count(\"Vasiliy\"))  \n",
        "# => 2  "
      ],
      "metadata": {
        "colab": {
          "base_uri": "https://localhost:8080/"
        },
        "id": "nhGmHZ3w1bgu",
        "outputId": "f69365f7-5738-408d-f72d-2db71d80c429"
      },
      "execution_count": null,
      "outputs": [
        {
          "output_type": "stream",
          "name": "stdout",
          "text": [
            "2\n"
          ]
        }
      ]
    },
    {
      "cell_type": "code",
      "source": [
        "# Теперь отсортируем   \n",
        "people.sort()  \n",
        "print(people)  \n",
        "# => ['Alexandra', 'Stanislav', 'Vasiliy', 'Vasiliy'] "
      ],
      "metadata": {
        "colab": {
          "base_uri": "https://localhost:8080/"
        },
        "id": "OqXCgIpF1gw8",
        "outputId": "71049ad1-27f3-4835-b275-dd05ed48cf87"
      },
      "execution_count": null,
      "outputs": [
        {
          "output_type": "stream",
          "name": "stdout",
          "text": [
            "['Alexandra', 'Stanislav', 'Vasiliy', 'Vasiliy']\n"
          ]
        }
      ]
    },
    {
      "cell_type": "markdown",
      "source": [
        "# КЛАССЫ"
      ],
      "metadata": {
        "id": "bJn9I36I13YL"
      }
    },
    {
      "cell_type": "markdown",
      "source": [
        "Класс — это некая заготовка или чертёж, которая описывает общую структуру, свойства и действия для объектов.  "
      ],
      "metadata": {
        "id": "xC6xcvF414yb"
      }
    },
    {
      "cell_type": "code",
      "source": [
        "number = 2.5  \n",
        "print(number.__class__)  \n",
        "# => <class 'float'>  \n",
        "  \n",
        "people = [\"Vasiliy\", \"Stanislav\", \"Alexandra\", \"Vasiliy\"]  \n",
        "print(people.__class__)  \n",
        "# => <class 'list'>"
      ],
      "metadata": {
        "colab": {
          "base_uri": "https://localhost:8080/"
        },
        "id": "dKEPptJf18Li",
        "outputId": "8a833115-be79-42df-a20e-b8cf869e8aff"
      },
      "execution_count": null,
      "outputs": [
        {
          "output_type": "stream",
          "name": "stdout",
          "text": [
            "<class 'float'>\n",
            "<class 'list'>\n"
          ]
        }
      ]
    },
    {
      "cell_type": "markdown",
      "source": [
        "Пустой классне делает ничего, но позволяет посмотреть на синтаксис. "
      ],
      "metadata": {
        "id": "bHx64HQd2RAJ"
      }
    },
    {
      "cell_type": "code",
      "source": [
        "# Используем ключевое слово class, за которым идёт название класса, в примере это SalesReport  \n",
        "class SalesReport():  \n",
        "    pass  \n",
        "  \n",
        "# Сравните это с определением пустой функции  \n",
        "# Команда pass не делает ничего; на её месте могли быть другие инструкции  \n",
        "# Мы используем её только потому, что синтаксически python требует, чтобы там было хоть что-то  \n",
        "def build_report():  \n",
        "    pass  \n",
        "  \n",
        "  \n",
        "# И давайте определим ещё один класс  \n",
        "# Для имён классов традиционно используются имена в формате CamelCase, где начала слов отмечаются большими буквами  \n",
        "# Это позволяет легко отличать их от функций, которые пишутся в формате snake_case  \n",
        "class SkillfactoryStudent():  \n",
        "    pass"
      ],
      "metadata": {
        "id": "W46n_xvd2RTa"
      },
      "execution_count": null,
      "outputs": []
    },
    {
      "cell_type": "markdown",
      "source": [
        "# ОБЪЕКТЫ ИЗ КЛАССОВ"
      ],
      "metadata": {
        "id": "4IngxrkV2zZV"
      }
    },
    {
      "cell_type": "markdown",
      "source": [
        "Вызываем класс и получаем новый объект аналогично тому, как вызывается функция. Получаем результат."
      ],
      "metadata": {
        "id": "s2VriHNg3Wql"
      }
    },
    {
      "cell_type": "code",
      "source": [
        "# Определим\n",
        "class SalesReport():  \n",
        "    pass  \n",
        "  \n",
        "# создаём объект по классу  \n",
        "report = SalesReport()  \n",
        "  \n",
        "# мы можем создавать множество объектов по одному классу  \n",
        "report_2 = SalesReport()  \n",
        "  \n",
        "# Это будут разные объекты.   \n",
        "print(report == report_2)  \n",
        "# => False   "
      ],
      "metadata": {
        "colab": {
          "base_uri": "https://localhost:8080/"
        },
        "id": "qIkNaLij3W00",
        "outputId": "451ef510-c1fb-4b8f-cb61-1e3ad0861796"
      },
      "execution_count": null,
      "outputs": [
        {
          "output_type": "stream",
          "name": "stdout",
          "text": [
            "False\n"
          ]
        }
      ]
    },
    {
      "cell_type": "markdown",
      "source": [
        "Созданный таким образом объект часто называют экземпляром класса (instance)."
      ],
      "metadata": {
        "id": "N_2EKhgg3kb9"
      }
    },
    {
      "cell_type": "code",
      "source": [
        "# создаём класс\n",
        "class DepartmentReport():\n",
        "    pass\n",
        "  \n",
        "# создаём объект по классу  \n",
        "department_report = DepartmentReport()"
      ],
      "metadata": {
        "id": "4f0M3Qsc8iLa"
      },
      "execution_count": null,
      "outputs": []
    },
    {
      "cell_type": "markdown",
      "source": [
        "# АТРИБУТЫ И МЕТОДЫ"
      ],
      "metadata": {
        "id": "GjiAG-Eu84-h"
      }
    },
    {
      "cell_type": "code",
      "source": [
        "# По-прежнему пока создаём пустой класс  \n",
        "class DepartmentReport():  \n",
        "    pass  \n",
        "  \n",
        "# Создаём первый отчёт по отделам компании   \n",
        "department_report = DepartmentReport()  \n",
        "  \n",
        "# Мы добавим новый атрибут объекту.  \n",
        "# Для этого через точку напишем имя атрибута и дальше как с обычной переменной  \n",
        "department_report.amount = 45  \n",
        "  \n",
        "# То же самое делаем для второго отчёта.  \n",
        "department_report_2 = DepartmentReport()  \n",
        "department_report_2.amount = 90  \n",
        "  \n",
        "# Создадим вспомогательную функцию, она будет печатать общую сумму из отчёта  \n",
        "def print_department_report(department_report):  \n",
        "    print(\"Total amount:\", department_report.amount)  \n",
        "      \n",
        "print_department_report(department_report) # => Total amount: 45  \n",
        "print_department_report(department_report_2) # => Total amount: 90 "
      ],
      "metadata": {
        "colab": {
          "base_uri": "https://localhost:8080/"
        },
        "id": "qExKIGfK8-dF",
        "outputId": "0f6b880e-c249-4e51-d248-8e1259038465"
      },
      "execution_count": null,
      "outputs": [
        {
          "output_type": "stream",
          "name": "stdout",
          "text": [
            "Total amount: 45\n",
            "Total amount: 90\n"
          ]
        }
      ]
    },
    {
      "cell_type": "markdown",
      "source": [
        "Для разных отчётов вывелись разные значения, хотя объекты создавались из одного класса. Функция print_department_report делает операцию над отчётом. Так как классы увязывают данные и действия над ними, положим print_department_report внутрь класса."
      ],
      "metadata": {
        "id": "TQaA_diQ9xJ9"
      }
    },
    {
      "cell_type": "code",
      "source": [
        "# Определим класс Dog\n",
        "class Dog():\n",
        "    \n",
        "    # Добавим метод bark, который принимает список из любого количества аргументов\n",
        "    def bark(*args):\n",
        "        return 'Bark!'\n",
        "\n",
        "    # Добавим метод give_paw, который принимает список из любого количества аргументов\n",
        "    def give_paw(*args):\n",
        "        return 'Paw'\n",
        "# Добавим аргументы, передаваемые в метод и выведем на печать\n",
        "print(Dog().bark(['Лайка', 'Бим']))\n",
        "print(Dog().give_paw(['Лайка', 'Бим']))"
      ],
      "metadata": {
        "colab": {
          "base_uri": "https://localhost:8080/"
        },
        "id": "s5dyQl_g_CKC",
        "outputId": "5197b4d4-a1f2-4991-acfa-4d5516c4dd6a"
      },
      "execution_count": 38,
      "outputs": [
        {
          "output_type": "stream",
          "name": "stdout",
          "text": [
            "Bark!\n",
            "Paw\n"
          ]
        }
      ]
    },
    {
      "cell_type": "code",
      "source": [
        "class DepartmentReport():  \n",
        "    # Наш новый метод внутри класса.  \n",
        "    # Мы определяем его похожим образом с обычными функциями,  \n",
        "    #   но только помещаем внутрь класса и первым аргументом передаём self  \n",
        "    def print_department_report(self):  \n",
        "        print(\"Total amount:\", self.amount)  \n",
        "          \n",
        "          \n",
        "# Дальше мы применяем department_report так же, как и в примере выше   \n",
        "department_report = DepartmentReport()  \n",
        "department_report.amount = 45 \n",
        "  \n",
        "department_report_2 = DepartmentReport()  \n",
        "department_report_2.amount = 90  \n",
        "  \n",
        "# Используем наши новые методы  \n",
        "department_report.print_department_report() # => Total amount: 45  \n",
        "department_report_2.print_department_report() # => Total amount: 90 "
      ],
      "metadata": {
        "colab": {
          "base_uri": "https://localhost:8080/"
        },
        "id": "h-acZuWp-Cbj",
        "outputId": "230baef9-f51c-48c1-f397-470447d0f40d"
      },
      "execution_count": null,
      "outputs": [
        {
          "output_type": "stream",
          "name": "stdout",
          "text": [
            "Total amount: 45\n",
            "Total amount: 90\n"
          ]
        }
      ]
    },
    {
      "cell_type": "markdown",
      "source": [
        "Мы определили метод внутри класса, и он стал доступен у всех экземпляров этого класса. \n",
        "\n",
        "**Методы** в целом похожи на обычные функции, но их ключевое отличие — доступ к самому объекту. "
      ],
      "metadata": {
        "id": "Mx1B1GVa-2a6"
      }
    },
    {
      "cell_type": "code",
      "source": [
        "class DepartmentReport():  \n",
        "    # Позволим добавлять клиентов по отделам компании   \n",
        "    def add_client(self, amount):   \n",
        "        # На первом добавлении клиентов по отделам компании создадим список для хранения всех клиентов   \n",
        "        if not hasattr(self, 'clients'):  \n",
        "            self.clients = []  \n",
        "        # Добавим клиентов отдела компании  \n",
        "        self.clients.append(amount)  \n",
        "          \n",
        "    # Посчитаем число всех клиентов      \n",
        "    def total_amount(self):  \n",
        "        return sum(self.clients)  \n",
        "      \n",
        "    def print_department_report(self):  \n",
        "        print(\"Total clients:\", self.total_amount())  \n",
        "          \n",
        "# Используем наши новые возможности  \n",
        "# Добавим клиентов двух отделов и распечатаем отчёт  \n",
        "department_report = DepartmentReport()  \n",
        "department_report.add_client(1_000)  \n",
        "department_report.add_client(4_000)  \n",
        "department_report.print_department_report() # => Total clients: 5000  "
      ],
      "metadata": {
        "colab": {
          "base_uri": "https://localhost:8080/"
        },
        "id": "JcxWLtxl_5Xz",
        "outputId": "3934105a-ac49-441a-f53e-392fba249039"
      },
      "execution_count": null,
      "outputs": [
        {
          "output_type": "stream",
          "name": "stdout",
          "text": [
            "Total clients: 5000\n"
          ]
        }
      ]
    },
    {
      "cell_type": "code",
      "source": [
        "# определим класса DepartmentReport, который выводит отчёт по отделам компании\n",
        "class DepartmentReport():  \n",
        "    # Позволим добавлять выручку одного отдела с помощью метода add_revenue  \n",
        "    def add_revenue(self, amount):   \n",
        "        # На первом этапе создадим атрибут revenues — список, где будем хранить значения выручки отделов\n",
        "        if not hasattr(self, 'revenues'):  \n",
        "            self.revenues = []  \n",
        "        # Добавим клиентов отдела компании  \n",
        "        self.revenues.append(amount)  \n",
        "          \n",
        "    # Посчитаем среднюю выручку по всем отделам с помощью метода average_revenue   \n",
        "    def average_revenue(self):  \n",
        "        return sum(self.revenues)/len(self.revenues) \n",
        "          \n",
        "# Используем наши новые возможности  \n",
        "# Добавим выручку отделов и распечатаем отчёт  \n",
        "report = DepartmentReport()  \n",
        "report.add_revenue(1_000_000)  \n",
        "report.add_revenue(400_000)  \n",
        "\n",
        "print(report.revenues)\n",
        "print(report.average_revenue())"
      ],
      "metadata": {
        "colab": {
          "base_uri": "https://localhost:8080/"
        },
        "id": "CFsGAlYFFnEZ",
        "outputId": "42b93892-303a-4ed4-bfd9-175e74ef62a6"
      },
      "execution_count": null,
      "outputs": [
        {
          "output_type": "stream",
          "name": "stdout",
          "text": [
            "[1000000, 400000]\n",
            "700000.0\n"
          ]
        }
      ]
    },
    {
      "cell_type": "code",
      "source": [
        "# проверим, добавив другой отдел\n",
        "res = DepartmentReport()\n",
        "res.add_revenue(400000)\n",
        "res.add_revenue(15000)\n",
        "print(res.revenues)"
      ],
      "metadata": {
        "colab": {
          "base_uri": "https://localhost:8080/"
        },
        "id": "YoQu5SlIHzQs",
        "outputId": "17a30cf0-012a-4c2e-88ef-4dca0c1b0ed8"
      },
      "execution_count": null,
      "outputs": [
        {
          "output_type": "stream",
          "name": "stdout",
          "text": [
            "[400000, 15000]\n"
          ]
        }
      ]
    },
    {
      "cell_type": "code",
      "source": [
        "res = DepartmentReport()\n",
        "res.add_revenue(400000)\n",
        "res.add_revenue(15000)\n",
        "\n",
        "res = DepartmentReport()\n",
        "res.add_revenue(500000)\n",
        "res.add_revenue(150000)\n",
        "res.add_revenue(1500)\n",
        "\n",
        "\n",
        "print(res.revenues)"
      ],
      "metadata": {
        "colab": {
          "base_uri": "https://localhost:8080/"
        },
        "id": "brUQpOpcISf7",
        "outputId": "85979bae-b0e4-4e62-f768-c8c74cf93afc"
      },
      "execution_count": null,
      "outputs": [
        {
          "output_type": "stream",
          "name": "stdout",
          "text": [
            "[500000, 150000, 1500]\n"
          ]
        }
      ]
    },
    {
      "cell_type": "code",
      "source": [
        "res = DepartmentReport()\n",
        "res.add_revenue(400000)\n",
        "res.add_revenue(15000)\n",
        "\n",
        "res = DepartmentReport()\n",
        "res.add_revenue(500000)\n",
        "res.add_revenue(150000)\n",
        "res.add_revenue(1500)\n",
        "\n",
        "res = DepartmentReport()\n",
        "res.add_revenue(500000)\n",
        "res.add_revenue(150000)\n",
        "res.add_revenue(500)\n",
        "\n",
        "\n",
        "print(res.average_revenue())"
      ],
      "metadata": {
        "colab": {
          "base_uri": "https://localhost:8080/"
        },
        "id": "n1WHtGU6IjSc",
        "outputId": "f6fb4ffc-5972-4a79-a968-0efdabeca6f5"
      },
      "execution_count": null,
      "outputs": [
        {
          "output_type": "stream",
          "name": "stdout",
          "text": [
            "216833.33333333334\n"
          ]
        }
      ]
    },
    {
      "cell_type": "markdown",
      "source": [
        "# МЕТОД _INIT_"
      ],
      "metadata": {
        "id": "wMUF96_rIzP1"
      }
    },
    {
      "cell_type": "markdown",
      "source": [
        "Если мы вызовем total_amount до add_client, то список сделок ещё не будет создан, и мы получим ошибку. Также проверка на наличие списка в методе add_client не кажется оптимальным решением, потому что создать список нужно один раз, а проверять его наличие мы вынуждены на каждой сделке."
      ],
      "metadata": {
        "id": "72_O95NMJFTT"
      }
    },
    {
      "cell_type": "code",
      "source": [
        "class DepartmentReport():  \n",
        "    # Позволим добавлять клиентов по отделам компании   \n",
        "    def add_client(self, amount):   \n",
        "        # На первом добавлении клиентов по отделам компании создадим список для хранения всех клиентов   \n",
        "        if not hasattr(self, 'clients'):  \n",
        "            self.clients = []  \n",
        "        # Добавим клиентов отдела компании  \n",
        "        self.clients.append(amount)  \n",
        "          \n",
        "    # Посчитаем число всех клиентов      \n",
        "    def total_amount(self):  \n",
        "        return sum(self.clients)  \n",
        "      \n",
        "    def print_department_report(self):  \n",
        "        print(\"Total clients:\", self.total_amount())\n",
        "\n",
        "department_report = DepartmentReport()  \n",
        "department_report.total_amount()\n",
        "# => AttributeError"
      ],
      "metadata": {
        "id": "vbC9vkU3JmRI"
      },
      "execution_count": null,
      "outputs": []
    },
    {
      "cell_type": "markdown",
      "source": [
        "Обе проблемы решились бы, если задавать атрибутам исходное значение. Для этого у классов есть метод инициализации __init__. Если мы определим метод с таким именем, код в нём вызовется при создании объекта."
      ],
      "metadata": {
        "id": "UIxwFi2TKGaJ"
      }
    },
    {
      "cell_type": "code",
      "source": [
        "class DepartmentReport(): \n",
        "    def __init__(self):  \n",
        "        self.clients = []\n",
        "\n",
        "    # Позволим добавлять клиентов по отделам компании   \n",
        "    def add_client(self, amount):   \n",
        "        # Добавим клиентов отдела компании  \n",
        "        self.clients.append(amount)  \n",
        "          \n",
        "    # Посчитаем число всех клиентов      \n",
        "    def total_amount(self):  \n",
        "        return sum(self.clients)  \n",
        "      \n",
        "    def print_department_report(self):  \n",
        "        print(\"Total clients:\", self.total_amount())\n",
        "\n",
        "department_report = DepartmentReport()  \n",
        "print(department_report.clients) \n",
        "\n",
        "department_report.total_amount()\n",
        "\n"
      ],
      "metadata": {
        "colab": {
          "base_uri": "https://localhost:8080/"
        },
        "id": "Vc7lLifJKRNq",
        "outputId": "27c2fe31-743d-465f-d346-22b212c35b39"
      },
      "execution_count": null,
      "outputs": [
        {
          "output_type": "stream",
          "name": "stdout",
          "text": [
            "[]\n"
          ]
        },
        {
          "output_type": "execute_result",
          "data": {
            "text/plain": [
              "0"
            ]
          },
          "metadata": {},
          "execution_count": 27
        }
      ]
    },
    {
      "cell_type": "markdown",
      "source": [
        "При создании отчёта вызвался **__**init**__**, clients определился в нём пустым списком и проблемы ушли. "
      ],
      "metadata": {
        "id": "oejK4K0fLNaL"
      }
    },
    {
      "cell_type": "code",
      "source": [
        "# определим класса DepartmentReport, который выводит отчёт по отделам компании\n",
        "class DepartmentReport():\n",
        "    # Будем принимать в __init__ ещё и название региона  \n",
        "    def __init__(self, region_name):  \n",
        "        self.clients = []  \n",
        "        self.region_name = region_name \n",
        "\n",
        "    # Позволим добавлять клиентов по отделам компании   \n",
        "    def add_client(self, amount):   \n",
        "        # Добавим клиентов отдела компании  \n",
        "        self.clients.append(amount)  \n",
        "          \n",
        "    # Посчитаем число всех клиентов      \n",
        "    def total_amount(self):  \n",
        "        return sum(self.clients) \n",
        "    \n",
        "    def print_department_report(self):  \n",
        "        # И добавлять название региона в отчёт  \n",
        "        print(\"Region:\", self.region_name)\n",
        "        print(\"Total clients:\", self.total_amount())\n",
        "          \n",
        "# Используем наши новые возможности  \n",
        "# Добавим выручку отделов и распечатаем отчёт  \n",
        "department_report = DepartmentReport('Санкт-Петербург') \n",
        "department_report.add_client(1_000)  \n",
        "department_report.add_client(4_000)  \n",
        "department_report.print_department_report()\n"
      ],
      "metadata": {
        "colab": {
          "base_uri": "https://localhost:8080/"
        },
        "id": "nQ4vxymQTHnz",
        "outputId": "81a98745-648a-4a9d-bb4b-9ac08e69db0c"
      },
      "execution_count": null,
      "outputs": [
        {
          "output_type": "stream",
          "name": "stdout",
          "text": [
            "Region: Санкт-Петербург\n",
            "Total clients: 5000\n"
          ]
        }
      ]
    },
    {
      "cell_type": "code",
      "source": [
        "# определим класса DepartmentReport, который выводит отчёт по отделам компании\n",
        "class DepartmentReport():\n",
        "    # Будем принимать в __init__ ещё и название company\n",
        "    def __init__(self,company_name):\n",
        "        self.revenues=[]\n",
        "        self.company=company_name\n",
        "\n",
        "    # Позволим добавлять выручку одного отдела с помощью метода add_revenue  \n",
        "    def add_revenue(self, amount):   \n",
        "        # На первом этапе создадим атрибут revenues — список, где будем хранить значения выручки отделов\n",
        "        if not hasattr(self, 'revenues'):  \n",
        "            self.revenues = []  \n",
        "        # Добавим клиентов отдела компании  \n",
        "        self.revenues.append(amount)  \n",
        "          \n",
        "    # Посчитаем среднюю выручку по всем отделам с помощью метода average_revenue   \n",
        "    def average_revenue(self):\n",
        "        average=int(round(sum(self.revenues)/len(self.revenues),0))\n",
        "        return 'Average department revenue for {}: {}'.format(self.company,average) \n",
        "          \n",
        "# Используем наши новые возможности  \n",
        "# Добавим выручку отделов и распечатаем отчёт  \n",
        "report = DepartmentReport(\"Danon\")\n",
        "report.add_revenue(1_000_000)\n",
        "report.add_revenue(400_000)\n",
        "\n",
        "print(report.average_revenue())\n",
        "print(DepartmentReport(company_name = 'Danon').company)\n",
        "print(DepartmentReport(company_name = 'Danon').revenues)"
      ],
      "metadata": {
        "colab": {
          "base_uri": "https://localhost:8080/"
        },
        "id": "Zo1gYQWBaHy1",
        "outputId": "5c99d38b-1db9-4188-c7a5-8ebacf417ca6"
      },
      "execution_count": null,
      "outputs": [
        {
          "output_type": "stream",
          "name": "stdout",
          "text": [
            "Average department revenue for Danon: 700000\n"
          ]
        }
      ]
    },
    {
      "cell_type": "code",
      "source": [
        "res = DepartmentReport('Danon')\n",
        "res.add_revenue(500000)\n",
        "res.add_revenue(150000)\n",
        "res.add_revenue(1500)\n",
        "\n",
        "\n",
        "print(res.average_revenue())"
      ],
      "metadata": {
        "colab": {
          "base_uri": "https://localhost:8080/"
        },
        "id": "Kgw78Oo9bhnn",
        "outputId": "57f1ecdf-e146-45fe-fbb7-e5f3ef53b4d4"
      },
      "execution_count": null,
      "outputs": [
        {
          "output_type": "stream",
          "name": "stdout",
          "text": [
            "Average department revenue for Danon: 217167\n"
          ]
        }
      ]
    },
    {
      "cell_type": "markdown",
      "source": [
        "Допустим, теперь мы хотим получать средний размер сделки и список клиентов, из которого исключены повторения (в случае, если компания заключала несколько сделок с одним и тем же клиентом).\n"
      ],
      "metadata": {
        "id": "rPVXcxp_dkiH"
      }
    },
    {
      "cell_type": "code",
      "source": [
        "# определим класса SalesReport, который выводит отчёт по сделкам компании\n",
        "class SalesReport():  \n",
        "    # Будем принимать в __init__ ещё и имена клиентов\n",
        "    def __init__(self, employee_name):  \n",
        "        self.deals = []  \n",
        "        self.employee_name = employee_name  \n",
        "\n",
        "    # добавлять company  \n",
        "    def add_deal(self, company, amount):   \n",
        "        self.deals.append({'company': company, 'amount': amount})  \n",
        "\n",
        "    # получать сумму сделки      \n",
        "    def total_amount(self):  \n",
        "        return sum([deal['amount'] for deal in self.deals])  \n",
        "    \n",
        "    # получать средний размер сделки   \n",
        "    def average_deal(self):  \n",
        "        return self.total_amount()/len(self.deals)  \n",
        "    \n",
        "    # получать список компаний   \n",
        "    def all_companies(self):  \n",
        "        return list(set([deal['company'] for deal in self.deals]))  \n",
        "      \n",
        "    def print_report(self):  \n",
        "        print(\"Employee: \", self.employee_name)  \n",
        "        print(\"Total sales:\", self.total_amount())  \n",
        "        print(\"Average sales:\", self.average_deal())  \n",
        "        print(\"Companies:\", self.all_companies())  \n",
        "      \n",
        "      \n",
        "report = SalesReport(\"Ivan Semenov\")  \n",
        "  \n",
        "report.add_deal(\"PepsiCo\", 120_000)  \n",
        "report.add_deal(\"SkyEng\", 250_000)  \n",
        "report.add_deal(\"PepsiCo\", 20_000)  \n",
        "  \n",
        "report.print_report()  \n",
        "# => Employee:  Ivan Semenov  \n",
        "# Total sales: 390000  \n",
        "# Average sales: 130000.0  \n",
        "# Companies: ['PepsiCo', 'SkyEng']"
      ],
      "metadata": {
        "colab": {
          "base_uri": "https://localhost:8080/"
        },
        "id": "3_2x88Npdg6g",
        "outputId": "c0adc5ae-4687-4396-9a11-0f00d3b95151"
      },
      "execution_count": null,
      "outputs": [
        {
          "output_type": "stream",
          "name": "stdout",
          "text": [
            "Employee:  Ivan Semenov\n",
            "Total sales: 390000\n",
            "Average sales: 130000.0\n",
            "Companies: ['SkyEng', 'PepsiCo']\n"
          ]
        }
      ]
    },
    {
      "cell_type": "code",
      "source": [
        "class Album():\n",
        "    def __init__(self, artist, name):\n",
        "        self.artist = artist\n",
        "        self.name = name"
      ],
      "metadata": {
        "id": "ReheRbLQdtl6"
      },
      "execution_count": null,
      "outputs": []
    },
    {
      "cell_type": "markdown",
      "source": [
        " Сделаем класс для отчётов по продажам Marketplace. Пусть у нас в компании есть менеджеры по продажам, которые заключают сделки, и мы хотим посчитать для них метрики общего объёма продаж.\n"
      ],
      "metadata": {
        "id": "-C2ncWGL-Xz2"
      }
    },
    {
      "cell_type": "code",
      "source": [
        "# По-прежнему пока создаём пустой класс  \n",
        "class Marketplace():  \n",
        "    pass  \n",
        "  \n",
        "# Создаём первую категорию с товарами   \n",
        "category = Marketplace()  \n",
        "  \n",
        "# Мы добавим новый атрибут объекту.  \n",
        "# Для этого через точку напишем имя атрибута и дальше как с обычной переменной  \n",
        "category.amount = 25  \n",
        "  \n",
        "# То же самое делаем для второй категории.  \n",
        "category_2 = Marketplace()  \n",
        "category_2.amount = 50  \n",
        "  \n",
        "# Создадим вспомогательную функцию, она будет печатать общее число из категорий  \n",
        "def print_category(category):  \n",
        "    print(\"Total amount:\", category.amount)  \n",
        "      \n",
        "print_category(category) # => Total amount: 25  \n",
        "print_category(category_2) # => Total amount: 50 "
      ],
      "metadata": {
        "colab": {
          "base_uri": "https://localhost:8080/"
        },
        "id": "n2SxyFHI-TJN",
        "outputId": "4751e707-f3b9-4688-e29a-e173d08ee89f"
      },
      "execution_count": null,
      "outputs": [
        {
          "output_type": "stream",
          "name": "stdout",
          "text": [
            "Total amount: 25\n",
            "Total amount: 50\n"
          ]
        }
      ]
    },
    {
      "cell_type": "markdown",
      "source": [
        "Для разных отчётов вывелись разные значения, хотя объекты создавались из одного класса. Функция print_category делает операцию над отчётом. Так как классы увязывают данные и действия над ними, положим print_category внутрь класса."
      ],
      "metadata": {
        "id": "cY-Ds2eZBDAZ"
      }
    },
    {
      "cell_type": "code",
      "source": [
        "class Marketplace():  \n",
        "    # Наш новый метод внутри класса.  \n",
        "    # Мы определяем его похожим образом с обычными функциями,  \n",
        "    # но только помещаем внутрь класса и первым аргументом передаём self  \n",
        "    def print_category(self):  \n",
        "        print(\"Total amount:\", self.amount)  \n",
        "          \n",
        "          \n",
        "# Дальше мы применяем category так же, как и в примере выше   \n",
        "category = Marketplace()  \n",
        "category.amount = 25  \n",
        "  \n",
        "category_2 = Marketplace()  \n",
        "category_2.amount = 50  \n",
        "  \n",
        "# Используем наши новые методы  \n",
        "category.print_category() # => Total amount: 25  \n",
        "category_2.print_category() # => Total amount: 50 "
      ],
      "metadata": {
        "colab": {
          "base_uri": "https://localhost:8080/"
        },
        "id": "DZNmYYezBQDf",
        "outputId": "a5457ab4-0111-49e9-bc97-0e642a3cd092"
      },
      "execution_count": null,
      "outputs": [
        {
          "output_type": "stream",
          "name": "stdout",
          "text": [
            "Total amount: 25\n",
            "Total amount: 50\n"
          ]
        }
      ]
    },
    {
      "cell_type": "markdown",
      "source": [
        "# ОТСЛЕЖИВАНИЕ СОСТОЯНИЯ"
      ],
      "metadata": {
        "id": "i63NvwwJCkfu"
      }
    },
    {
      "cell_type": "markdown",
      "source": [
        "Одно из классических предписаний для классов — у каждого из множества объектов есть некоторые меняющиеся состояния."
      ],
      "metadata": {
        "id": "bHWmSbL_Cl36"
      }
    },
    {
      "cell_type": "markdown",
      "source": [
        "Есть база клиентов с основной информацией; в реальном времени нам приходит информация о покупках. Запустим промокампанию, чтобы поощрить старых клиентов, которые сделали у нас много заказов, и выдать им скидку:\n"
      ],
      "metadata": {
        "id": "nynqGk5gC0Kq"
      }
    },
    {
      "cell_type": "markdown",
      "source": [
        "Есть база педагогов с основной информацией; в реальном времени поступает информация о преведенных обучающих онлайн-уроках. Запустим аналитическую кампанию, чтобы поощрить активных педагогов, которые провели много онлайн-уроков, и выдать им премию."
      ],
      "metadata": {
        "id": "gS4Fr31HNUpC"
      }
    },
    {
      "cell_type": "code",
      "source": [
        "class Teacher():  \n",
        "    # Базовые данные педагогов с основной информацией \n",
        "    def __init__(self, name, lesson_hours_num, training_course):  \n",
        "        self.name = name  \n",
        "        self.lesson_hours_num = lesson_hours_num  \n",
        "        self.training_course = training_course  \n",
        "        self.cash_bonus = 0  \n",
        "          \n",
        "    # Оформление заказа  \n",
        "    def make_lesson_hours(self, volume):  \n",
        "        self.update_cash_bonus()  \n",
        "        self.lesson_hours_num += 1.5  \n",
        "        # Здесь было бы оформление обучающих онлайн-уроков, но мы просто выведем объем бонуса за курс  \n",
        "        cash_bonused_volume = volume * (1 + self.cash_bonus)   \n",
        "        print(f\"Lesson hours volume for {self.name} is {cash_bonused_volume}\")  \n",
        "              \n",
        "    # Назначение бонуса  \n",
        "    def update_cash_bonus(self):   \n",
        "        if self.training_course > 3 and self.training_course <= 6  and self.lesson_hours_num <= 7:  \n",
        "            self.cash_bonus = 0.5  \n",
        "        if self.training_course > 6 and self.lesson_hours_num > 7:  \n",
        "            self.cash_bonus = 1.5 \n",
        "              \n",
        "  \n",
        "# Применение  \n",
        "          \n",
        "# Сделаем подобие базы  \n",
        "teacher_db = [   \n",
        "    Teacher(\"Акулова Рада\", 9, 7),  \n",
        "    Teacher(\"Петренко Тимур\", 6, 15),  \n",
        "    Teacher(\"Половцева Виолетта\", 7, 2)  \n",
        "]  \n",
        "  \n",
        "  \n",
        "# Сгенерируем обучающую нагрузку  \n",
        "teacher_db[0].make_lesson_hours(45_000)  \n",
        "# => Lesson hours volume for Акулова Рада is 112500.0  \n",
        "  \n",
        "teacher_db[1].make_lesson_hours(45_000)  \n",
        "# => Lesson hours volume for Петренко Тимур is 45000  \n",
        "  \n",
        "teacher_db[2].make_lesson_hours(45_000)  \n",
        "# => Lesson hours volume for Половцева Виолетта is 45000  "
      ],
      "metadata": {
        "id": "2yY01SQACqV6",
        "colab": {
          "base_uri": "https://localhost:8080/"
        },
        "outputId": "2ab46504-883f-4ce8-c2ab-25618fd7f9b3"
      },
      "execution_count": null,
      "outputs": [
        {
          "output_type": "stream",
          "name": "stdout",
          "text": [
            "Lesson hours volume for Акулова Рада is 112500.0\n",
            "Lesson hours volume for Петренко Тимур is 45000\n",
            "Lesson hours volume for Половцева Виолетта is 45000\n"
          ]
        }
      ]
    },
    {
      "cell_type": "markdown",
      "source": [],
      "metadata": {
        "id": "ARKnMPpBF7iF"
      }
    },
    {
      "cell_type": "code",
      "source": [
        "# Определим класс для пользователей User\n",
        "class User():  \n",
        "    # Базовые данные  \n",
        "    def __init__(self, email, password, balance):  \n",
        "        self.email = email  \n",
        "        self.password = password  \n",
        "        self.balance = balance  \n",
        "        update_balance=0\n",
        "    # метод login, который принимает емайл и пароль\n",
        "    def login(self, email, password):\n",
        "        # Если они совпадают с атрибутами объекта, он возвращает True, а иначе —False   \n",
        "        if self.email == email and self.password == password:  \n",
        "            answer=True\n",
        "        else:\n",
        "            answer=False\n",
        "        return answer\n",
        "    \n",
        "    # метод update_balance(amount) изменяет баланс счёта на величину amount\n",
        "    def update_balance(self, amount):  \n",
        "        self.balance += amount\n",
        "        return self.balance\n",
        "# Добавим аргументы к нашему классу\n",
        "user = User(\"gosha@roskino.org\", \"qwerty\", 20_000)\n",
        "\n",
        "print(user.login(\"gosha@roskino.org\", \"qwerty123\"))\n",
        "\n",
        "print(user.login(\"gosha@roskino.org\", \"qwerty\"))\n",
        "\n",
        "\n",
        "# Добавим аргументы к нашему классу\n",
        "user.update_balance(200)\n",
        "user.update_balance(-500)\n",
        "print(user.balance)\n",
        "                   "
      ],
      "metadata": {
        "colab": {
          "base_uri": "https://localhost:8080/"
        },
        "id": "SsM-BUQIF79N",
        "outputId": "ddf40fff-0f8a-46c2-eb4c-cadd68b5ddbd"
      },
      "execution_count": 1,
      "outputs": [
        {
          "output_type": "stream",
          "name": "stdout",
          "text": [
            "False\n",
            "True\n",
            "19700\n"
          ]
        }
      ]
    },
    {
      "cell_type": "markdown",
      "source": [
        "Добавим аргументы к нашему классу"
      ],
      "metadata": {
        "id": "sPCj2GMeK5BN"
      }
    },
    {
      "cell_type": "code",
      "source": [
        "\n",
        "class User():  \n",
        "    # Базовые данные  \n",
        "    def __init__(self, email, password, balance):  \n",
        "        self.email = email  \n",
        "        self.password = password  \n",
        "        self.balance = balance  \n",
        "        update_balance=0\n",
        "    #  \n",
        "    def login(self, email, password):   \n",
        "        if self.email == email and self.password == password:  \n",
        "            answer=True\n",
        "        else:\n",
        "            answer=False\n",
        "        return answer\n",
        "    \n",
        "    #   \n",
        "    def update_balance(self, amount):  \n",
        "        self.balance += amount\n",
        "        return self.balance\n",
        "email = 'gosha@roskino.org'\n",
        "password = 'qweasd963'\n",
        "balance = 50000\n",
        "\n",
        "print(User(email = 'gosha@roskino.org', password = 'qweasd963', balance = 50000).password)\n",
        "print(User(email = 'gosha@roskino.org', password = 'qweasd963', balance = 50000).balance)\n",
        "print(User(email = 'gosha@roskino.org', password = 'qweasd963', balance = 50000).email)\n",
        "print(User(email = 'gosha@roskino.org', password = 'qweasd963', balance = 50000).login(email = 'gosha@roskino.org', password = 'qweasd963'))\n",
        "\n"
      ],
      "metadata": {
        "colab": {
          "base_uri": "https://localhost:8080/"
        },
        "id": "3p_jGEE3K5To",
        "outputId": "6471dc6b-b8d1-4667-abf9-5bf554a5d92f"
      },
      "execution_count": 6,
      "outputs": [
        {
          "output_type": "stream",
          "name": "stdout",
          "text": [
            "qweasd963\n",
            "50000\n",
            "gosha@roskino.org\n",
            "True\n"
          ]
        }
      ]
    },
    {
      "cell_type": "markdown",
      "source": [
        "Добавим еще аргументов"
      ],
      "metadata": {
        "id": "3kshk7QkLr8x"
      }
    },
    {
      "cell_type": "code",
      "source": [
        "class User():  \n",
        "    # Базовые данные  \n",
        "    def __init__(self, email, password, balance):  \n",
        "        self.email = email  \n",
        "        self.password = password  \n",
        "        self.balance = balance  \n",
        "        update_balance=0\n",
        " \n",
        "    def login(self, email, password):   \n",
        "        if self.email == email and self.password == password:  \n",
        "            answer=True\n",
        "        else:\n",
        "            answer=False\n",
        "        return answer\n",
        "    \n",
        "    def update_balance(self, amount):  \n",
        "        self.balance += amount\n",
        "        return self.balance\n",
        "res = User(email='gosha@roskino.org', password='qweasd963', balance=50000)\n",
        "res.update_balance(6000)\n",
        "res.update_balance(-7000)\n",
        "\n",
        "print(res.balance)"
      ],
      "metadata": {
        "colab": {
          "base_uri": "https://localhost:8080/"
        },
        "id": "U6xiKcHvLhgg",
        "outputId": "3894faf6-f41c-4297-d807-4f33769b8b98"
      },
      "execution_count": 7,
      "outputs": [
        {
          "output_type": "stream",
          "name": "stdout",
          "text": [
            "49000\n"
          ]
        }
      ]
    },
    {
      "cell_type": "markdown",
      "source": [
        "# КОМБИНАЦИЯ ОПЕРАЦИЙ"
      ],
      "metadata": {
        "id": "QKBruJcRNCT6"
      }
    },
    {
      "cell_type": "markdown",
      "source": [
        "Допустим, нас есть численные данные из разных источников. Если они в виде строк, то нужно привести их к числам, а пропуски — заполнить значениями. Сделаем доступ к медиане, среднему значению и стандартному отклонению:"
      ],
      "metadata": {
        "id": "UYbXRot3PfUF"
      }
    },
    {
      "cell_type": "code",
      "source": [
        "# Импортируем библиотеку\n",
        "import statistics  \n",
        "\n",
        "# Определим класс численных данных \n",
        "class DataFrame():  \n",
        "    def __init__(self, column, fill_value=0):  \n",
        "        # Инициализируем атрибуты  \n",
        "        self.column = column  \n",
        "        self.fill_value = fill_value  \n",
        "        # Заполним пропуски  \n",
        "        self.fill_missed()  \n",
        "        # Конвертируем все элементы в числа  \n",
        "        self.to_float()  \n",
        "\n",
        "    # Заполним пропуски значениями      \n",
        "    def fill_missed(self):  \n",
        "        for i, value in enumerate(self.column):  \n",
        "            if value is None or value == '':  \n",
        "                self.column[i] = self.fill_value  \n",
        "\n",
        "    # Приводим строки к числам             \n",
        "    def to_float(self):  \n",
        "        self.column = [float(value) for value in self.column]  \n",
        "    \n",
        "    # Сделаем доступ к медиане  \n",
        "    def median(self):  \n",
        "        return statistics.median(self.column)  \n",
        "\n",
        "    # Сделаем доступ к среднему значению  \n",
        "    def mean(self):  \n",
        "        return statistics.mean(self.column)  \n",
        "\n",
        "    # Сделаем доступ к стандартному отклонению  \n",
        "    def deviation(self):  \n",
        "        return statistics.stdev(self.column)  \n",
        "      \n",
        "  \n",
        "      \n",
        "# Воспользуемся классом  \n",
        "df = DataFrame([\"1\", 17, 4, None, 8])  \n",
        "\n",
        "# Выводим на печать данные столбца   \n",
        "print(df.column)  \n",
        "# Выводим на печать стандартное отклонение  \n",
        "print(df.deviation())  \n",
        "# Выводим на печать медиану  \n",
        "print(df.median())  "
      ],
      "metadata": {
        "colab": {
          "base_uri": "https://localhost:8080/"
        },
        "id": "oxX3eb69Pfvg",
        "outputId": "0f0ea5af-ec7d-46c2-ffbd-7b6992e2ba04"
      },
      "execution_count": 9,
      "outputs": [
        {
          "output_type": "stream",
          "name": "stdout",
          "text": [
            "[1.0, 17.0, 4.0, 0.0, 8.0]\n",
            "6.892024376045111\n",
            "4.0\n"
          ]
        }
      ]
    },
    {
      "cell_type": "markdown",
      "source": [
        "Если вдруг у нас есть численные данные из разных источников, где необходимо список неотрицательных чисел привести к целым значениям, посчитать количество ненулевых элементов и вернуть число уникальных элементов."
      ],
      "metadata": {
        "id": "cEIdB_eTo4xq"
      }
    },
    {
      "cell_type": "code",
      "source": [
        "# Импортируем библиотеку\n",
        "import statistics \n",
        "import pandas as pd\n",
        "\n",
        "# Определим класс численных данных \n",
        "class IntDataFrame():  \n",
        "    def __init__(self, column, fill_value=0):  \n",
        "        # Инициализируем атрибуты  \n",
        "        self.column = column  \n",
        "        self.to_int()\n",
        "\n",
        "    # Приводим к целым значениям все числа в списке    \n",
        "    def to_int(self):\n",
        "        self.column=[int(value) for value in self.column]\n",
        "\n",
        "    # Cчитаем количество ненулевых элементов в списке             \n",
        "    def count(self):\n",
        "        # Задаем начальное значение количества ненулевых элементов\n",
        "        j=0\n",
        "        # Проходим циклом по списку элементов\n",
        "        for i, value in enumerate(self.column):\n",
        "            # Определим ненулевые элементы\n",
        "            if value>0:\n",
        "                # Если элемент ненулевой, то прибавляем его к общему количеству\n",
        "                j+=1\n",
        "        return j\n",
        "              \n",
        "    # Bозвращаeм число уникальных элементов в списке \n",
        "    def unique(self):\n",
        "        # Задаем пустой список\n",
        "        uniq=[]\n",
        "        # Проходим циклом по списку элементов\n",
        "        for i, value in enumerate(self.column):\n",
        "            # Если элемент уникальный, то прибавляем его к общему количеству\n",
        "            if value in uniq:\n",
        "                continue\n",
        "            else:\n",
        "                uniq.append(value)\n",
        "        return len(uniq)\n",
        "\n",
        "# Добавим численные данные к нашему классу IntDataFrame\n",
        "df = IntDataFrame([4.7, 4, 3, 0, 2.4, 0.3, 4])\n",
        "# Выводим на печать количество ненулевых элементов в списке\n",
        "df.count()\n",
        "# Выводим на печать число уникальных элементов в списке\n",
        "#df.unique()"
      ],
      "metadata": {
        "colab": {
          "base_uri": "https://localhost:8080/"
        },
        "id": "DpXzeq3nSNvB",
        "outputId": "d6edd050-3f9f-41cc-cf30-3645fec0edf4"
      },
      "execution_count": 12,
      "outputs": [
        {
          "output_type": "execute_result",
          "data": {
            "text/plain": [
              "5"
            ]
          },
          "metadata": {},
          "execution_count": 12
        }
      ]
    },
    {
      "cell_type": "code",
      "source": [
        "# Добавим численные данные к нашему классу IntDataFrame и выведем на печать число уникальных элементов в списке\n",
        "print(IntDataFrame([4.7, 4, 3, 0, 1, 1.6, 2.4, 0.3, 4]).unique())"
      ],
      "metadata": {
        "colab": {
          "base_uri": "https://localhost:8080/"
        },
        "id": "zyVuH27BbMLM",
        "outputId": "769088a1-3deb-4cf8-b30d-8ade750c88f9"
      },
      "execution_count": 13,
      "outputs": [
        {
          "output_type": "stream",
          "name": "stdout",
          "text": [
            "5\n"
          ]
        }
      ]
    },
    {
      "cell_type": "markdown",
      "source": [
        "Если вдруг у нас есть численные данные из разных источников, где необходимо список неотрицательных чисел для начала округлить, то можно:"
      ],
      "metadata": {
        "id": "lFSVLF_1oMkg"
      }
    },
    {
      "cell_type": "code",
      "source": [
        "# Определим класс численных данных \n",
        "class IntDataFrame():\n",
        "    # Будем принимать в __init__ численные данные\n",
        "    def __init__(self, nums):\n",
        "        self.nums = nums\n",
        "        print('До округления:', self.nums)\n",
        "        self.rnd()\n",
        "    \n",
        "    # Округляем численные данные до целого\n",
        "    def rnd(self):\n",
        "        for i, value in enumerate(self.nums):\n",
        "            self.nums[i] = round(value)\n",
        "        print('После округления:', self.nums)\n",
        "    \n",
        "    # Bозвращаeм количество ненулевых элементов в списке численных данных\n",
        "    def count(self):\n",
        "        result = len(self.nums) - self.nums.count(0)\n",
        "        return result\n",
        "    \n",
        "    # Bозвращаeм число уникальных элементов в списке численных данных\n",
        "    def unique(self):\n",
        "        return len(set(self.nums))\n",
        "\n",
        "df = IntDataFrame([4.7, 4, 3, 0, 2.4, 0.3, 4])\n",
        "#df = IntDataFrame([4.7, 4, 3, 0, 1, 1.6, 2.4, 0.3, 4])\n",
        "\n",
        "print('Кол-во ненулевых эл-тов: ', df.count())\n",
        "print('Кол-во уникальных эл-тов: ', df.unique())"
      ],
      "metadata": {
        "colab": {
          "base_uri": "https://localhost:8080/"
        },
        "id": "HSbqAU4ml5Ei",
        "outputId": "4bcbf45c-cd20-49c5-c5df-fd34e88289b8"
      },
      "execution_count": 20,
      "outputs": [
        {
          "output_type": "stream",
          "name": "stdout",
          "text": [
            "До округления: [4.7, 4, 3, 0, 2.4, 0.3, 4]\n",
            "После округления: [5, 4, 3, 0, 2, 0, 4]\n",
            "Кол-во ненулевых эл-тов:  5\n",
            "Кол-во уникальных эл-тов:  5\n"
          ]
        }
      ]
    },
    {
      "cell_type": "markdown",
      "source": [
        "# КЛАСС-ОБЁРТКА "
      ],
      "metadata": {
        "id": "mHBeIf2KeJX-"
      }
    },
    {
      "cell_type": "markdown",
      "source": [
        "Если вы делаете обработку данных и в конце каждого дня сохраняете результат в архив, то будет удобно, чтобы данные каждого дня лежали в отдельном файле для этого дня, при этом можно было бы получить данные за произвольный день."
      ],
      "metadata": {
        "id": "AJjAOYGieg8G"
      }
    },
    {
      "cell_type": "markdown",
      "source": [
        "Перед запуском кода создайте папку с названием __archive__ там же, где находится ноутбук:"
      ],
      "metadata": {
        "id": "OJqSMpDtfQC9"
      }
    },
    {
      "cell_type": "code",
      "source": [
        "# Импортируем библиотеки. Это важно\n",
        "import pickle  \n",
        "from datetime import datetime  \n",
        "from os import path  \n",
        "\n",
        "# Определим класс  \n",
        "class Dumper():  \n",
        "    def __init__(self, archive_dir=\"archive/\"):  \n",
        "        self.archive_dir = archive_dir  \n",
        "          \n",
        "    def dump(self, data):  \n",
        "        # Библиотека pickle позволяет доставать и класть объекты в файл  \n",
        "        with open(self.get_file_name(), 'wb') as file:  \n",
        "            pickle.dump(data, file) \n",
        "\n",
        "    # Задаем метод load_for_day, который сохраняет результат каждого дня в архив          \n",
        "    def load_for_day(self, day):  \n",
        "        file_name = path.join(self.archive_dir, day + \".pkl\")   \n",
        "        with open(file_name, 'rb') as file:  \n",
        "            sets = pickle.load(file)  \n",
        "        return sets  \n",
        "          \n",
        "    # Задаем метод get_file_name, который возвращает корректное имя для файла   \n",
        "    def get_file_name(self):   \n",
        "        today = datetime.now().strftime(\"%y-%m-%d\")   \n",
        "        return path.join(self.archive_dir, today + \".pkl\")  \n",
        "      \n",
        "      \n",
        "# Пример использования  \n",
        "  \n",
        "data = {  \n",
        "    'perfomance': [10, 20, 10],  \n",
        "    'clients': {\"Romashka\": 10, \"Vector\": 34}  \n",
        "}  \n",
        "  \n",
        "  \n",
        "dumper = Dumper()  \n",
        "  \n",
        "# Сохраним данные  \n",
        "dumper.dump(data)  \n",
        "  \n",
        "# Восстановим для сегодняшней даты  \n",
        "file_name = datetime.now().strftime(\"%y-%m-%d\")\n",
        "restored_data = dumper.load_for_day(file_name)\n",
        "print(restored_data)  \n",
        "# => {'perfomance': [10, 20, 10], 'clients': {'Romashka': 10, 'Vector': 34}}  "
      ],
      "metadata": {
        "colab": {
          "base_uri": "https://localhost:8080/"
        },
        "id": "EmshrhOZZ13C",
        "outputId": "2421c823-56bc-4a1f-8dd3-87c6483dd089"
      },
      "execution_count": 21,
      "outputs": [
        {
          "output_type": "stream",
          "name": "stdout",
          "text": [
            "{'perfomance': [10, 20, 10], 'clients': {'Romashka': 10, 'Vector': 34}}\n"
          ]
        }
      ]
    },
    {
      "cell_type": "markdown",
      "source": [],
      "metadata": {
        "id": "KT6szacekKrM"
      }
    },
    {
      "cell_type": "code",
      "source": [
        "# Определим класс сборщика технических сообщений OwnLogger\n",
        "class OwnLogger():  \n",
        "    # Будем принимать в __init__ сообщения\n",
        "    def __init__(self):\n",
        "        self.messages = dict()\n",
        "        self.last_level = ''\n",
        "    \n",
        "    # Задаем метод log(message, level), который записывает сообщения\n",
        "    def log(self, message, level):\n",
        "        # Здесь сообщение message может быть любым, а level — один из \"info\", \"warning\", \"error\"  \n",
        "        if level in ['info','warning','error']:\n",
        "            self.messages[level] = message\n",
        "            self.last_level = level\n",
        "        else:\n",
        "            return print('Error level')\n",
        "    # Задаем метод show_last(level), где level может быть \"info\", \"warning\", \"error\", \"all\".\n",
        "    def show_last(self, level='all'):\n",
        "        if level == 'all':\n",
        "            return print(self.messages[self.last_level])\n",
        "        if level in self.messages.keys():\n",
        "            return print(self.messages[level]) \n",
        "        else:\n",
        "            return None"
      ],
      "metadata": {
        "id": "cIs0W-pVkK5n"
      },
      "execution_count": 17,
      "outputs": []
    },
    {
      "cell_type": "markdown",
      "source": [
        "Альтернативный подход к созданию класса сборщика технических сообщений"
      ],
      "metadata": {
        "id": "44gYom0ZsgB6"
      }
    },
    {
      "cell_type": "code",
      "source": [
        "# Определим класс сборщика технических сообщений\n",
        "class OwnLogger():\n",
        "    \n",
        "    # Будем принимать в __init__ сообщения. Если подходящего сообщения нет, возвращает None\n",
        "    def __init__(self):\n",
        "        self.logs = {\"info\": None, \"warning\": None, \"error\": None, \"all\": None}\n",
        "    \n",
        "    # Задаем метод log(message, level), который записывает сообщения\n",
        "    def log(self, message, level):\n",
        "        self.logs[level] = message\n",
        "        self.logs['all'] = message\n",
        "    \n",
        "    # Задаем метод show_last(level), где level может быть \"info\", \"warning\", \"error\", \"all\"\n",
        "    # Для \"all\" он просто возвращает последнее добавленное сообщение, \n",
        "    # а для остальных — последнее поступившее сообщение соответствующего уровня. При этом по умолчанию значение именно \"all\".\n",
        "    def show_last(self, level='all'):\n",
        "        return self.logs[level]\n",
        "\n",
        "logger = OwnLogger()\n",
        "logger.log(\"System started\", \"info\")\n",
        "logger.show_last(\"error\")\n",
        "# None\n",
        "# Некоторые интерпретаторы Python могут не выводить None, тогда в этой проверке у вас будет пустая строка\n",
        "logger.log(\"Connection instable\", \"warning\")\n",
        "logger.log(\"Connection lost\", \"error\")\n",
        "\n",
        "logger.show_last()\n",
        "# Connection lost\n",
        "logger.show_last(\"info\")\n",
        "# System started"
      ],
      "metadata": {
        "colab": {
          "base_uri": "https://localhost:8080/",
          "height": 36
        },
        "id": "Sm5427FNkZ4a",
        "outputId": "8d8feb50-8555-465f-ea44-4905fe51eb1e"
      },
      "execution_count": 33,
      "outputs": [
        {
          "output_type": "execute_result",
          "data": {
            "text/plain": [
              "'System started'"
            ],
            "application/vnd.google.colaboratory.intrinsic+json": {
              "type": "string"
            }
          },
          "metadata": {},
          "execution_count": 33
        }
      ]
    },
    {
      "cell_type": "code",
      "source": [
        "print(OwnLogger().logs)"
      ],
      "metadata": {
        "colab": {
          "base_uri": "https://localhost:8080/"
        },
        "id": "TO5pH84oxz-X",
        "outputId": "6413ae41-06eb-4b00-f3b3-403dd7c03725"
      },
      "execution_count": 34,
      "outputs": [
        {
          "output_type": "stream",
          "name": "stdout",
          "text": [
            "{'info': None, 'warning': None, 'error': None, 'all': None}\n"
          ]
        }
      ]
    },
    {
      "cell_type": "code",
      "source": [
        "res = OwnLogger()\n",
        "res.log(message='System started', level='info')\n",
        "res.log(message='System started 2', level='info')\n",
        "res.log(message='Warning message', level='warning')\n",
        "\n",
        "print(res.show_last())"
      ],
      "metadata": {
        "colab": {
          "base_uri": "https://localhost:8080/"
        },
        "id": "AoH7AuOGx4Pg",
        "outputId": "2a4dc04b-d5dc-45fb-cc96-059854cc5f2c"
      },
      "execution_count": 37,
      "outputs": [
        {
          "output_type": "stream",
          "name": "stdout",
          "text": [
            "Warning message\n"
          ]
        }
      ]
    },
    {
      "cell_type": "code",
      "source": [
        "class OwnLogger():\n",
        "    \n",
        "    # Будем принимать в __init__ журнал сообщений\n",
        "    def __init__(self):\n",
        "        # Задаем пустой журнал, куда будем вносить сообщения\n",
        "        self.journal = []\n",
        "    \n",
        "    # Задаем метод log(message, level), который записывает сообщения\n",
        "    def log(self, message, level):\n",
        "        # Заполняем журнал сообщениями\n",
        "        self.journal.append((message, level))\n",
        "\n",
        "    # Задаем метод show_last(level), где level может быть \"info\", \"warning\", \"error\", \"all\"\n",
        "    # Если подходящего сообщения нет, возвращает None        \n",
        "    def show_last(self, level=\"any\"):\n",
        "        res = None\n",
        "        j_len = len(self.journal)\n",
        "        if (level == 'any') and (j_len > 0):\n",
        "            res = self.journal[j_len-1][0]\n",
        "        elif (level != 'any') and (j_len > 0):\n",
        "            self.journal.reverse()\n",
        "            for _, value in enumerate(self.journal):\n",
        "                if value[1] == level:\n",
        "                    res = value[0]\n",
        "                    break\n",
        "            self.journal.reverse()            \n",
        "        return(res)\n",
        "\n",
        "logger = OwnLogger()\n",
        "print(logger.log)"
      ],
      "metadata": {
        "colab": {
          "base_uri": "https://localhost:8080/"
        },
        "id": "aPtLcYb7lOh6",
        "outputId": "c294fe27-567e-482c-ee27-89e6977d2352"
      },
      "execution_count": 36,
      "outputs": [
        {
          "output_type": "stream",
          "name": "stdout",
          "text": [
            "<bound method OwnLogger.log of <__main__.OwnLogger object at 0x7f9c55b5cf70>>\n"
          ]
        }
      ]
    },
    {
      "cell_type": "markdown",
      "source": [
        "# ИМПОРТ И ОРГАНИЗАЦИЯ КОДА"
      ],
      "metadata": {
        "id": "AxsaL2MAtzQL"
      }
    },
    {
      "cell_type": "markdown",
      "source": [
        "Для того, чтобы заданный класс можно было __импортировать__ как и любую библиотеку, нужно положить класс в отдельный файл в корне проекта и использовать ключевое слово __import__. "
      ],
      "metadata": {
        "id": "h5cGMQzHySHT"
      }
    },
    {
      "cell_type": "code",
      "source": [
        "# Например, если мы положим OwnLogger в файл ownlogger.py в корне проекта, то его можно импортировать командой:\n",
        "from ownlogger import OwnLogger  "
      ],
      "metadata": {
        "id": "es_Osde_0e1s"
      },
      "execution_count": null,
      "outputs": []
    },
    {
      "cell_type": "markdown",
      "source": [
        "Пишем from __<имя файла без .py>__ import __<имя класса>__. Имя файла должно начинаться с буквы и не совпадать с именами библиотечных модулей. Если файлов с классами много, их можно складывать в папки, предварительно положив туда пустой файл **__**init**__**.py — это требование Python."
      ],
      "metadata": {
        "id": "3haPiT1w1J7V"
      }
    },
    {
      "cell_type": "markdown",
      "source": [
        "Сгруппируем классы из примеров в папке classes. Структура файлов:"
      ],
      "metadata": {
        "id": "sslEgcQk1KC7"
      }
    },
    {
      "cell_type": "markdown",
      "source": [
        "classes\n",
        "\n",
        "-- -- **__**init**__**.py\n",
        "\n",
        "-- -- dumper.py\n",
        "\n",
        "-- -- ownlogger.py\n",
        "\n",
        "-- -- int_data_frame.py\n",
        "\n",
        "-- -- user.py"
      ],
      "metadata": {
        "id": "36TPeze72Bvm"
      }
    },
    {
      "cell_type": "markdown",
      "source": [
        "Импортируем, соединяя все шаги через точку с помощью того же синтаксиса, что использовался для импорта библиотечных функций"
      ],
      "metadata": {
        "id": "VbaGpydV3bW3"
      }
    },
    {
      "cell_type": "code",
      "source": [
        "from classes.dumper import Dumper  \n",
        "from classes.ownlogger import OwnLogger  \n",
        "from classes.int_data_frame import IntDataFrame\n",
        "from classes.user import User "
      ],
      "metadata": {
        "id": "SyfdQ88M1-T3"
      },
      "execution_count": null,
      "outputs": []
    }
  ]
}