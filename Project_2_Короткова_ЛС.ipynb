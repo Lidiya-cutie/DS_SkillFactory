{
  "cells": [
    {
      "cell_type": "markdown",
      "metadata": {
        "id": "view-in-github",
        "colab_type": "text"
      },
      "source": [
        "<a href=\"https://colab.research.google.com/github/Lidiya-cutie/DS_SkillFactory/blob/main/Project_2_%D0%9A%D0%BE%D1%80%D0%BE%D1%82%D0%BA%D0%BE%D0%B2%D0%B0_%D0%9B%D0%A1.ipynb\" target=\"_parent\"><img src=\"https://colab.research.google.com/assets/colab-badge.svg\" alt=\"Open In Colab\"/></a>"
      ]
    },
    {
      "cell_type": "markdown",
      "id": "42289889-bd57-434e-9637-d3e354756316",
      "metadata": {
        "id": "42289889-bd57-434e-9637-d3e354756316"
      },
      "source": [
        "<center> <img src = https://raw.githubusercontent.com/AndreyRysistov/DatasetsForPandas/main/hh%20label.jpg alt=\"drawing\" style=\"width:400px;\">"
      ]
    },
    {
      "cell_type": "markdown",
      "id": "829cb75b-f14e-4ba8-9195-7ba929a7d656",
      "metadata": {
        "tags": [],
        "id": "829cb75b-f14e-4ba8-9195-7ba929a7d656"
      },
      "source": [
        "# <center> Проект: Анализ вакансий из HeadHunter\n",
        "   "
      ]
    },
    {
      "cell_type": "code",
      "execution_count": 1,
      "id": "dccfde33-2452-43fb-a8a5-5c6ebc02a71d",
      "metadata": {
        "id": "dccfde33-2452-43fb-a8a5-5c6ebc02a71d"
      },
      "outputs": [],
      "source": [
        "import pandas as pd\n",
        "import psycopg2"
      ]
    },
    {
      "cell_type": "code",
      "source": [
        "# вставьте сюда параметры подключения из юнита 1. Работа с базой данных из Python "
      ],
      "metadata": {
        "id": "oVKH4ehvf8Ay"
      },
      "id": "oVKH4ehvf8Ay",
      "execution_count": null,
      "outputs": []
    },
    {
      "cell_type": "code",
      "source": [
        "connection = psycopg2.connect(\n",
        "    dbname = 'project_sql',\n",
        "    user = 'skillfactory',\n",
        "    host = '84.201.134.129',\n",
        "    password = 'cCkxxLVrDE8EbvjueeMedPKt',\n",
        "    port = 5432\n",
        ")"
      ],
      "metadata": {
        "id": "G4X_q8KBf7SF"
      },
      "id": "G4X_q8KBf7SF",
      "execution_count": 2,
      "outputs": []
    },
    {
      "cell_type": "markdown",
      "id": "0dc6476b-7a00-44f1-ac93-6e3baed33a29",
      "metadata": {
        "id": "0dc6476b-7a00-44f1-ac93-6e3baed33a29"
      },
      "source": [
        "# Юнит 3. Предварительный анализ данных"
      ]
    },
    {
      "cell_type": "markdown",
      "id": "889782b6-8d1c-410e-8920-e57f27917c64",
      "metadata": {
        "id": "889782b6-8d1c-410e-8920-e57f27917c64"
      },
      "source": [
        "1. Напишите запрос, который посчитает количество вакансий в нашей базе (вакансии находятся в таблице vacancies). "
      ]
    },
    {
      "cell_type": "code",
      "execution_count": null,
      "id": "bc39e68e-ed02-4ee2-9235-7258a2f867a8",
      "metadata": {
        "id": "bc39e68e-ed02-4ee2-9235-7258a2f867a8"
      },
      "outputs": [],
      "source": [
        "# текст запроса\n",
        "query_3_1 = f'''SELECT COUNT(*) cnt_vac\n",
        "                FROM public.vacancies\n",
        "          '''\n",
        "df = pd.read_sql_query(query_3_1, connection)\n",
        "df"
      ]
    },
    {
      "cell_type": "code",
      "source": [
        "# результат запроса\n",
        "|index|cnt_vac|\n",
        "|-----|-------|\n",
        "|  0  | 49197 |"
      ],
      "metadata": {
        "id": "7mAwtsk4hEHY"
      },
      "id": "7mAwtsk4hEHY",
      "execution_count": null,
      "outputs": []
    },
    {
      "cell_type": "markdown",
      "id": "b583485d-1f9e-494e-ada4-80ffff7c53d6",
      "metadata": {
        "id": "b583485d-1f9e-494e-ada4-80ffff7c53d6"
      },
      "source": [
        "2. Напишите запрос, который посчитает количество работодателей (таблица employers). "
      ]
    },
    {
      "cell_type": "code",
      "execution_count": null,
      "id": "5408c52c-3407-4a63-b25b-1aafa2322d28",
      "metadata": {
        "id": "5408c52c-3407-4a63-b25b-1aafa2322d28"
      },
      "outputs": [],
      "source": [
        "# текст запроса\n",
        "query_3_2 = f'''SELECT COUNT(*)\n",
        "            FROM public.employers\n",
        "         '''\n",
        "df = pd.read_sql_query(query_3_2, connection)\n",
        "df"
      ]
    },
    {
      "cell_type": "code",
      "source": [
        "# результат запроса\n",
        "|index|count|\n",
        "|-----|-----|\n",
        "|  0  |23501|"
      ],
      "metadata": {
        "id": "jVL4eshKhdqc"
      },
      "id": "jVL4eshKhdqc",
      "execution_count": null,
      "outputs": []
    },
    {
      "cell_type": "markdown",
      "id": "a2bfff1f-c975-4bf6-84be-2185d79dcb76",
      "metadata": {
        "id": "a2bfff1f-c975-4bf6-84be-2185d79dcb76"
      },
      "source": [
        "3. Посчитате с помощью запроса количество регионов (таблица areas)."
      ]
    },
    {
      "cell_type": "code",
      "source": [
        "# текст запроса\n",
        "query_3_3 = f'''SELECT COUNT(*)\n",
        "            FROM public.areas\n",
        "         '''\n",
        "df = pd.read_sql_query(query_3_3, connection)\n",
        "df"
      ],
      "metadata": {
        "id": "1m8QJwBYhey6"
      },
      "id": "1m8QJwBYhey6",
      "execution_count": null,
      "outputs": []
    },
    {
      "cell_type": "code",
      "source": [
        "# результат запроса\n",
        "|index|count|\n",
        "|-----|-----|\n",
        "|  0  | 1362|"
      ],
      "metadata": {
        "id": "EZsn9tlfhe7f"
      },
      "id": "EZsn9tlfhe7f",
      "execution_count": null,
      "outputs": []
    },
    {
      "cell_type": "markdown",
      "id": "41bb59f3-53cc-4a67-a5bc-bedf573955e4",
      "metadata": {
        "id": "41bb59f3-53cc-4a67-a5bc-bedf573955e4"
      },
      "source": [
        "4. Посчитате с помощью запроса количество сфер деятельности в базе (таблица industries)."
      ]
    },
    {
      "cell_type": "code",
      "execution_count": null,
      "id": "d286cf4c-707b-4cd2-9190-7ab3587d04a1",
      "metadata": {
        "id": "d286cf4c-707b-4cd2-9190-7ab3587d04a1"
      },
      "outputs": [],
      "source": [
        "# текст запроса\n",
        "query_3_4 = f'''SELECT COUNT(*) cnt_industries\n",
        "            FROM public.industries\n",
        "         '''\n",
        "df = pd.read_sql_query(query_3_4, connection)\n",
        "df"
      ]
    },
    {
      "cell_type": "code",
      "source": [
        "# результат запроса\n",
        "|index|cnt_industries|\n",
        "|-----|--------------|\n",
        "|  0  |     294      |"
      ],
      "metadata": {
        "id": "JYAaoZ4qhfzW"
      },
      "id": "JYAaoZ4qhfzW",
      "execution_count": null,
      "outputs": []
    },
    {
      "cell_type": "markdown",
      "id": "9a8a2181-6914-448b-85f1-38f5f18b8a93",
      "metadata": {
        "id": "9a8a2181-6914-448b-85f1-38f5f18b8a93"
      },
      "source": [
        "***"
      ]
    },
    {
      "cell_type": "code",
      "execution_count": null,
      "id": "be4e9bd3-a4db-4a20-82fb-6b02fc2957e0",
      "metadata": {
        "id": "be4e9bd3-a4db-4a20-82fb-6b02fc2957e0"
      },
      "outputs": [],
      "source": [
        "# выводы по предварительному анализу данных"
      ]
    },
    {
      "cell_type": "markdown",
      "source": [
        "Итого:\n",
        "\n",
        "Всего вакансии: 49197\n",
        "\n",
        "Всего работодателей: 23501\n",
        "\n",
        "Всего регионов(населенных пунктов): 1362\n",
        "\n",
        "Всего сфер деятельности: 294\n",
        "\n",
        "Предварительно, зная только эту информацию и учитывая связи между данными, можно определенно утвреждать, что:\n",
        "\n",
        "* в среднем работодатель предлагает около 2-х вакансий (49197 / 23501)\n",
        "* в среднем как минимум в одном в регионе предлагается примерно 36 вакансий (49197 / 1362)\n",
        "* в среднем на одну сферу деятельности предлагается около 167 вакансий (49197 / 294)\n",
        "* в среднем на один регион приходится по 17 работодателей (23501 / 1362)\n",
        "* в среднем одна индустрия представлена 79 компаниями (работодателями) (23501 / 294)"
      ],
      "metadata": {
        "id": "Nq8DOqFg7rfg"
      },
      "id": "Nq8DOqFg7rfg"
    },
    {
      "cell_type": "markdown",
      "id": "8d62a9f3-f64e-4fe7-bdac-c4dffa16155e",
      "metadata": {
        "id": "8d62a9f3-f64e-4fe7-bdac-c4dffa16155e"
      },
      "source": [
        "# Юнит 4. Детальный анализ вакансий"
      ]
    },
    {
      "cell_type": "markdown",
      "id": "93053d3d-b284-481a-9cf7-012d7014c0e0",
      "metadata": {
        "id": "93053d3d-b284-481a-9cf7-012d7014c0e0"
      },
      "source": [
        "1. Напишите запрос, который позволит узнать, сколько (cnt) вакансий в каждом регионе (area).\n",
        "Отсортируйте по количеству вакансий в порядке убывания."
      ]
    },
    {
      "cell_type": "code",
      "execution_count": null,
      "id": "3f069da6-fdc9-4ae7-b514-fafe2675efd3",
      "metadata": {
        "id": "3f069da6-fdc9-4ae7-b514-fafe2675efd3"
      },
      "outputs": [],
      "source": [
        "# текст запроса\n",
        "n = 5\n",
        "query_4_1 = f'''SELECT\n",
        "                    a.name,\n",
        "                    COUNT(v.id) cnt\n",
        "                FROM public.VACANCIES v\n",
        "                    JOIN public.employers e ON v.employer_id = e.id\n",
        "                    JOIN public.areas a ON v.area_id = a.id\n",
        "                GROUP BY a.name\n",
        "                ORDER BY 2 DESC\n",
        "                limit {n}\n",
        "                '''\n"
      ]
    },
    {
      "cell_type": "code",
      "source": [
        "df = pd.read_sql_query(query_4_1, connection)\n",
        "df"
      ],
      "metadata": {
        "id": "zLbacbRzr5SO"
      },
      "id": "zLbacbRzr5SO",
      "execution_count": null,
      "outputs": []
    },
    {
      "cell_type": "code",
      "source": [
        "# результат запроса\n",
        "|index|     name      |cnt |\n",
        "|-----|---------------|----|\n",
        "|  0  |   Москва      |5333|\n",
        "|  1  |Санкт-Петербург|2851|\n",
        "|  2  |    Минск      |2112|\n",
        "|  3  |  Новосибирск  |2006|\n",
        "|  4  |   Алматы      |1892|"
      ],
      "metadata": {
        "id": "P7QL86hrjhRJ"
      },
      "id": "P7QL86hrjhRJ",
      "execution_count": null,
      "outputs": []
    },
    {
      "cell_type": "markdown",
      "id": "4266f0b6-1646-492a-88b4-2f6a46502135",
      "metadata": {
        "id": "4266f0b6-1646-492a-88b4-2f6a46502135"
      },
      "source": [
        "2. Напишите запрос, чтобы определить у какого количества вакансий заполнено хотя бы одно из двух полей с зарплатой."
      ]
    },
    {
      "cell_type": "code",
      "execution_count": null,
      "id": "0c44b350-72eb-4d65-8b54-a1fc449ba9fd",
      "metadata": {
        "id": "0c44b350-72eb-4d65-8b54-a1fc449ba9fd"
      },
      "outputs": [],
      "source": [
        "# текст запроса\n",
        "query_4_2 = f'''SELECT\n",
        "                  COUNT(v.id) cnt\n",
        "                FROM public.vacancies v\n",
        "                WHERE salary_from IS NOT NULL OR salary_to IS NOT NULL\n",
        "             '''\n",
        "df = pd.read_sql_query(query_4_2, connection)\n",
        "df"
      ]
    },
    {
      "cell_type": "code",
      "source": [
        "# результат запроса\n",
        "|index| cnt |\n",
        "|-----|-----|\n",
        "|  0  |24073|"
      ],
      "metadata": {
        "id": "rhvwaMDkoWTi"
      },
      "id": "rhvwaMDkoWTi",
      "execution_count": null,
      "outputs": []
    },
    {
      "cell_type": "markdown",
      "id": "635c4d5d-f323-4c66-b428-50a088120aa0",
      "metadata": {
        "id": "635c4d5d-f323-4c66-b428-50a088120aa0"
      },
      "source": [
        "3. Найдите средние значения для нижней и верхней границы зарплатной вилки. Округлите значения до целого."
      ]
    },
    {
      "cell_type": "code",
      "execution_count": null,
      "id": "603cdbe4-0ec3-4106-8eaf-c73fcdd29165",
      "metadata": {
        "id": "603cdbe4-0ec3-4106-8eaf-c73fcdd29165",
        "colab": {
          "base_uri": "https://localhost:8080/",
          "height": 135
        },
        "outputId": "a3842321-2178-457c-ff1d-67923cb6d292"
      },
      "outputs": [
        {
          "output_type": "stream",
          "name": "stderr",
          "text": [
            "<ipython-input-26-9940bf2a2926>:7: UserWarning: pandas only supports SQLAlchemy connectable (engine/connection) or database string URI or sqlite3 DBAPI2 connection. Other DBAPI2 objects are not tested. Please consider using SQLAlchemy.\n",
            "  df = pd.read_sql_query(query_4_3, connection)\n"
          ]
        },
        {
          "output_type": "execute_result",
          "data": {
            "text/plain": [
              "   avg_salary_from  avg_salary_to\n",
              "0          71065.0       110537.0"
            ],
            "text/html": [
              "\n",
              "  <div id=\"df-7b416dd7-3bda-40a7-8678-f226c157b998\">\n",
              "    <div class=\"colab-df-container\">\n",
              "      <div>\n",
              "<style scoped>\n",
              "    .dataframe tbody tr th:only-of-type {\n",
              "        vertical-align: middle;\n",
              "    }\n",
              "\n",
              "    .dataframe tbody tr th {\n",
              "        vertical-align: top;\n",
              "    }\n",
              "\n",
              "    .dataframe thead th {\n",
              "        text-align: right;\n",
              "    }\n",
              "</style>\n",
              "<table border=\"1\" class=\"dataframe\">\n",
              "  <thead>\n",
              "    <tr style=\"text-align: right;\">\n",
              "      <th></th>\n",
              "      <th>avg_salary_from</th>\n",
              "      <th>avg_salary_to</th>\n",
              "    </tr>\n",
              "  </thead>\n",
              "  <tbody>\n",
              "    <tr>\n",
              "      <th>0</th>\n",
              "      <td>71065.0</td>\n",
              "      <td>110537.0</td>\n",
              "    </tr>\n",
              "  </tbody>\n",
              "</table>\n",
              "</div>\n",
              "      <button class=\"colab-df-convert\" onclick=\"convertToInteractive('df-7b416dd7-3bda-40a7-8678-f226c157b998')\"\n",
              "              title=\"Convert this dataframe to an interactive table.\"\n",
              "              style=\"display:none;\">\n",
              "        \n",
              "  <svg xmlns=\"http://www.w3.org/2000/svg\" height=\"24px\"viewBox=\"0 0 24 24\"\n",
              "       width=\"24px\">\n",
              "    <path d=\"M0 0h24v24H0V0z\" fill=\"none\"/>\n",
              "    <path d=\"M18.56 5.44l.94 2.06.94-2.06 2.06-.94-2.06-.94-.94-2.06-.94 2.06-2.06.94zm-11 1L8.5 8.5l.94-2.06 2.06-.94-2.06-.94L8.5 2.5l-.94 2.06-2.06.94zm10 10l.94 2.06.94-2.06 2.06-.94-2.06-.94-.94-2.06-.94 2.06-2.06.94z\"/><path d=\"M17.41 7.96l-1.37-1.37c-.4-.4-.92-.59-1.43-.59-.52 0-1.04.2-1.43.59L10.3 9.45l-7.72 7.72c-.78.78-.78 2.05 0 2.83L4 21.41c.39.39.9.59 1.41.59.51 0 1.02-.2 1.41-.59l7.78-7.78 2.81-2.81c.8-.78.8-2.07 0-2.86zM5.41 20L4 18.59l7.72-7.72 1.47 1.35L5.41 20z\"/>\n",
              "  </svg>\n",
              "      </button>\n",
              "      \n",
              "  <style>\n",
              "    .colab-df-container {\n",
              "      display:flex;\n",
              "      flex-wrap:wrap;\n",
              "      gap: 12px;\n",
              "    }\n",
              "\n",
              "    .colab-df-convert {\n",
              "      background-color: #E8F0FE;\n",
              "      border: none;\n",
              "      border-radius: 50%;\n",
              "      cursor: pointer;\n",
              "      display: none;\n",
              "      fill: #1967D2;\n",
              "      height: 32px;\n",
              "      padding: 0 0 0 0;\n",
              "      width: 32px;\n",
              "    }\n",
              "\n",
              "    .colab-df-convert:hover {\n",
              "      background-color: #E2EBFA;\n",
              "      box-shadow: 0px 1px 2px rgba(60, 64, 67, 0.3), 0px 1px 3px 1px rgba(60, 64, 67, 0.15);\n",
              "      fill: #174EA6;\n",
              "    }\n",
              "\n",
              "    [theme=dark] .colab-df-convert {\n",
              "      background-color: #3B4455;\n",
              "      fill: #D2E3FC;\n",
              "    }\n",
              "\n",
              "    [theme=dark] .colab-df-convert:hover {\n",
              "      background-color: #434B5C;\n",
              "      box-shadow: 0px 1px 3px 1px rgba(0, 0, 0, 0.15);\n",
              "      filter: drop-shadow(0px 1px 2px rgba(0, 0, 0, 0.3));\n",
              "      fill: #FFFFFF;\n",
              "    }\n",
              "  </style>\n",
              "\n",
              "      <script>\n",
              "        const buttonEl =\n",
              "          document.querySelector('#df-7b416dd7-3bda-40a7-8678-f226c157b998 button.colab-df-convert');\n",
              "        buttonEl.style.display =\n",
              "          google.colab.kernel.accessAllowed ? 'block' : 'none';\n",
              "\n",
              "        async function convertToInteractive(key) {\n",
              "          const element = document.querySelector('#df-7b416dd7-3bda-40a7-8678-f226c157b998');\n",
              "          const dataTable =\n",
              "            await google.colab.kernel.invokeFunction('convertToInteractive',\n",
              "                                                     [key], {});\n",
              "          if (!dataTable) return;\n",
              "\n",
              "          const docLinkHtml = 'Like what you see? Visit the ' +\n",
              "            '<a target=\"_blank\" href=https://colab.research.google.com/notebooks/data_table.ipynb>data table notebook</a>'\n",
              "            + ' to learn more about interactive tables.';\n",
              "          element.innerHTML = '';\n",
              "          dataTable['output_type'] = 'display_data';\n",
              "          await google.colab.output.renderOutput(dataTable, element);\n",
              "          const docLink = document.createElement('div');\n",
              "          docLink.innerHTML = docLinkHtml;\n",
              "          element.appendChild(docLink);\n",
              "        }\n",
              "      </script>\n",
              "    </div>\n",
              "  </div>\n",
              "  "
            ]
          },
          "metadata": {},
          "execution_count": 26
        }
      ],
      "source": [
        "# текст запроса\n",
        "query_4_3 = f'''SELECT\n",
        "                     ROUND(AVG(salary_from)) avg_salary_from,\n",
        "                     ROUND(AVG(salary_to)) avg_salary_to\n",
        "                 FROM public.vacancies v\n",
        "             '''\n",
        "df = pd.read_sql_query(query_4_3, connection)\n",
        "df"
      ]
    },
    {
      "cell_type": "code",
      "source": [
        "# результат запроса\n",
        "|index|avg_salary_from|avg_salary_to|\n",
        "|-----|---------------|-------------|\n",
        "|  0  |    71065.0    |  110537.0   |"
      ],
      "metadata": {
        "id": "pswpAb66ovZZ"
      },
      "id": "pswpAb66ovZZ",
      "execution_count": null,
      "outputs": []
    },
    {
      "cell_type": "markdown",
      "id": "f3fdaec9-5fd3-4260-9cf5-1d7406b628a5",
      "metadata": {
        "id": "f3fdaec9-5fd3-4260-9cf5-1d7406b628a5"
      },
      "source": [
        "4. Напишите запрос, который выведет количество вакансий для каждого сочетания типа рабочего графика (schedule) и типа трудоустройства (employment), используемого в вакансиях. Результат отсортируйте по убыванию количества.\n"
      ]
    },
    {
      "cell_type": "code",
      "execution_count": null,
      "id": "1ea710ec-871b-431e-9462-c7d0fd87011b",
      "metadata": {
        "id": "1ea710ec-871b-431e-9462-c7d0fd87011b"
      },
      "outputs": [],
      "source": [
        "# текст запроса\n",
        "query_4_4 = f'''SELECT\n",
        "                  v.schedule,\n",
        "                  v.employment,\n",
        "                  COUNT(v.employment)\n",
        "                FROM public.VACANCIES v\n",
        "                GROUP BY  1, 2\n",
        "                ORDER BY 3 DESC\n",
        "                OFFSET 1 LIMIT 1\n",
        "              '''\n",
        "df = pd.read_sql_query(query_4_4, connection)\n",
        "df"
      ]
    },
    {
      "cell_type": "code",
      "source": [
        "# результат запроса\n",
        "|index|    schedule    |   employment   |count|\n",
        "|-----|----------------|----------------|-----|\n",
        "|  0  |Удаленная работа|Полная занятость| 7802|"
      ],
      "metadata": {
        "id": "lGUVqavdo4JQ"
      },
      "id": "lGUVqavdo4JQ",
      "execution_count": null,
      "outputs": []
    },
    {
      "cell_type": "markdown",
      "id": "0136ffee-0ead-4a6b-b608-61d1c753a438",
      "metadata": {
        "id": "0136ffee-0ead-4a6b-b608-61d1c753a438"
      },
      "source": [
        "5. Напишите запрос, выводящий значения поля Требуемый опыт работы (experience) в порядке возрастания количества вакансий, в которых указан данный вариант опыта. "
      ]
    },
    {
      "cell_type": "code",
      "execution_count": null,
      "id": "5b3a8e79-f7ab-4008-b767-12aea3a205ea",
      "metadata": {
        "id": "5b3a8e79-f7ab-4008-b767-12aea3a205ea",
        "colab": {
          "base_uri": "https://localhost:8080/",
          "height": 230
        },
        "outputId": "62462427-9eae-4ad3-926e-55de0fdeaac6"
      },
      "outputs": [
        {
          "output_type": "stream",
          "name": "stderr",
          "text": [
            "<ipython-input-11-09fdc416b0c6>:10: UserWarning: pandas only supports SQLAlchemy connectable (engine/connection) or database string URI or sqlite3 DBAPI2 connection. Other DBAPI2 objects are not tested. Please consider using SQLAlchemy.\n",
            "  df = pd.read_sql_query(query_4_5, connection)\n"
          ]
        },
        {
          "output_type": "execute_result",
          "data": {
            "text/plain": [
              "           experience  count\n",
              "0         Более 6 лет   1337\n",
              "1           Нет опыта   7197\n",
              "2       От 3 до 6 лет  14511\n",
              "3  От 1 года до 3 лет  26152"
            ],
            "text/html": [
              "\n",
              "  <div id=\"df-3241cf74-ea78-4669-9ff3-991bdea11793\">\n",
              "    <div class=\"colab-df-container\">\n",
              "      <div>\n",
              "<style scoped>\n",
              "    .dataframe tbody tr th:only-of-type {\n",
              "        vertical-align: middle;\n",
              "    }\n",
              "\n",
              "    .dataframe tbody tr th {\n",
              "        vertical-align: top;\n",
              "    }\n",
              "\n",
              "    .dataframe thead th {\n",
              "        text-align: right;\n",
              "    }\n",
              "</style>\n",
              "<table border=\"1\" class=\"dataframe\">\n",
              "  <thead>\n",
              "    <tr style=\"text-align: right;\">\n",
              "      <th></th>\n",
              "      <th>experience</th>\n",
              "      <th>count</th>\n",
              "    </tr>\n",
              "  </thead>\n",
              "  <tbody>\n",
              "    <tr>\n",
              "      <th>0</th>\n",
              "      <td>Более 6 лет</td>\n",
              "      <td>1337</td>\n",
              "    </tr>\n",
              "    <tr>\n",
              "      <th>1</th>\n",
              "      <td>Нет опыта</td>\n",
              "      <td>7197</td>\n",
              "    </tr>\n",
              "    <tr>\n",
              "      <th>2</th>\n",
              "      <td>От 3 до 6 лет</td>\n",
              "      <td>14511</td>\n",
              "    </tr>\n",
              "    <tr>\n",
              "      <th>3</th>\n",
              "      <td>От 1 года до 3 лет</td>\n",
              "      <td>26152</td>\n",
              "    </tr>\n",
              "  </tbody>\n",
              "</table>\n",
              "</div>\n",
              "      <button class=\"colab-df-convert\" onclick=\"convertToInteractive('df-3241cf74-ea78-4669-9ff3-991bdea11793')\"\n",
              "              title=\"Convert this dataframe to an interactive table.\"\n",
              "              style=\"display:none;\">\n",
              "        \n",
              "  <svg xmlns=\"http://www.w3.org/2000/svg\" height=\"24px\"viewBox=\"0 0 24 24\"\n",
              "       width=\"24px\">\n",
              "    <path d=\"M0 0h24v24H0V0z\" fill=\"none\"/>\n",
              "    <path d=\"M18.56 5.44l.94 2.06.94-2.06 2.06-.94-2.06-.94-.94-2.06-.94 2.06-2.06.94zm-11 1L8.5 8.5l.94-2.06 2.06-.94-2.06-.94L8.5 2.5l-.94 2.06-2.06.94zm10 10l.94 2.06.94-2.06 2.06-.94-2.06-.94-.94-2.06-.94 2.06-2.06.94z\"/><path d=\"M17.41 7.96l-1.37-1.37c-.4-.4-.92-.59-1.43-.59-.52 0-1.04.2-1.43.59L10.3 9.45l-7.72 7.72c-.78.78-.78 2.05 0 2.83L4 21.41c.39.39.9.59 1.41.59.51 0 1.02-.2 1.41-.59l7.78-7.78 2.81-2.81c.8-.78.8-2.07 0-2.86zM5.41 20L4 18.59l7.72-7.72 1.47 1.35L5.41 20z\"/>\n",
              "  </svg>\n",
              "      </button>\n",
              "      \n",
              "  <style>\n",
              "    .colab-df-container {\n",
              "      display:flex;\n",
              "      flex-wrap:wrap;\n",
              "      gap: 12px;\n",
              "    }\n",
              "\n",
              "    .colab-df-convert {\n",
              "      background-color: #E8F0FE;\n",
              "      border: none;\n",
              "      border-radius: 50%;\n",
              "      cursor: pointer;\n",
              "      display: none;\n",
              "      fill: #1967D2;\n",
              "      height: 32px;\n",
              "      padding: 0 0 0 0;\n",
              "      width: 32px;\n",
              "    }\n",
              "\n",
              "    .colab-df-convert:hover {\n",
              "      background-color: #E2EBFA;\n",
              "      box-shadow: 0px 1px 2px rgba(60, 64, 67, 0.3), 0px 1px 3px 1px rgba(60, 64, 67, 0.15);\n",
              "      fill: #174EA6;\n",
              "    }\n",
              "\n",
              "    [theme=dark] .colab-df-convert {\n",
              "      background-color: #3B4455;\n",
              "      fill: #D2E3FC;\n",
              "    }\n",
              "\n",
              "    [theme=dark] .colab-df-convert:hover {\n",
              "      background-color: #434B5C;\n",
              "      box-shadow: 0px 1px 3px 1px rgba(0, 0, 0, 0.15);\n",
              "      filter: drop-shadow(0px 1px 2px rgba(0, 0, 0, 0.3));\n",
              "      fill: #FFFFFF;\n",
              "    }\n",
              "  </style>\n",
              "\n",
              "      <script>\n",
              "        const buttonEl =\n",
              "          document.querySelector('#df-3241cf74-ea78-4669-9ff3-991bdea11793 button.colab-df-convert');\n",
              "        buttonEl.style.display =\n",
              "          google.colab.kernel.accessAllowed ? 'block' : 'none';\n",
              "\n",
              "        async function convertToInteractive(key) {\n",
              "          const element = document.querySelector('#df-3241cf74-ea78-4669-9ff3-991bdea11793');\n",
              "          const dataTable =\n",
              "            await google.colab.kernel.invokeFunction('convertToInteractive',\n",
              "                                                     [key], {});\n",
              "          if (!dataTable) return;\n",
              "\n",
              "          const docLinkHtml = 'Like what you see? Visit the ' +\n",
              "            '<a target=\"_blank\" href=https://colab.research.google.com/notebooks/data_table.ipynb>data table notebook</a>'\n",
              "            + ' to learn more about interactive tables.';\n",
              "          element.innerHTML = '';\n",
              "          dataTable['output_type'] = 'display_data';\n",
              "          await google.colab.output.renderOutput(dataTable, element);\n",
              "          const docLink = document.createElement('div');\n",
              "          docLink.innerHTML = docLinkHtml;\n",
              "          element.appendChild(docLink);\n",
              "        }\n",
              "      </script>\n",
              "    </div>\n",
              "  </div>\n",
              "  "
            ]
          },
          "metadata": {},
          "execution_count": 11
        }
      ],
      "source": [
        "# текст запроса\n",
        "query_4_5 = f'''SELECT \n",
        "                    DISTINCT(experience),\n",
        "                    COUNT(id)\n",
        "                FROM\n",
        "                    public.vacancies v\n",
        "                GROUP BY experience\n",
        "                ORDER BY 2 ASC\n",
        "                '''\n",
        "df = pd.read_sql_query(query_4_5, connection)\n",
        "df                "
      ]
    },
    {
      "cell_type": "code",
      "source": [
        "# результат запроса\n",
        "|index|   experience     |count|\n",
        "|-----|------------------|-----|\n",
        "| 0   |   более 6 лет    | 1337|\n",
        "| 1   |   Нет опыта      | 7197|\n",
        "| 2   |  От 3 до 6 лет   |14511|\n",
        "| 3   |От 1 года до 3 лет|26152|"
      ],
      "metadata": {
        "id": "3Is64Y-hpDpq"
      },
      "id": "3Is64Y-hpDpq",
      "execution_count": null,
      "outputs": []
    },
    {
      "cell_type": "markdown",
      "source": [
        "***"
      ],
      "metadata": {
        "id": "oq2b7n1QpIka"
      },
      "id": "oq2b7n1QpIka"
    },
    {
      "cell_type": "code",
      "execution_count": null,
      "id": "e91f87ed-e25c-4f96-9f92-b642e8c0b4fa",
      "metadata": {
        "id": "e91f87ed-e25c-4f96-9f92-b642e8c0b4fa"
      },
      "outputs": [],
      "source": [
        "# выводы по детальному анализу вакансий"
      ]
    },
    {
      "cell_type": "markdown",
      "source": [
        "* Можно заметить, что чем крупнее регион, тем вольше предлагается вакансий. Запрос на выведение числа (cnt) вакансий в каждом регионе (area) дал ожидаемый результат, так как в крупных городах вакансий ожидаемо больше, чем на периферии. \n",
        "Люди тянутся в большие города за более высоким и стабильным заработком. \n",
        "* Около половины вакансий содержат запись в одной из граф границ заработка, что говорит о том, что соискатели заинтересованы в определенном заработке, в остальных случаях, как вариант, зарплата устанавливается по результатам собеседования или же является фиксированной для определенных категорий граждан, например, бюджетников. \n",
        "* Средние значения для нижней и верхней границы зарплатной вилки показывают ожидаемые порганичные показатели заработной платы, которую готовы получать соикатели. При этом, средне-максимальная ЗП выше средне-минимальной в полтора раза: 110537 / 71065.\n",
        "*  Запрос количества вакансий для каждого сочетания типа рабочего графика (schedule) и типа трудоустройства (employment), используемого в вакансиях показал, что наиболее актуальным для соискателей полный день с полной занятостью. Это классическая форма работы, которая дает соискателям уверенность \"в завтрашнем дне\". Именно поэтому она явный лидер, хотя на 'пятки уже наступает' вторая по популярности пара: Удаленная работа - Полная занятость (пока в ~ 4.5 раза меньше). Что также ожидаемо, ведь полная занятось это гарантия хорошего стабильного заработка, а удаленный формат работы становится в наше время нормальным и привлекает людей все больше.\n",
        "* Анализ требуемого опыта работы показал, что наиболее актуальным является опыт от года до трех. Это ожидаемо, так так данный опыт позволяет говорить о наличии у соискателя необходимых навыков и в тоже время такого сотрудника легче приспособить к конкретной должности. Далее по популярности идут пожелания чуть большего опыта, что характерно для должностей более сложных профессий или рода деятельности. То, что отсутствие опыта находится не на последнем месте свидетельствует, что работодатель готов обучать прямо на месте в деятельности. И  таких предложений даже больше, чем предложений, где важен опыт работы более 6 лет. \n"
      ],
      "metadata": {
        "id": "SAXLmB-w9ep_"
      },
      "id": "SAXLmB-w9ep_"
    },
    {
      "cell_type": "markdown",
      "id": "7ea20ab6-04a7-40a0-adec-443a0e5a42c3",
      "metadata": {
        "id": "7ea20ab6-04a7-40a0-adec-443a0e5a42c3"
      },
      "source": [
        "# Юнит 5. Анализ работодателей"
      ]
    },
    {
      "cell_type": "markdown",
      "id": "968aed80-74ef-4ffb-b5bf-c65b84e9caea",
      "metadata": {
        "id": "968aed80-74ef-4ffb-b5bf-c65b84e9caea"
      },
      "source": [
        "1. Напишите запрос, который позволит узнать, какие работодатели находятся на первом и пятом месте по количеству вакансий."
      ]
    },
    {
      "cell_type": "code",
      "execution_count": null,
      "id": "f2d62796-d400-4ec1-a675-88112739a50e",
      "metadata": {
        "id": "f2d62796-d400-4ec1-a675-88112739a50e"
      },
      "outputs": [],
      "source": [
        "# текст запроса\n",
        "query_5_1 = f'''(SELECT  \n",
        "                     e.name \"Название_работодателя\", \n",
        "                     Count(v.id) \"Количество_вакансий\"\n",
        "                 FROM public.employers e\n",
        "                     JOIN public.vacancies v on v.employer_id = e.id\n",
        "                 GROUP BY 1\n",
        "                 ORDER BY 2 DESC\n",
        "                 LIMIT 1\n",
        "                 )\n",
        "                 UNION \n",
        "                 (SELECT  \n",
        "                     e.name \"Название_работодателя\", \n",
        "                     Count(v.id) \"Количество_вакансий\"\n",
        "                 FROM public.employers e\n",
        "                     JOIN public.vacancies v on v.employer_id = e.id\n",
        "                 GROUP BY 1\n",
        "                 ORDER BY 2 DESC\n",
        "                 OFFSET 4 LIMIT 1\n",
        "                 )\n",
        "                 ORDER BY 2 DESC\n",
        "             '''"
      ]
    },
    {
      "cell_type": "code",
      "source": [
        "# результат запроса\n",
        "df = pd.read_sql_query(query_5_1, connection)\n",
        "df"
      ],
      "metadata": {
        "id": "64tOMkAxqkQk"
      },
      "id": "64tOMkAxqkQk",
      "execution_count": null,
      "outputs": []
    },
    {
      "cell_type": "code",
      "source": [
        "|index|Название_работодателя|Количество_вакансий|\n",
        "|-----|---------------------|-------------------|\n",
        "|0    |    Яндекс           |    1933           |\n",
        "|1    |    Газпром нефть    |     331           |"
      ],
      "metadata": {
        "id": "nPBIXqmRhORA"
      },
      "id": "nPBIXqmRhORA",
      "execution_count": null,
      "outputs": []
    },
    {
      "cell_type": "markdown",
      "id": "68377cfc-b378-43dc-ab7d-1195abf2c515",
      "metadata": {
        "id": "68377cfc-b378-43dc-ab7d-1195abf2c515"
      },
      "source": [
        "2. Напишите запрос, который для каждого региона выведет количество работодателей и вакансий в нём.\n",
        "Среди регионов, в которых нет вакансий, найдите тот, в котором наибольшее количество работодателей.\n"
      ]
    },
    {
      "cell_type": "code",
      "execution_count": null,
      "id": "dd7df27a-e3e8-412e-a21a-5d389b71e891",
      "metadata": {
        "id": "dd7df27a-e3e8-412e-a21a-5d389b71e891"
      },
      "outputs": [],
      "source": [
        "# текст запроса\n",
        "query_5_2 = f'''SELECT \n",
        "                    a.name as region, \n",
        "                    COUNT(DISTINCT e.id) employers_count, \n",
        "                    COUNT(v.id) vacancies_count\n",
        "                FROM public.areas a \n",
        "                    LEFT JOIN public.employers e on e.area=a.id \n",
        "                    LEFT JOIN public.vacancies v on v.area_id=a.id\n",
        "                WHERE v.id IS NULL\n",
        "                GROUP BY a.name\n",
        "                ORDER BY COUNT(DISTINCT e.id) DESC\n",
        "                LIMIT 1\n",
        "              '''"
      ]
    },
    {
      "cell_type": "code",
      "source": [
        "df = pd.read_sql_query(query_5_2, connection)\n",
        "df"
      ],
      "metadata": {
        "id": "BP54O2glqLjT"
      },
      "id": "BP54O2glqLjT",
      "execution_count": null,
      "outputs": []
    },
    {
      "cell_type": "code",
      "source": [
        "# результат запроса\n",
        "|index|region|employers_count|vacancies_count|\n",
        "|-----|------|---------------|---------------|\n",
        "|  0  |Россия|      410      |      0        |"
      ],
      "metadata": {
        "id": "x1ikWbydrbf6"
      },
      "id": "x1ikWbydrbf6",
      "execution_count": null,
      "outputs": []
    },
    {
      "cell_type": "markdown",
      "id": "f2fe0acb-ab1a-4e15-9326-2560e22d73c1",
      "metadata": {
        "id": "f2fe0acb-ab1a-4e15-9326-2560e22d73c1"
      },
      "source": [
        "3. Для каждого работодателя посчитайте количество регионов, в которых он публикует свои вакансии. Отсортируйте результат по убыванию количества.\n"
      ]
    },
    {
      "cell_type": "code",
      "execution_count": null,
      "id": "6271f8ad-bd2e-4196-ae4a-5b39c4c1010e",
      "metadata": {
        "id": "6271f8ad-bd2e-4196-ae4a-5b39c4c1010e"
      },
      "outputs": [],
      "source": [
        "# текст запроса\n",
        "query_5_3 = f'''SELECT  \n",
        "                     e.name \"Название_работодателя\", \n",
        "                     Count(distinct v.area_id) \"Количество_регионов\"\n",
        "                 FROM public.employers e\n",
        "                     JOIN public.vacancies v on v.employer_id = e.id\n",
        "                 GROUP BY e.name\n",
        "                 ORDER BY 2 DESC\n",
        "                 LIMIT 1\n",
        "              '''"
      ]
    },
    {
      "cell_type": "code",
      "source": [
        "df = pd.read_sql_query(query_5_3, connection)\n",
        "df"
      ],
      "metadata": {
        "id": "9jvERLCv0J-O"
      },
      "id": "9jvERLCv0J-O",
      "execution_count": null,
      "outputs": []
    },
    {
      "cell_type": "code",
      "source": [
        "# результат запроса\n",
        "|index|Название_работодателя|Количество_регионов|\n",
        "|-----|---------------------|-------------------|\n",
        "|  0  |       Яндекс        |       181         |"
      ],
      "metadata": {
        "id": "1EIvX3HasH4F"
      },
      "id": "1EIvX3HasH4F",
      "execution_count": null,
      "outputs": []
    },
    {
      "cell_type": "markdown",
      "id": "eab2206d-d95b-468b-8e5f-34381abf0ce7",
      "metadata": {
        "id": "eab2206d-d95b-468b-8e5f-34381abf0ce7"
      },
      "source": [
        "4. Напишите запрос для подсчёта количества работодателей, у которых не указана сфера деятельности. "
      ]
    },
    {
      "cell_type": "code",
      "execution_count": null,
      "id": "80defb23-bfb1-4a18-8be6-bf36aa7165d5",
      "metadata": {
        "id": "80defb23-bfb1-4a18-8be6-bf36aa7165d5"
      },
      "outputs": [],
      "source": [
        "# текст запроса\n",
        "query_5_4 = f'''SELECT  \n",
        "                    Count(*) \"Число_без_сфер_деятельности\"\n",
        "                FROM public.employers e\n",
        "                    LEFT JOIN public.employers_industries em on em.employer_id = e.id\n",
        "                WHERE employer_id IS NULL\n",
        "             '''"
      ]
    },
    {
      "cell_type": "code",
      "source": [
        "df = pd.read_sql_query(query_5_4, connection)\n",
        "df"
      ],
      "metadata": {
        "id": "gCwriW-bwW04"
      },
      "id": "gCwriW-bwW04",
      "execution_count": null,
      "outputs": []
    },
    {
      "cell_type": "code",
      "source": [
        "# результат запроса\n",
        "|index|Число_без_сфер_деятельности|\n",
        "|-----|---------------------------|\n",
        "|  0  |         8419              |"
      ],
      "metadata": {
        "id": "Dp_yCx6ysQSu"
      },
      "id": "Dp_yCx6ysQSu",
      "execution_count": null,
      "outputs": []
    },
    {
      "cell_type": "markdown",
      "id": "0112af31-f6b0-4e3b-82ab-71296e752e5e",
      "metadata": {
        "id": "0112af31-f6b0-4e3b-82ab-71296e752e5e"
      },
      "source": [
        "5. Напишите запрос, чтобы узнать название компании, находящейся на третьем месте в алфавитном списке (по названию) компаний, у которых указано четыре сферы деятельности. "
      ]
    },
    {
      "cell_type": "code",
      "execution_count": null,
      "id": "973b0cfc-a972-470a-8b4a-68744ef220c4",
      "metadata": {
        "id": "973b0cfc-a972-470a-8b4a-68744ef220c4"
      },
      "outputs": [],
      "source": [
        "# текст запроса\n",
        "query_5_5 = f'''SELECT  \n",
        "                     e.name name_employer,\n",
        "                     COUNT(*) count_industries\n",
        "                 FROM public.employers e\n",
        "                     LEFT JOIN public.employers_industries em ON em.employer_id = e.id\n",
        "                 GROUP BY e.name\n",
        "                 HAVING COUNT(*) = 4\n",
        "                 ORDER BY 1\n",
        "                 LIMIT 3\n",
        "              '''"
      ]
    },
    {
      "cell_type": "code",
      "source": [
        "df = pd.read_sql_query(query_5_5, connection)\n",
        "df"
      ],
      "metadata": {
        "colab": {
          "base_uri": "https://localhost:8080/",
          "height": 227
        },
        "id": "jZUR-N8_zqL3",
        "outputId": "16c12b98-fee4-4398-9009-5b29976d7fc3"
      },
      "id": "jZUR-N8_zqL3",
      "execution_count": null,
      "outputs": [
        {
          "output_type": "stream",
          "name": "stderr",
          "text": [
            "<ipython-input-16-b4fd0715c68c>:1: UserWarning: pandas only supports SQLAlchemy connectable (engine/connection) or database string URI or sqlite3 DBAPI2 connection. Other DBAPI2 objects are not tested. Please consider using SQLAlchemy.\n",
            "  df = pd.read_sql_query(query_5_5, connection)\n"
          ]
        },
        {
          "output_type": "execute_result",
          "data": {
            "text/plain": [
              "  name_employer  count_industries\n",
              "0  101 Интернет                 4\n",
              "1      21vek.by                 4\n",
              "2          2ГИС                 4"
            ],
            "text/html": [
              "\n",
              "  <div id=\"df-6bc7f873-4c9b-496f-90de-ed79e5f82c87\">\n",
              "    <div class=\"colab-df-container\">\n",
              "      <div>\n",
              "<style scoped>\n",
              "    .dataframe tbody tr th:only-of-type {\n",
              "        vertical-align: middle;\n",
              "    }\n",
              "\n",
              "    .dataframe tbody tr th {\n",
              "        vertical-align: top;\n",
              "    }\n",
              "\n",
              "    .dataframe thead th {\n",
              "        text-align: right;\n",
              "    }\n",
              "</style>\n",
              "<table border=\"1\" class=\"dataframe\">\n",
              "  <thead>\n",
              "    <tr style=\"text-align: right;\">\n",
              "      <th></th>\n",
              "      <th>name_employer</th>\n",
              "      <th>count_industries</th>\n",
              "    </tr>\n",
              "  </thead>\n",
              "  <tbody>\n",
              "    <tr>\n",
              "      <th>0</th>\n",
              "      <td>101 Интернет</td>\n",
              "      <td>4</td>\n",
              "    </tr>\n",
              "    <tr>\n",
              "      <th>1</th>\n",
              "      <td>21vek.by</td>\n",
              "      <td>4</td>\n",
              "    </tr>\n",
              "    <tr>\n",
              "      <th>2</th>\n",
              "      <td>2ГИС</td>\n",
              "      <td>4</td>\n",
              "    </tr>\n",
              "  </tbody>\n",
              "</table>\n",
              "</div>\n",
              "      <button class=\"colab-df-convert\" onclick=\"convertToInteractive('df-6bc7f873-4c9b-496f-90de-ed79e5f82c87')\"\n",
              "              title=\"Convert this dataframe to an interactive table.\"\n",
              "              style=\"display:none;\">\n",
              "        \n",
              "  <svg xmlns=\"http://www.w3.org/2000/svg\" height=\"24px\"viewBox=\"0 0 24 24\"\n",
              "       width=\"24px\">\n",
              "    <path d=\"M0 0h24v24H0V0z\" fill=\"none\"/>\n",
              "    <path d=\"M18.56 5.44l.94 2.06.94-2.06 2.06-.94-2.06-.94-.94-2.06-.94 2.06-2.06.94zm-11 1L8.5 8.5l.94-2.06 2.06-.94-2.06-.94L8.5 2.5l-.94 2.06-2.06.94zm10 10l.94 2.06.94-2.06 2.06-.94-2.06-.94-.94-2.06-.94 2.06-2.06.94z\"/><path d=\"M17.41 7.96l-1.37-1.37c-.4-.4-.92-.59-1.43-.59-.52 0-1.04.2-1.43.59L10.3 9.45l-7.72 7.72c-.78.78-.78 2.05 0 2.83L4 21.41c.39.39.9.59 1.41.59.51 0 1.02-.2 1.41-.59l7.78-7.78 2.81-2.81c.8-.78.8-2.07 0-2.86zM5.41 20L4 18.59l7.72-7.72 1.47 1.35L5.41 20z\"/>\n",
              "  </svg>\n",
              "      </button>\n",
              "      \n",
              "  <style>\n",
              "    .colab-df-container {\n",
              "      display:flex;\n",
              "      flex-wrap:wrap;\n",
              "      gap: 12px;\n",
              "    }\n",
              "\n",
              "    .colab-df-convert {\n",
              "      background-color: #E8F0FE;\n",
              "      border: none;\n",
              "      border-radius: 50%;\n",
              "      cursor: pointer;\n",
              "      display: none;\n",
              "      fill: #1967D2;\n",
              "      height: 32px;\n",
              "      padding: 0 0 0 0;\n",
              "      width: 32px;\n",
              "    }\n",
              "\n",
              "    .colab-df-convert:hover {\n",
              "      background-color: #E2EBFA;\n",
              "      box-shadow: 0px 1px 2px rgba(60, 64, 67, 0.3), 0px 1px 3px 1px rgba(60, 64, 67, 0.15);\n",
              "      fill: #174EA6;\n",
              "    }\n",
              "\n",
              "    [theme=dark] .colab-df-convert {\n",
              "      background-color: #3B4455;\n",
              "      fill: #D2E3FC;\n",
              "    }\n",
              "\n",
              "    [theme=dark] .colab-df-convert:hover {\n",
              "      background-color: #434B5C;\n",
              "      box-shadow: 0px 1px 3px 1px rgba(0, 0, 0, 0.15);\n",
              "      filter: drop-shadow(0px 1px 2px rgba(0, 0, 0, 0.3));\n",
              "      fill: #FFFFFF;\n",
              "    }\n",
              "  </style>\n",
              "\n",
              "      <script>\n",
              "        const buttonEl =\n",
              "          document.querySelector('#df-6bc7f873-4c9b-496f-90de-ed79e5f82c87 button.colab-df-convert');\n",
              "        buttonEl.style.display =\n",
              "          google.colab.kernel.accessAllowed ? 'block' : 'none';\n",
              "\n",
              "        async function convertToInteractive(key) {\n",
              "          const element = document.querySelector('#df-6bc7f873-4c9b-496f-90de-ed79e5f82c87');\n",
              "          const dataTable =\n",
              "            await google.colab.kernel.invokeFunction('convertToInteractive',\n",
              "                                                     [key], {});\n",
              "          if (!dataTable) return;\n",
              "\n",
              "          const docLinkHtml = 'Like what you see? Visit the ' +\n",
              "            '<a target=\"_blank\" href=https://colab.research.google.com/notebooks/data_table.ipynb>data table notebook</a>'\n",
              "            + ' to learn more about interactive tables.';\n",
              "          element.innerHTML = '';\n",
              "          dataTable['output_type'] = 'display_data';\n",
              "          await google.colab.output.renderOutput(dataTable, element);\n",
              "          const docLink = document.createElement('div');\n",
              "          docLink.innerHTML = docLinkHtml;\n",
              "          element.appendChild(docLink);\n",
              "        }\n",
              "      </script>\n",
              "    </div>\n",
              "  </div>\n",
              "  "
            ]
          },
          "metadata": {},
          "execution_count": 16
        }
      ]
    },
    {
      "cell_type": "code",
      "source": [
        "# результат запроса\n",
        "|index|name_employer|count_industries|\n",
        "|-----|-------------|----------------|\n",
        "|  0  | 101 Интернет|   4            |\n",
        "|  1  |  21vek.by   |   4            |\n",
        "|  2  |  2ГИС       |   4            |"
      ],
      "metadata": {
        "id": "xsPtpp8EsaED"
      },
      "id": "xsPtpp8EsaED",
      "execution_count": null,
      "outputs": []
    },
    {
      "cell_type": "markdown",
      "id": "3bfcfdaf-755d-4d2b-8ed8-326201dc07ab",
      "metadata": {
        "id": "3bfcfdaf-755d-4d2b-8ed8-326201dc07ab"
      },
      "source": [
        "6. С помощью запроса выясните, у какого количества работодателей в качестве сферы деятельности указана Разработка программного обеспечения.\n"
      ]
    },
    {
      "cell_type": "code",
      "execution_count": null,
      "id": "ad3f270f-2991-47eb-929b-e8f88a55b0d1",
      "metadata": {
        "id": "ad3f270f-2991-47eb-929b-e8f88a55b0d1"
      },
      "outputs": [],
      "source": [
        "# текст запроса\n",
        "query_5_6 = f'''SELECT  \n",
        "                     COUNT(DISTINCT em.employer_id) dev_pro\n",
        "                 FROM public.employers_industries em \n",
        "                     JOIN public.industries i ON em.industry_id = i.id\n",
        "                 WHERE i.name = 'Разработка программного обеспечения'\n",
        "             '''"
      ]
    },
    {
      "cell_type": "code",
      "source": [
        "df = pd.read_sql_query(query_5_6, connection)\n",
        "df"
      ],
      "metadata": {
        "id": "CIkkzH9n7bIX"
      },
      "id": "CIkkzH9n7bIX",
      "execution_count": null,
      "outputs": []
    },
    {
      "cell_type": "code",
      "source": [
        "# результат запроса\n",
        "|index|dev_pro|\n",
        "|-----|-------|\n",
        "|  0  | 3553  |"
      ],
      "metadata": {
        "id": "H72qxWM0shPR"
      },
      "id": "H72qxWM0shPR",
      "execution_count": null,
      "outputs": []
    },
    {
      "cell_type": "markdown",
      "id": "7b02bb86-0546-40fb-94a4-242f050a5c57",
      "metadata": {
        "id": "7b02bb86-0546-40fb-94a4-242f050a5c57"
      },
      "source": [
        "7. Для компании «Яндекс» выведите список регионов-миллионников, в которых представлены вакансии компании, вместе с количеством вакансий в этих регионах. Также добавьте строку Total с общим количеством вакансий компании. Результат отсортируйте по возрастанию количества.\n",
        "\n",
        "Список городов-милионников надо взять [отсюда](https://ru.wikipedia.org/wiki/%D0%93%D0%BE%D1%80%D0%BE%D0%B4%D0%B0-%D0%BC%D0%B8%D0%BB%D0%BB%D0%B8%D0%BE%D0%BD%D0%B5%D1%80%D1%8B_%D0%A0%D0%BE%D1%81%D1%81%D0%B8%D0%B8). \n",
        "\n",
        "Если возникнут трудности с этим задание посмотрите материалы модуля  PYTHON-17. Как получать данные из веб-источников и API. "
      ]
    },
    {
      "cell_type": "code",
      "source": [
        "# код для получения списка городов-милионников\n",
        "import requests # Импортируем библиотеку requests\n",
        "from bs4 import BeautifulSoup # Импортируем библиотеку BeautifulSoup\n",
        "url = 'https://ru.wikipedia.org/wiki/%D0%93%D0%BE%D1%80%D0%BE%D0%B4%D0%B0-%D0%BC%D0%B8%D0%BB%D0%BB%D0%B8%D0%BE%D0%BD%D0%B5%D1%80%D1%8B_%D0%A0%D0%BE%D1%81%D1%81%D0%B8%D0%B8'\n",
        "text = requests.get(url) \n",
        " \n",
        "table_cities = BeautifulSoup(text.text, 'html.parser').find('span', id = 'Список_городов-миллионеров')\n",
        "table_cities = table_cities.parent.next_sibling\n",
        "\n",
        "while table_cities.name != 'table':\n",
        "  table_cities = table_cities.next_sibling\n",
        "\n",
        "new_table_cities = table_cities.find('tbody').find_all('tr')\n",
        "\n",
        "big_city = []\n",
        "for item in new_table_cities:\n",
        "  trs = item.find_all('td')\n",
        "  if len(trs) > 1:\n",
        "    big_city.append(trs[1].text.strip().replace('[a]', ''))\n",
        "print(f'Городов-миллионников всего: {len(big_city)}.\\nЭто такие города, как:')\n",
        "print(*big_city, sep='\\n')"
      ],
      "metadata": {
        "id": "ZdfrL6gIs1Pn",
        "colab": {
          "base_uri": "https://localhost:8080/"
        },
        "outputId": "47f62a6a-7f23-4948-f462-4871ba18b922"
      },
      "id": "ZdfrL6gIs1Pn",
      "execution_count": null,
      "outputs": [
        {
          "output_type": "stream",
          "name": "stdout",
          "text": [
            "Городов-миллионников всего: 16.\n",
            "Это такие города, как:\n",
            "Москва\n",
            "Санкт-Петербург\n",
            "Новосибирск\n",
            "Екатеринбург\n",
            "Казань\n",
            "Нижний Новгород\n",
            "Красноярск\n",
            "Челябинск\n",
            "Самара\n",
            "Уфа\n",
            "Ростов-на-Дону\n",
            "Омск\n",
            "Краснодар\n",
            "Воронеж\n",
            "Пермь\n",
            "Волгоград\n"
          ]
        }
      ]
    },
    {
      "cell_type": "code",
      "execution_count": null,
      "id": "5a0e32a4-e68a-4365-8a39-2fe24c542c36",
      "metadata": {
        "id": "5a0e32a4-e68a-4365-8a39-2fe24c542c36"
      },
      "outputs": [],
      "source": [
        "# текст запроса\n",
        "big_city = \"'\" + \"','\".join(big_city) + \"'\"\n",
        "company = \"'Яндекс'\"\n",
        "query_5_7 = f'''(\n",
        "                SELECT \n",
        "                    a.name as name_region, \n",
        "                    COUNT(*) employers_count \n",
        "                FROM public.areas a \n",
        "                    JOIN public.vacancies v ON v.area_id = a.id\n",
        "                    JOIN public.employers e ON e.id = v.employer_id                     \n",
        "                WHERE a.name IN ({big_city}) AND e.name = {company}\n",
        "                GROUP BY a.name\n",
        "                ORDER BY employers_count ASC\n",
        "                )\n",
        "                UNION\n",
        "                (\n",
        "                SELECT\n",
        "                   'Total', \n",
        "                    COUNT(*) \n",
        "                FROM public.areas a\n",
        "                    JOIN public.vacancies v ON v.area_id = a.id\n",
        "                    JOIN public.employers e ON e.id = v.employer_id                     \n",
        "                WHERE a.name IN ({big_city}) AND e.name = {company}\n",
        "                )\n",
        "                ORDER BY  employers_count \n",
        "              '''\n",
        "df = pd.read_sql_query(query_5_7, connection)\n",
        "df"
      ]
    },
    {
      "cell_type": "code",
      "source": [
        "# результат запроса\n",
        "|index|name\\_region|employers\\_count|\n",
        "|-----|------------|----------------|\n",
        "|  0  |   Омск     |     21         |\n",
        "|  1  | Челябинск  |     22         |\n",
        "|  2  | Красноярск |     23         |\n",
        "|  3  | Волгоград  |     24         |\n",
        "|  4  |   Пермь    |     25         |\n",
        "|  5  |   Казань   |     25         |\n",
        "|  6  |Ростов-на-Дону|   25         |\n",
        "|  7  |    Уфа     |     26         |\n",
        "|  8  |   Самара   |     26         |\n",
        "|  9  |  Краснодар |     30         |\n",
        "|  10 |  Воронеж   |     32         |\n",
        "|  11 | Новосибирск|     35         |\n",
        "|  12 |Нижний Новгород|  36         |\n",
        "|  13 |Екатеринбург|     39         |\n",
        "|  14 |Санкт-Петербург|  42         |\n",
        "|  15 |   Москва   |     54         |\n",
        "|  16 |   Total    |     485        |"
      ],
      "metadata": {
        "id": "ttPhiO1rsvPq"
      },
      "id": "ttPhiO1rsvPq",
      "execution_count": null,
      "outputs": []
    },
    {
      "cell_type": "markdown",
      "id": "04966e40-3bc3-4dc8-9ba2-e80580ce3abc",
      "metadata": {
        "id": "04966e40-3bc3-4dc8-9ba2-e80580ce3abc"
      },
      "source": [
        "***"
      ]
    },
    {
      "cell_type": "code",
      "source": [
        "# выводы по анализу работодателей\n"
      ],
      "metadata": {
        "id": "aGGyER-yt4SR"
      },
      "id": "aGGyER-yt4SR",
      "execution_count": null,
      "outputs": []
    },
    {
      "cell_type": "markdown",
      "source": [
        "* Лидером по предложению вакансий является компания Яндекс, которая предлагает в 4 раза больше вакансий, чем Ростелеком - компания, которая на втором месте. В топ входят довольно крупные \"игроки\": IT-компании, Банкинг, Телеком, Нефть, где идет постоянное активное развитие, достаточно высокая текучесть кадров, расширение бизнеса.\n",
        "*  Среди регионов, в которых нет вакансий, по количеству работодателей в лидерах оказалась Россия. Это ожидаемо, тк Россия очень большая по протяженности с большим количеством городов_миллионников, с одной стороны, и плохоразвитой местностью на периферии. Небольшие компании или компании из небольших городов или регионов склонны указывать наиболее крупный регион, к которому относится. К тому же в России есть компании, которые предлагают вакансии за границей. \n",
        "* Наибольшее количество регионов затронуто  у Яндекса, Ростелекома, Спецремонта, это может быть связано с хорошо развитой сетью офисов по регионам.\n",
        "* Анализ показал, чт окомпания Яндекс предлагает свои вакансии в каждом из городов-миллионников пропорционально чесленности населения региона"
      ],
      "metadata": {
        "id": "UJZpcvXUM6Fp"
      },
      "id": "UJZpcvXUM6Fp"
    },
    {
      "cell_type": "markdown",
      "id": "b1ef156a-efcb-49ce-bb23-90763e7f35b2",
      "metadata": {
        "tags": [],
        "id": "b1ef156a-efcb-49ce-bb23-90763e7f35b2"
      },
      "source": [
        "# Юнит 6. Предметный анализ"
      ]
    },
    {
      "cell_type": "markdown",
      "id": "b9cd50a0-992d-4988-8463-2b2b1c4629b4",
      "metadata": {
        "id": "b9cd50a0-992d-4988-8463-2b2b1c4629b4"
      },
      "source": [
        "1. Сколько вакансий имеет отношение к данным?\n",
        "\n",
        "Считаем, что вакансия имеет отношение к данным, если в её названии содержатся слова 'data' или 'данн'.\n",
        "\n",
        "*Подсказка: Обратите внимание, что названия вакансий могут быть написаны в любом регистре.* \n"
      ]
    },
    {
      "cell_type": "code",
      "execution_count": null,
      "id": "54ab0e50-c0f1-47cc-a54b-bc5c8bc363f9",
      "metadata": {
        "id": "54ab0e50-c0f1-47cc-a54b-bc5c8bc363f9"
      },
      "outputs": [],
      "source": [
        "# текст запроса\n",
        "query_6_1 = f'''SELECT  \n",
        "                     COUNT(*) data_vac\n",
        "                 FROM public.vacancies \n",
        "                 WHERE lower(name) LIKE '%data%' OR lower(name) LIKE '%данн%'\n",
        "             '''\n",
        "df = pd.read_sql_query(query_6_1, connection)\n",
        "df"
      ]
    },
    {
      "cell_type": "code",
      "source": [
        "# результат запроса\n",
        "|index|data_vac|\n",
        "|-----|--------|\n",
        "|  0  |  1771  |"
      ],
      "metadata": {
        "id": "9F1meAqsuUjd"
      },
      "id": "9F1meAqsuUjd",
      "execution_count": null,
      "outputs": []
    },
    {
      "cell_type": "markdown",
      "id": "4dea20cb-a36b-474a-a0b9-e08e8e3857a5",
      "metadata": {
        "id": "4dea20cb-a36b-474a-a0b9-e08e8e3857a5"
      },
      "source": [
        "2. Сколько есть подходящих вакансий для начинающего дата-сайентиста? \n",
        "Будем считать вакансиями для дата-сайентистов такие, в названии которых есть хотя бы одно из следующих сочетаний:\n",
        "* 'data scientist'\n",
        "* 'data science'\n",
        "* 'исследователь данных'\n",
        "* 'ML' (здесь не нужно брать вакансии по HTML)\n",
        "* 'machine learning'\n",
        "* 'машинн%обучен%'\n",
        "\n",
        "** В следующих заданиях мы продолжим работать с вакансиями по этому условию.*\n",
        "\n",
        "Считаем вакансиями для специалистов уровня Junior следующие:\n",
        "* в названии есть слово 'junior' *или*\n",
        "* требуемый опыт — Нет опыта *или*\n",
        "* тип трудоустройства — Стажировка.\n",
        " "
      ]
    },
    {
      "cell_type": "code",
      "execution_count": null,
      "id": "9c61b3c0-bb66-46c9-ae1e-81d3f5752b4a",
      "metadata": {
        "id": "9c61b3c0-bb66-46c9-ae1e-81d3f5752b4a"
      },
      "outputs": [],
      "source": [
        "# текст запроса\n",
        "DS = '''(\n",
        "        LOWER(v.name) LIKE '%data scientist%'\n",
        "        OR LOWER(v.name) LIKE '%data science%'\n",
        "        OR LOWER(v.name) LIKE '%исследователь данных%'\n",
        "        OR LOWER(v.name) LIKE '%machine learning%'\n",
        "        OR LOWER(v.name) LIKE '%машинн%обучен%'\n",
        "        OR (UPPER(v.name) LIKE '%ML%' \n",
        "            AND UPPER(v.name) NOT LIKE '%HTML%')\n",
        "        )'''\n",
        "\n",
        "query_6_2 = f'''SELECT \n",
        "                    COUNT(*) cnt_jun_vac\n",
        "                FROM public.vacancies v\n",
        "                WHERE {DS}\n",
        "                    AND (LOWER(name) LIKE '%junior%' \n",
        "                    OR experience = 'Нет опыта'\n",
        "                    OR employment = 'Стажировка')\n",
        "                '''\n",
        "df = pd.read_sql_query(query_6_2, connection)\n",
        "df"
      ]
    },
    {
      "cell_type": "code",
      "source": [
        "# результат запроса\n",
        "|index|cnt_jun_vac|\n",
        "|-----|-----------|\n",
        "|  0  |    51     |"
      ],
      "metadata": {
        "id": "ZNM-LLYuu1dj"
      },
      "id": "ZNM-LLYuu1dj",
      "execution_count": null,
      "outputs": []
    },
    {
      "cell_type": "markdown",
      "id": "eedceb80-c5ca-480e-b27a-278dfb8b4438",
      "metadata": {
        "id": "eedceb80-c5ca-480e-b27a-278dfb8b4438"
      },
      "source": [
        "3. Сколько есть вакансий для DS, в которых в качестве ключевого навыка указан SQL или postgres?\n",
        "\n",
        "** Критерии для отнесения вакансии к DS указаны в предыдущем задании.*"
      ]
    },
    {
      "cell_type": "code",
      "execution_count": null,
      "id": "69621713-0cc5-4f1b-a1d7-bb144fa6148c",
      "metadata": {
        "id": "69621713-0cc5-4f1b-a1d7-bb144fa6148c"
      },
      "outputs": [],
      "source": [
        "# текст запроса\n",
        "DS = '''(\n",
        "        Lower(name) LIKE '%data scientist%'\n",
        "        OR Lower(name) LIKE '%data science%'\n",
        "        OR Lower(name) LIKE '%исследователь данных%'\n",
        "        OR Lower(name) LIKE '%machine learning%'\n",
        "        OR Lower(name) LIKE '%машинн%обучен%%'\n",
        "        OR (name LIKE '%ML%'\n",
        "            AND name NOT LIKE '%HTML%'\n",
        "        )\n",
        ")'''\n",
        "\n",
        "query_6_3 = f'''SELECT \n",
        "                    COUNT(*) cnt_SQL_vac\n",
        "                FROM public.vacancies v\n",
        "                WHERE {DS}\n",
        "                    AND (UPPER(v.key_skills) LIKE '%SQL%' \n",
        "                         OR LOWER(v.key_skills) = '%postgres%')\n",
        "             '''\n",
        "df = pd.read_sql_query(query_6_3, connection)\n",
        "df             "
      ]
    },
    {
      "cell_type": "code",
      "source": [
        "# результат запроса\n",
        "|index|cnt_sql_vac|\n",
        "|-----|-----------|\n",
        "|  0  |    201    |"
      ],
      "metadata": {
        "id": "alA8WEAAvGdf"
      },
      "id": "alA8WEAAvGdf",
      "execution_count": null,
      "outputs": []
    },
    {
      "cell_type": "markdown",
      "id": "1be1e9c6-37cf-4a5f-bfeb-04cab799dc80",
      "metadata": {
        "id": "1be1e9c6-37cf-4a5f-bfeb-04cab799dc80"
      },
      "source": [
        "4. Проверьте, насколько популярен Python в требованиях работодателей к DS.Для этого вычислите количество вакансий, в которых в качестве ключевого навыка указан Python.\n",
        "\n",
        "** Это можно сделать помощью запроса, аналогичного предыдущему.*"
      ]
    },
    {
      "cell_type": "code",
      "execution_count": null,
      "id": "0036a355-9ccf-4564-8b01-73d8194297e7",
      "metadata": {
        "id": "0036a355-9ccf-4564-8b01-73d8194297e7"
      },
      "outputs": [],
      "source": [
        "# текст запроса\n",
        "DS = '''(\n",
        "        Lower(name) LIKE '%data scientist%'\n",
        "        OR Lower(name) LIKE '%data science%'\n",
        "        OR Lower(name) LIKE '%исследователь данных%'\n",
        "        OR Lower(name) LIKE '%machine learning%'\n",
        "        OR Lower(name) LIKE '%машинн%обучен%%'\n",
        "        OR (name LIKE '%ML%'\n",
        "            AND name NOT LIKE '%HTML%'\n",
        "        )\n",
        ")'''\n",
        "\n",
        "query_6_4 = f'''SELECT \n",
        "                    COUNT(*) cnt_py_vac\n",
        "                FROM public.vacancies v\n",
        "                WHERE {DS}\n",
        "                    AND LOWER(v.key_skills) LIKE '%python%'\n",
        "             '''\n",
        "df = pd.read_sql_query(query_6_4, connection)\n",
        "df "
      ]
    },
    {
      "cell_type": "code",
      "source": [
        "# результат запроса\n",
        "|index|cnt_py_vac|\n",
        "|-----|-----------|\n",
        "|  0  |    351    |"
      ],
      "metadata": {
        "id": "1i-5WyucvQ6v"
      },
      "id": "1i-5WyucvQ6v",
      "execution_count": null,
      "outputs": []
    },
    {
      "cell_type": "markdown",
      "id": "ec3c8db7-fa21-4a41-a994-1af63742a642",
      "metadata": {
        "id": "ec3c8db7-fa21-4a41-a994-1af63742a642"
      },
      "source": [
        "5. Сколько ключевых навыков в среднем указывают в вакансиях для DS?\n",
        "Ответ округлите до двух знаков после точки-разделителя."
      ]
    },
    {
      "cell_type": "code",
      "execution_count": null,
      "id": "949132bc-d5b6-4611-8218-0b9a504d74f4",
      "metadata": {
        "id": "949132bc-d5b6-4611-8218-0b9a504d74f4"
      },
      "outputs": [],
      "source": [
        "# текст запроса\n",
        "DS = '''(\n",
        "        Lower(name) LIKE '%data scientist%'\n",
        "        OR Lower(name) LIKE '%data science%'\n",
        "        OR Lower(name) LIKE '%исследователь данных%'\n",
        "        OR Lower(name) LIKE '%machine learning%'\n",
        "        OR Lower(name) LIKE '%машинн%обучен%%'\n",
        "        OR (name LIKE '%ML%'\n",
        "            AND name NOT LIKE '%HTML%'\n",
        "        )\n",
        ")'''\n",
        "\n",
        "query_6_5 = f'''SELECT \n",
        "                    ROUND(AVG(1 + length(key_skills) - length(REPLACE(key_skills, CHR(9), '' )))::numeric, 2) avg_ds\n",
        "                FROM public.vacancies v\n",
        "                WHERE {DS}\n",
        "             '''\n",
        "df = pd.read_sql_query(query_6_5, connection)\n",
        "df "
      ]
    },
    {
      "cell_type": "code",
      "source": [
        "# результат запроса\n",
        "|index|avg_ds|\n",
        "|-----|------|\n",
        "|  0  | 6.41 |"
      ],
      "metadata": {
        "id": "a3V24Tvmviqk"
      },
      "id": "a3V24Tvmviqk",
      "execution_count": null,
      "outputs": []
    },
    {
      "cell_type": "markdown",
      "id": "1041c17a-ca8f-4543-a0ca-32778914fb00",
      "metadata": {
        "id": "1041c17a-ca8f-4543-a0ca-32778914fb00"
      },
      "source": [
        "6. Напишите запрос, позволяющий вычислить, какую зарплату для DS в **среднем** указывают для каждого типа требуемого опыта (уникальное значение из поля *experience*). \n",
        "\n",
        "При решении задачи примите во внимание следующее:\n",
        "1. Рассматриваем только вакансии, у которых заполнено хотя бы одно из двух полей с зарплатой.\n",
        "2. Если заполнены оба поля с зарплатой, то считаем зарплату по каждой вакансии как сумму двух полей, делённую на 2. Если заполнено только одно из полей, то его и считаем зарплатой по вакансии.\n",
        "3. Если в расчётах участвует null, в результате он тоже даст null (посмотрите, что возвращает запрос select 1 + null). Чтобы избежать этой ситуацию, мы воспользуемся функцией [coalesce](https://postgrespro.ru/docs/postgresql/9.5/functions-conditional#functions-coalesce-nvl-ifnull), которая заменит null на значение, которое мы передадим. Например, посмотрите, что возвращает запрос `select 1 + coalesce(null, 0)`\n",
        "\n",
        "Выясните, на какую зарплату в среднем может рассчитывать дата-сайентист с опытом работы от 3 до 6 лет. Результат округлите до целого числа. "
      ]
    },
    {
      "cell_type": "code",
      "execution_count": null,
      "id": "6a743d39-5204-48d3-8271-b9f88e68d40e",
      "metadata": {
        "id": "6a743d39-5204-48d3-8271-b9f88e68d40e"
      },
      "outputs": [],
      "source": [
        "# текст запроса\n",
        "DS = '''(\n",
        "        Lower(name) LIKE '%data scientist%'\n",
        "        OR Lower(name) LIKE '%data science%'\n",
        "        OR Lower(name) LIKE '%исследователь данных%'\n",
        "        OR Lower(name) LIKE '%machine learning%'\n",
        "        OR Lower(name) LIKE '%машинн%обучен%%'\n",
        "        OR (name LIKE '%ML%'\n",
        "            AND name NOT LIKE '%HTML%'\n",
        "        )\n",
        ")'''\n",
        "\n",
        "query_6_6 = f'''SELECT experience,\n",
        "                       Round(Avg((Coalesce(salary_from, salary_to) + Coalesce(salary_to, salary_from)) / 2)) ds_avg_salary\n",
        "                FROM vacancies\n",
        "                WHERE (salary_to IS NOT NULL\n",
        "                        OR salary_from IS NOT NULL\n",
        "                       ) \n",
        "                       AND {DS}\n",
        "                       AND experience = 'От 3 до 6 лет'\n",
        "                GROUP BY 1\n",
        "                '''\n",
        "\n",
        "df = pd.read_sql_query(query_6_6, connection)\n",
        "df "
      ]
    },
    {
      "cell_type": "code",
      "source": [
        "# результат запроса\n",
        "|index| experience  |ds_avg_salary|\n",
        "|-----|-------------|-------------|\n",
        "|  0  |От 3 до 6 лет|  243115.0   |"
      ],
      "metadata": {
        "id": "aRIJ0mZEwU1_"
      },
      "id": "aRIJ0mZEwU1_",
      "execution_count": null,
      "outputs": []
    },
    {
      "cell_type": "markdown",
      "id": "6a7892b4-4113-4746-adce-18aa2844f18e",
      "metadata": {
        "id": "6a7892b4-4113-4746-adce-18aa2844f18e"
      },
      "source": [
        "***"
      ]
    },
    {
      "cell_type": "code",
      "source": [
        "# выводы по предметному анализу"
      ],
      "metadata": {
        "id": "UjLWUptVwY1o"
      },
      "id": "UjLWUptVwY1o",
      "execution_count": null,
      "outputs": []
    },
    {
      "cell_type": "markdown",
      "source": [
        "* Вакансии конкретно для *DataSience* занимают примерно 3.6% (1771 / 49197 * 100) от общего числа вакансий.\n",
        "* Среди представленных вакансий конкретно для *DataSience* на позицию *Junior* приходится 2.9% (51 / 1771 * 100).\n",
        "* Среди вакансий для *DataSience* в качестве ключевых навыков достаточно часто встречается SQL. Такой навык указан примено в 20% вакансий для *DataSience* (351 / 1771 * 100).\n",
        "* Python в качестве ключевого навыка для *DataSience* указан примерно в 11% вакансий (201 / 1771 * 100).\n",
        "* Можно заметить, что в целом для *DataSience* работодателя интересует наличие примерно 6 ключевых навыков у соикателя.\n",
        "* Заработная плата с ростом опыта каждый раз увеличивается примерно в 2 раза. "
      ],
      "metadata": {
        "id": "nGoOHXCgguhJ"
      },
      "id": "nGoOHXCgguhJ"
    },
    {
      "cell_type": "markdown",
      "source": [
        "# Общий вывод по проекту"
      ],
      "metadata": {
        "id": "c0ED6fh7wiBT"
      },
      "id": "c0ED6fh7wiBT"
    },
    {
      "cell_type": "code",
      "source": [
        "# подведем итог исследования, обобщите выводы\n",
        "# здесь можно (это будет плюсом) провести дополнительные исследования данных, сделать прогнозы, продумать варианты продолжения исследования\n"
      ],
      "metadata": {
        "id": "h9B3BL-wwj18"
      },
      "id": "h9B3BL-wwj18",
      "execution_count": null,
      "outputs": []
    },
    {
      "cell_type": "markdown",
      "source": [
        "* Наиболее крупные регионы представлены большим числом работодателей, которые предлагают более высокие зарплаты. Это можно учитывать при составлении прогнозов на будущее. \n",
        "* Топовые работодатели имеют обширную сеть офисов и стараются охватить большое число регионов. Это связано с тем, что работодатели готовы работать с соискателем в месте его локации, если это хороший специалист, с одной стороны, и с тем, что достойных специалистов можно найти и на периферии.\n",
        "* Профессия *DataSience* представлена отнюдь не так широко, но при этом имеет достойную оплату даже на позиции *Junior*\n",
        "* Важно понимать, что одного языка программирования не достаточно для крупных игроков в данной сфере. Требуется параллельно развивать несколько ключевых навыков, чтобы иметь возможность конкурировать на рынке труда.\n",
        "* Запросы, представленные ниже позволяют выявить ТОП-50 вакансий, связанных с ИТ, среди которых можно наблюдать таких лидеров, как  \"Системный администратор\" и \"Программист 1С\". Однако, далее можно увидеть, что при всей актуальности даных вакансий, зарплатные планки данных специалистов не столь высоки в сравнении, например, с тестировщиками или специалистами по информационной безопасности, как это можно увидеть из последнего запроса. "
      ],
      "metadata": {
        "id": "KCKhVeMC3Sjn"
      },
      "id": "KCKhVeMC3Sjn"
    },
    {
      "cell_type": "code",
      "source": [
        "query_7_1 = f'''\n",
        "    SELECT name \"Топ-50 вакансий\", \n",
        "        COUNT(*) vacancy_count\n",
        "    FROM vacancies\n",
        "    GROUP BY 1\n",
        "    ORDER BY 2 DESC\n",
        "    LIMIT 50\n",
        "'''\n",
        "df = pd.read_sql_query(query_7_1, connection)\n",
        "df "
      ],
      "metadata": {
        "colab": {
          "base_uri": "https://localhost:8080/",
          "height": 1000
        },
        "id": "zn8Lx3Em04YR",
        "outputId": "5f4851f1-1b40-47c4-af3a-016e0e058efd"
      },
      "id": "zn8Lx3Em04YR",
      "execution_count": 7,
      "outputs": [
        {
          "output_type": "stream",
          "name": "stderr",
          "text": [
            "<ipython-input-7-fa6ee1d6962c>:8: UserWarning: pandas only supports SQLAlchemy connectable (engine/connection) or database string URI or sqlite3 DBAPI2 connection. Other DBAPI2 objects are not tested. Please consider using SQLAlchemy.\n",
            "  df = pd.read_sql_query(query_7_1, connection)\n"
          ]
        },
        {
          "output_type": "execute_result",
          "data": {
            "text/plain": [
              "                                      Топ-50 вакансий  vacancy_count\n",
              "0                             Системный администратор           1761\n",
              "1                                      Программист 1С           1153\n",
              "2                                     Бизнес-аналитик            488\n",
              "3                    Специалист технической поддержки            457\n",
              "4                                  Системный аналитик            432\n",
              "5                                            Аналитик            404\n",
              "6                                 Инженер-программист            389\n",
              "7                                      Программист 1C            360\n",
              "8                                Frontend-разработчик            242\n",
              "9                       Инженер технической поддержки            230\n",
              "10                                        Программист            224\n",
              "11                               Руководитель проекта            191\n",
              "12            Младший специалист ручного тестирования            169\n",
              "13        Специалист службы поддержки в Яндекс Бизнес            168\n",
              "14                                  Менеджер проектов            153\n",
              "15                                   Java-разработчик            150\n",
              "16          Специалист по информационной безопасности            148\n",
              "17  Специалист службы поддержки Рекламной сети Янд...            139\n",
              "18                                    PHP-разработчик            135\n",
              "19          Специалист службы поддержки пользователей            126\n",
              "20                                Компьютерный мастер            123\n",
              "21                                   Менеджер проекта            120\n",
              "22                               Технический писатель            111\n",
              "23                                Маркетолог-аналитик            108\n",
              "24                              Руководитель проектов            106\n",
              "25                             Ведущий программист 1C            106\n",
              "26                             Технический специалист            104\n",
              "27                 Сотрудник поддержки поиска Яндекса             99\n",
              "28         Технический писатель (дистанционный автор)             99\n",
              "29                    Ведущий системный администратор             99\n",
              "30                Специалист поддержки в Yandex Cloud             97\n",
              "31                             Ведущий программист 1С             94\n",
              "32                               Технический директор             94\n",
              "33                        Ведущий инженер-программист             92\n",
              "34                                        QA Engineer             91\n",
              "35                                    Web-разработчик             88\n",
              "36                                    IOS разработчик             86\n",
              "37                 Помощник системного администратора             86\n",
              "38                            Программист-разработчик             85\n",
              "39                                        Аналитик 1С             85\n",
              "40  Специалист службы поддержки с техническими зна...             84\n",
              "41                                     Разработчик 1С             83\n",
              "42                                Компьютерный Мастер             83\n",
              "43                                     Консультант 1С             82\n",
              "44                                    Project Manager             81\n",
              "45                                    Web-программист             81\n",
              "46                       Ученик компьютерного мастера             79\n",
              "47                                    Аналитик данных             78\n",
              "48                                            Инженер             78\n",
              "49                                    Сетевой инженер             78"
            ],
            "text/html": [
              "\n",
              "  <div id=\"df-0bbc2f81-3ba0-43bb-9a47-ac608b2dd34f\">\n",
              "    <div class=\"colab-df-container\">\n",
              "      <div>\n",
              "<style scoped>\n",
              "    .dataframe tbody tr th:only-of-type {\n",
              "        vertical-align: middle;\n",
              "    }\n",
              "\n",
              "    .dataframe tbody tr th {\n",
              "        vertical-align: top;\n",
              "    }\n",
              "\n",
              "    .dataframe thead th {\n",
              "        text-align: right;\n",
              "    }\n",
              "</style>\n",
              "<table border=\"1\" class=\"dataframe\">\n",
              "  <thead>\n",
              "    <tr style=\"text-align: right;\">\n",
              "      <th></th>\n",
              "      <th>Топ-50 вакансий</th>\n",
              "      <th>vacancy_count</th>\n",
              "    </tr>\n",
              "  </thead>\n",
              "  <tbody>\n",
              "    <tr>\n",
              "      <th>0</th>\n",
              "      <td>Системный администратор</td>\n",
              "      <td>1761</td>\n",
              "    </tr>\n",
              "    <tr>\n",
              "      <th>1</th>\n",
              "      <td>Программист 1С</td>\n",
              "      <td>1153</td>\n",
              "    </tr>\n",
              "    <tr>\n",
              "      <th>2</th>\n",
              "      <td>Бизнес-аналитик</td>\n",
              "      <td>488</td>\n",
              "    </tr>\n",
              "    <tr>\n",
              "      <th>3</th>\n",
              "      <td>Специалист технической поддержки</td>\n",
              "      <td>457</td>\n",
              "    </tr>\n",
              "    <tr>\n",
              "      <th>4</th>\n",
              "      <td>Системный аналитик</td>\n",
              "      <td>432</td>\n",
              "    </tr>\n",
              "    <tr>\n",
              "      <th>5</th>\n",
              "      <td>Аналитик</td>\n",
              "      <td>404</td>\n",
              "    </tr>\n",
              "    <tr>\n",
              "      <th>6</th>\n",
              "      <td>Инженер-программист</td>\n",
              "      <td>389</td>\n",
              "    </tr>\n",
              "    <tr>\n",
              "      <th>7</th>\n",
              "      <td>Программист 1C</td>\n",
              "      <td>360</td>\n",
              "    </tr>\n",
              "    <tr>\n",
              "      <th>8</th>\n",
              "      <td>Frontend-разработчик</td>\n",
              "      <td>242</td>\n",
              "    </tr>\n",
              "    <tr>\n",
              "      <th>9</th>\n",
              "      <td>Инженер технической поддержки</td>\n",
              "      <td>230</td>\n",
              "    </tr>\n",
              "    <tr>\n",
              "      <th>10</th>\n",
              "      <td>Программист</td>\n",
              "      <td>224</td>\n",
              "    </tr>\n",
              "    <tr>\n",
              "      <th>11</th>\n",
              "      <td>Руководитель проекта</td>\n",
              "      <td>191</td>\n",
              "    </tr>\n",
              "    <tr>\n",
              "      <th>12</th>\n",
              "      <td>Младший специалист ручного тестирования</td>\n",
              "      <td>169</td>\n",
              "    </tr>\n",
              "    <tr>\n",
              "      <th>13</th>\n",
              "      <td>Специалист службы поддержки в Яндекс Бизнес</td>\n",
              "      <td>168</td>\n",
              "    </tr>\n",
              "    <tr>\n",
              "      <th>14</th>\n",
              "      <td>Менеджер проектов</td>\n",
              "      <td>153</td>\n",
              "    </tr>\n",
              "    <tr>\n",
              "      <th>15</th>\n",
              "      <td>Java-разработчик</td>\n",
              "      <td>150</td>\n",
              "    </tr>\n",
              "    <tr>\n",
              "      <th>16</th>\n",
              "      <td>Специалист по информационной безопасности</td>\n",
              "      <td>148</td>\n",
              "    </tr>\n",
              "    <tr>\n",
              "      <th>17</th>\n",
              "      <td>Специалист службы поддержки Рекламной сети Янд...</td>\n",
              "      <td>139</td>\n",
              "    </tr>\n",
              "    <tr>\n",
              "      <th>18</th>\n",
              "      <td>PHP-разработчик</td>\n",
              "      <td>135</td>\n",
              "    </tr>\n",
              "    <tr>\n",
              "      <th>19</th>\n",
              "      <td>Специалист службы поддержки пользователей</td>\n",
              "      <td>126</td>\n",
              "    </tr>\n",
              "    <tr>\n",
              "      <th>20</th>\n",
              "      <td>Компьютерный мастер</td>\n",
              "      <td>123</td>\n",
              "    </tr>\n",
              "    <tr>\n",
              "      <th>21</th>\n",
              "      <td>Менеджер проекта</td>\n",
              "      <td>120</td>\n",
              "    </tr>\n",
              "    <tr>\n",
              "      <th>22</th>\n",
              "      <td>Технический писатель</td>\n",
              "      <td>111</td>\n",
              "    </tr>\n",
              "    <tr>\n",
              "      <th>23</th>\n",
              "      <td>Маркетолог-аналитик</td>\n",
              "      <td>108</td>\n",
              "    </tr>\n",
              "    <tr>\n",
              "      <th>24</th>\n",
              "      <td>Руководитель проектов</td>\n",
              "      <td>106</td>\n",
              "    </tr>\n",
              "    <tr>\n",
              "      <th>25</th>\n",
              "      <td>Ведущий программист 1C</td>\n",
              "      <td>106</td>\n",
              "    </tr>\n",
              "    <tr>\n",
              "      <th>26</th>\n",
              "      <td>Технический специалист</td>\n",
              "      <td>104</td>\n",
              "    </tr>\n",
              "    <tr>\n",
              "      <th>27</th>\n",
              "      <td>Сотрудник поддержки поиска Яндекса</td>\n",
              "      <td>99</td>\n",
              "    </tr>\n",
              "    <tr>\n",
              "      <th>28</th>\n",
              "      <td>Технический писатель (дистанционный автор)</td>\n",
              "      <td>99</td>\n",
              "    </tr>\n",
              "    <tr>\n",
              "      <th>29</th>\n",
              "      <td>Ведущий системный администратор</td>\n",
              "      <td>99</td>\n",
              "    </tr>\n",
              "    <tr>\n",
              "      <th>30</th>\n",
              "      <td>Специалист поддержки в Yandex Cloud</td>\n",
              "      <td>97</td>\n",
              "    </tr>\n",
              "    <tr>\n",
              "      <th>31</th>\n",
              "      <td>Ведущий программист 1С</td>\n",
              "      <td>94</td>\n",
              "    </tr>\n",
              "    <tr>\n",
              "      <th>32</th>\n",
              "      <td>Технический директор</td>\n",
              "      <td>94</td>\n",
              "    </tr>\n",
              "    <tr>\n",
              "      <th>33</th>\n",
              "      <td>Ведущий инженер-программист</td>\n",
              "      <td>92</td>\n",
              "    </tr>\n",
              "    <tr>\n",
              "      <th>34</th>\n",
              "      <td>QA Engineer</td>\n",
              "      <td>91</td>\n",
              "    </tr>\n",
              "    <tr>\n",
              "      <th>35</th>\n",
              "      <td>Web-разработчик</td>\n",
              "      <td>88</td>\n",
              "    </tr>\n",
              "    <tr>\n",
              "      <th>36</th>\n",
              "      <td>IOS разработчик</td>\n",
              "      <td>86</td>\n",
              "    </tr>\n",
              "    <tr>\n",
              "      <th>37</th>\n",
              "      <td>Помощник системного администратора</td>\n",
              "      <td>86</td>\n",
              "    </tr>\n",
              "    <tr>\n",
              "      <th>38</th>\n",
              "      <td>Программист-разработчик</td>\n",
              "      <td>85</td>\n",
              "    </tr>\n",
              "    <tr>\n",
              "      <th>39</th>\n",
              "      <td>Аналитик 1С</td>\n",
              "      <td>85</td>\n",
              "    </tr>\n",
              "    <tr>\n",
              "      <th>40</th>\n",
              "      <td>Специалист службы поддержки с техническими зна...</td>\n",
              "      <td>84</td>\n",
              "    </tr>\n",
              "    <tr>\n",
              "      <th>41</th>\n",
              "      <td>Разработчик 1С</td>\n",
              "      <td>83</td>\n",
              "    </tr>\n",
              "    <tr>\n",
              "      <th>42</th>\n",
              "      <td>Компьютерный Мастер</td>\n",
              "      <td>83</td>\n",
              "    </tr>\n",
              "    <tr>\n",
              "      <th>43</th>\n",
              "      <td>Консультант 1С</td>\n",
              "      <td>82</td>\n",
              "    </tr>\n",
              "    <tr>\n",
              "      <th>44</th>\n",
              "      <td>Project Manager</td>\n",
              "      <td>81</td>\n",
              "    </tr>\n",
              "    <tr>\n",
              "      <th>45</th>\n",
              "      <td>Web-программист</td>\n",
              "      <td>81</td>\n",
              "    </tr>\n",
              "    <tr>\n",
              "      <th>46</th>\n",
              "      <td>Ученик компьютерного мастера</td>\n",
              "      <td>79</td>\n",
              "    </tr>\n",
              "    <tr>\n",
              "      <th>47</th>\n",
              "      <td>Аналитик данных</td>\n",
              "      <td>78</td>\n",
              "    </tr>\n",
              "    <tr>\n",
              "      <th>48</th>\n",
              "      <td>Инженер</td>\n",
              "      <td>78</td>\n",
              "    </tr>\n",
              "    <tr>\n",
              "      <th>49</th>\n",
              "      <td>Сетевой инженер</td>\n",
              "      <td>78</td>\n",
              "    </tr>\n",
              "  </tbody>\n",
              "</table>\n",
              "</div>\n",
              "      <button class=\"colab-df-convert\" onclick=\"convertToInteractive('df-0bbc2f81-3ba0-43bb-9a47-ac608b2dd34f')\"\n",
              "              title=\"Convert this dataframe to an interactive table.\"\n",
              "              style=\"display:none;\">\n",
              "        \n",
              "  <svg xmlns=\"http://www.w3.org/2000/svg\" height=\"24px\"viewBox=\"0 0 24 24\"\n",
              "       width=\"24px\">\n",
              "    <path d=\"M0 0h24v24H0V0z\" fill=\"none\"/>\n",
              "    <path d=\"M18.56 5.44l.94 2.06.94-2.06 2.06-.94-2.06-.94-.94-2.06-.94 2.06-2.06.94zm-11 1L8.5 8.5l.94-2.06 2.06-.94-2.06-.94L8.5 2.5l-.94 2.06-2.06.94zm10 10l.94 2.06.94-2.06 2.06-.94-2.06-.94-.94-2.06-.94 2.06-2.06.94z\"/><path d=\"M17.41 7.96l-1.37-1.37c-.4-.4-.92-.59-1.43-.59-.52 0-1.04.2-1.43.59L10.3 9.45l-7.72 7.72c-.78.78-.78 2.05 0 2.83L4 21.41c.39.39.9.59 1.41.59.51 0 1.02-.2 1.41-.59l7.78-7.78 2.81-2.81c.8-.78.8-2.07 0-2.86zM5.41 20L4 18.59l7.72-7.72 1.47 1.35L5.41 20z\"/>\n",
              "  </svg>\n",
              "      </button>\n",
              "      \n",
              "  <style>\n",
              "    .colab-df-container {\n",
              "      display:flex;\n",
              "      flex-wrap:wrap;\n",
              "      gap: 12px;\n",
              "    }\n",
              "\n",
              "    .colab-df-convert {\n",
              "      background-color: #E8F0FE;\n",
              "      border: none;\n",
              "      border-radius: 50%;\n",
              "      cursor: pointer;\n",
              "      display: none;\n",
              "      fill: #1967D2;\n",
              "      height: 32px;\n",
              "      padding: 0 0 0 0;\n",
              "      width: 32px;\n",
              "    }\n",
              "\n",
              "    .colab-df-convert:hover {\n",
              "      background-color: #E2EBFA;\n",
              "      box-shadow: 0px 1px 2px rgba(60, 64, 67, 0.3), 0px 1px 3px 1px rgba(60, 64, 67, 0.15);\n",
              "      fill: #174EA6;\n",
              "    }\n",
              "\n",
              "    [theme=dark] .colab-df-convert {\n",
              "      background-color: #3B4455;\n",
              "      fill: #D2E3FC;\n",
              "    }\n",
              "\n",
              "    [theme=dark] .colab-df-convert:hover {\n",
              "      background-color: #434B5C;\n",
              "      box-shadow: 0px 1px 3px 1px rgba(0, 0, 0, 0.15);\n",
              "      filter: drop-shadow(0px 1px 2px rgba(0, 0, 0, 0.3));\n",
              "      fill: #FFFFFF;\n",
              "    }\n",
              "  </style>\n",
              "\n",
              "      <script>\n",
              "        const buttonEl =\n",
              "          document.querySelector('#df-0bbc2f81-3ba0-43bb-9a47-ac608b2dd34f button.colab-df-convert');\n",
              "        buttonEl.style.display =\n",
              "          google.colab.kernel.accessAllowed ? 'block' : 'none';\n",
              "\n",
              "        async function convertToInteractive(key) {\n",
              "          const element = document.querySelector('#df-0bbc2f81-3ba0-43bb-9a47-ac608b2dd34f');\n",
              "          const dataTable =\n",
              "            await google.colab.kernel.invokeFunction('convertToInteractive',\n",
              "                                                     [key], {});\n",
              "          if (!dataTable) return;\n",
              "\n",
              "          const docLinkHtml = 'Like what you see? Visit the ' +\n",
              "            '<a target=\"_blank\" href=https://colab.research.google.com/notebooks/data_table.ipynb>data table notebook</a>'\n",
              "            + ' to learn more about interactive tables.';\n",
              "          element.innerHTML = '';\n",
              "          dataTable['output_type'] = 'display_data';\n",
              "          await google.colab.output.renderOutput(dataTable, element);\n",
              "          const docLink = document.createElement('div');\n",
              "          docLink.innerHTML = docLinkHtml;\n",
              "          element.appendChild(docLink);\n",
              "        }\n",
              "      </script>\n",
              "    </div>\n",
              "  </div>\n",
              "  "
            ]
          },
          "metadata": {},
          "execution_count": 7
        }
      ]
    },
    {
      "cell_type": "code",
      "source": [
        "query_7_2 = f'''(SELECT 'Системный администратор' object_description,\n",
        "            experience,\n",
        "            Round(Avg(\n",
        "                    (Coalesce(salary_from, salary_to) + Coalesce(salary_to, salary_from)) / 2\n",
        "                )) avg_salary\n",
        "    FROM vacancies\n",
        "    WHERE  (salary_to IS NOT NULL\n",
        "            OR salary_from IS NOT NULL\n",
        "           ) \n",
        "           AND (\n",
        "        Lower(name) LIKE '%cистемный администратор%'\n",
        ")  \n",
        "GROUP BY 1,2)\n",
        "UNION\n",
        "(SELECT 'Тестировщик' object_description,\n",
        "            experience,\n",
        "            Round(Avg(\n",
        "                    (Coalesce(salary_from, salary_to) + Coalesce(salary_to, salary_from)) / 2\n",
        "                )) avg_salary\n",
        "    FROM vacancies\n",
        "    WHERE  (salary_to IS NOT NULL\n",
        "            OR salary_from IS NOT NULL\n",
        "           ) \n",
        "           AND (\n",
        "        Lower(name) LIKE '%тестиров%'\n",
        "        OR Lower(name) LIKE '%qa engin%'\n",
        "        OR Lower(name) LIKE '%qa-специалист%'\n",
        "       \n",
        ")  \n",
        "GROUP BY 1,2)\n",
        "UNION\n",
        "(SELECT 'Программист' object_description,\n",
        "            experience,\n",
        "            Round(Avg(\n",
        "                    (Coalesce(salary_from, salary_to) + Coalesce(salary_to, salary_from)) / 2\n",
        "                )) avg_salary\n",
        "    FROM vacancies\n",
        "    WHERE  (salary_to IS NOT NULL\n",
        "            OR salary_from IS NOT NULL\n",
        "           ) \n",
        "           AND (\n",
        "        Lower(name) LIKE '%программист%'\n",
        "        OR Lower(name) LIKE '%programmer%'\n",
        "        OR Lower(name) LIKE '%программист 1С%'\n",
        "       \n",
        ")  \n",
        "GROUP BY 1,2)\n",
        "UNION\n",
        "(SELECT 'Аналитик данных' object_description,\n",
        "            experience,\n",
        "            Round(Avg(\n",
        "                    (Coalesce(salary_from, salary_to) + Coalesce(salary_to, salary_from)) / 2\n",
        "                )) avg_salary\n",
        "    FROM vacancies\n",
        "    WHERE  (salary_to IS NOT NULL\n",
        "            OR salary_from IS NOT NULL\n",
        "           ) \n",
        "           AND (\n",
        "        Lower(name) LIKE '%аналитик%'\n",
        "        OR Lower(name) LIKE '%data analytics%'\n",
        "        OR Lower(name) LIKE '%data analyst%'\n",
        ")  \n",
        "GROUP BY 1,2)\n",
        "UNION\n",
        "(SELECT 'Разработчик' object_description,\n",
        "            experience,\n",
        "            Round(Avg(\n",
        "                    (Coalesce(salary_from, salary_to) + Coalesce(salary_to, salary_from)) / 2\n",
        "                )) avg_salary\n",
        "    FROM vacancies\n",
        "    WHERE  (salary_to IS NOT NULL\n",
        "            OR salary_from IS NOT NULL\n",
        "           ) \n",
        "           AND (\n",
        "        Lower(name) LIKE '%разработчик%'\n",
        "        OR Lower(name) LIKE '%developer%'\n",
        "        OR Lower(name) LIKE '%devops%'\n",
        ")  \n",
        "GROUP BY 1,2)\n",
        "UNION \n",
        "(SELECT 'Специалист по информационной безопасности' object_description,\n",
        "            experience,\n",
        "            Round(Avg(\n",
        "                    (Coalesce(salary_from, salary_to) + Coalesce(salary_to, salary_from)) / 2\n",
        "                )) avg_salary\n",
        "    FROM vacancies\n",
        "    WHERE  (salary_to IS NOT NULL\n",
        "            OR salary_from IS NOT NULL\n",
        "           ) \n",
        "           AND (\n",
        "        Lower(name) LIKE '%безопасност%'\n",
        "        OR Lower(name) LIKE '%secops%'\n",
        "        OR Lower(name) LIKE '%цифров%кримин%'\n",
        "        OR Lower(name) LIKE '%этичн%хакер%'\n",
        "        OR Lower(name) LIKE '%пентестер%'\n",
        "        OR Lower(name) LIKE '%охотн%за ошибками%'\n",
        "        OR Lower(name) LIKE '%иб-специалист%'\n",
        ")  \n",
        "GROUP BY 1,2)\n",
        "ORDER BY avg_salary'''\n",
        "\n",
        "df = pd.read_sql_query(query_7_2, connection)\n",
        "df \n"
      ],
      "metadata": {
        "colab": {
          "base_uri": "https://localhost:8080/",
          "height": 794
        },
        "id": "Z9Kdv9uroxEQ",
        "outputId": "227a42da-f238-4203-a9e5-03403f7f1308"
      },
      "id": "Z9Kdv9uroxEQ",
      "execution_count": 9,
      "outputs": [
        {
          "output_type": "stream",
          "name": "stderr",
          "text": [
            "<ipython-input-9-2a4bf3aacde6>:102: UserWarning: pandas only supports SQLAlchemy connectable (engine/connection) or database string URI or sqlite3 DBAPI2 connection. Other DBAPI2 objects are not tested. Please consider using SQLAlchemy.\n",
            "  df = pd.read_sql_query(query_7_2, connection)\n"
          ]
        },
        {
          "output_type": "execute_result",
          "data": {
            "text/plain": [
              "                           object_description          experience  avg_salary\n",
              "0                     Системный администратор  От 1 года до 3 лет     35069.0\n",
              "1                                 Тестировщик           Нет опыта     44151.0\n",
              "2   Специалист по информационной безопасности           Нет опыта     44955.0\n",
              "3                                 Программист           Нет опыта     47856.0\n",
              "4                     Системный администратор       От 3 до 6 лет     48000.0\n",
              "5                             Аналитик данных           Нет опыта     48338.0\n",
              "6   Специалист по информационной безопасности  От 1 года до 3 лет     60939.0\n",
              "7                                 Разработчик           Нет опыта     71473.0\n",
              "8                                 Тестировщик  От 1 года до 3 лет     79618.0\n",
              "9                             Аналитик данных  От 1 года до 3 лет     81290.0\n",
              "10                                Программист  От 1 года до 3 лет     87285.0\n",
              "11  Специалист по информационной безопасности       От 3 до 6 лет     94794.0\n",
              "12                                Разработчик  От 1 года до 3 лет    120620.0\n",
              "13                                Программист       От 3 до 6 лет    123011.0\n",
              "14                            Аналитик данных       От 3 до 6 лет    134934.0\n",
              "15                            Аналитик данных         Более 6 лет    140107.0\n",
              "16                                Тестировщик       От 3 до 6 лет    144186.0\n",
              "17  Специалист по информационной безопасности         Более 6 лет    148000.0\n",
              "18                                Программист         Более 6 лет    148930.0\n",
              "19                                Разработчик       От 3 до 6 лет    189473.0\n",
              "20                                Разработчик         Более 6 лет    212994.0\n",
              "21                                Тестировщик         Более 6 лет    277279.0"
            ],
            "text/html": [
              "\n",
              "  <div id=\"df-4eb6405a-ba62-43e1-a163-a3b00ee30600\">\n",
              "    <div class=\"colab-df-container\">\n",
              "      <div>\n",
              "<style scoped>\n",
              "    .dataframe tbody tr th:only-of-type {\n",
              "        vertical-align: middle;\n",
              "    }\n",
              "\n",
              "    .dataframe tbody tr th {\n",
              "        vertical-align: top;\n",
              "    }\n",
              "\n",
              "    .dataframe thead th {\n",
              "        text-align: right;\n",
              "    }\n",
              "</style>\n",
              "<table border=\"1\" class=\"dataframe\">\n",
              "  <thead>\n",
              "    <tr style=\"text-align: right;\">\n",
              "      <th></th>\n",
              "      <th>object_description</th>\n",
              "      <th>experience</th>\n",
              "      <th>avg_salary</th>\n",
              "    </tr>\n",
              "  </thead>\n",
              "  <tbody>\n",
              "    <tr>\n",
              "      <th>0</th>\n",
              "      <td>Системный администратор</td>\n",
              "      <td>От 1 года до 3 лет</td>\n",
              "      <td>35069.0</td>\n",
              "    </tr>\n",
              "    <tr>\n",
              "      <th>1</th>\n",
              "      <td>Тестировщик</td>\n",
              "      <td>Нет опыта</td>\n",
              "      <td>44151.0</td>\n",
              "    </tr>\n",
              "    <tr>\n",
              "      <th>2</th>\n",
              "      <td>Специалист по информационной безопасности</td>\n",
              "      <td>Нет опыта</td>\n",
              "      <td>44955.0</td>\n",
              "    </tr>\n",
              "    <tr>\n",
              "      <th>3</th>\n",
              "      <td>Программист</td>\n",
              "      <td>Нет опыта</td>\n",
              "      <td>47856.0</td>\n",
              "    </tr>\n",
              "    <tr>\n",
              "      <th>4</th>\n",
              "      <td>Системный администратор</td>\n",
              "      <td>От 3 до 6 лет</td>\n",
              "      <td>48000.0</td>\n",
              "    </tr>\n",
              "    <tr>\n",
              "      <th>5</th>\n",
              "      <td>Аналитик данных</td>\n",
              "      <td>Нет опыта</td>\n",
              "      <td>48338.0</td>\n",
              "    </tr>\n",
              "    <tr>\n",
              "      <th>6</th>\n",
              "      <td>Специалист по информационной безопасности</td>\n",
              "      <td>От 1 года до 3 лет</td>\n",
              "      <td>60939.0</td>\n",
              "    </tr>\n",
              "    <tr>\n",
              "      <th>7</th>\n",
              "      <td>Разработчик</td>\n",
              "      <td>Нет опыта</td>\n",
              "      <td>71473.0</td>\n",
              "    </tr>\n",
              "    <tr>\n",
              "      <th>8</th>\n",
              "      <td>Тестировщик</td>\n",
              "      <td>От 1 года до 3 лет</td>\n",
              "      <td>79618.0</td>\n",
              "    </tr>\n",
              "    <tr>\n",
              "      <th>9</th>\n",
              "      <td>Аналитик данных</td>\n",
              "      <td>От 1 года до 3 лет</td>\n",
              "      <td>81290.0</td>\n",
              "    </tr>\n",
              "    <tr>\n",
              "      <th>10</th>\n",
              "      <td>Программист</td>\n",
              "      <td>От 1 года до 3 лет</td>\n",
              "      <td>87285.0</td>\n",
              "    </tr>\n",
              "    <tr>\n",
              "      <th>11</th>\n",
              "      <td>Специалист по информационной безопасности</td>\n",
              "      <td>От 3 до 6 лет</td>\n",
              "      <td>94794.0</td>\n",
              "    </tr>\n",
              "    <tr>\n",
              "      <th>12</th>\n",
              "      <td>Разработчик</td>\n",
              "      <td>От 1 года до 3 лет</td>\n",
              "      <td>120620.0</td>\n",
              "    </tr>\n",
              "    <tr>\n",
              "      <th>13</th>\n",
              "      <td>Программист</td>\n",
              "      <td>От 3 до 6 лет</td>\n",
              "      <td>123011.0</td>\n",
              "    </tr>\n",
              "    <tr>\n",
              "      <th>14</th>\n",
              "      <td>Аналитик данных</td>\n",
              "      <td>От 3 до 6 лет</td>\n",
              "      <td>134934.0</td>\n",
              "    </tr>\n",
              "    <tr>\n",
              "      <th>15</th>\n",
              "      <td>Аналитик данных</td>\n",
              "      <td>Более 6 лет</td>\n",
              "      <td>140107.0</td>\n",
              "    </tr>\n",
              "    <tr>\n",
              "      <th>16</th>\n",
              "      <td>Тестировщик</td>\n",
              "      <td>От 3 до 6 лет</td>\n",
              "      <td>144186.0</td>\n",
              "    </tr>\n",
              "    <tr>\n",
              "      <th>17</th>\n",
              "      <td>Специалист по информационной безопасности</td>\n",
              "      <td>Более 6 лет</td>\n",
              "      <td>148000.0</td>\n",
              "    </tr>\n",
              "    <tr>\n",
              "      <th>18</th>\n",
              "      <td>Программист</td>\n",
              "      <td>Более 6 лет</td>\n",
              "      <td>148930.0</td>\n",
              "    </tr>\n",
              "    <tr>\n",
              "      <th>19</th>\n",
              "      <td>Разработчик</td>\n",
              "      <td>От 3 до 6 лет</td>\n",
              "      <td>189473.0</td>\n",
              "    </tr>\n",
              "    <tr>\n",
              "      <th>20</th>\n",
              "      <td>Разработчик</td>\n",
              "      <td>Более 6 лет</td>\n",
              "      <td>212994.0</td>\n",
              "    </tr>\n",
              "    <tr>\n",
              "      <th>21</th>\n",
              "      <td>Тестировщик</td>\n",
              "      <td>Более 6 лет</td>\n",
              "      <td>277279.0</td>\n",
              "    </tr>\n",
              "  </tbody>\n",
              "</table>\n",
              "</div>\n",
              "      <button class=\"colab-df-convert\" onclick=\"convertToInteractive('df-4eb6405a-ba62-43e1-a163-a3b00ee30600')\"\n",
              "              title=\"Convert this dataframe to an interactive table.\"\n",
              "              style=\"display:none;\">\n",
              "        \n",
              "  <svg xmlns=\"http://www.w3.org/2000/svg\" height=\"24px\"viewBox=\"0 0 24 24\"\n",
              "       width=\"24px\">\n",
              "    <path d=\"M0 0h24v24H0V0z\" fill=\"none\"/>\n",
              "    <path d=\"M18.56 5.44l.94 2.06.94-2.06 2.06-.94-2.06-.94-.94-2.06-.94 2.06-2.06.94zm-11 1L8.5 8.5l.94-2.06 2.06-.94-2.06-.94L8.5 2.5l-.94 2.06-2.06.94zm10 10l.94 2.06.94-2.06 2.06-.94-2.06-.94-.94-2.06-.94 2.06-2.06.94z\"/><path d=\"M17.41 7.96l-1.37-1.37c-.4-.4-.92-.59-1.43-.59-.52 0-1.04.2-1.43.59L10.3 9.45l-7.72 7.72c-.78.78-.78 2.05 0 2.83L4 21.41c.39.39.9.59 1.41.59.51 0 1.02-.2 1.41-.59l7.78-7.78 2.81-2.81c.8-.78.8-2.07 0-2.86zM5.41 20L4 18.59l7.72-7.72 1.47 1.35L5.41 20z\"/>\n",
              "  </svg>\n",
              "      </button>\n",
              "      \n",
              "  <style>\n",
              "    .colab-df-container {\n",
              "      display:flex;\n",
              "      flex-wrap:wrap;\n",
              "      gap: 12px;\n",
              "    }\n",
              "\n",
              "    .colab-df-convert {\n",
              "      background-color: #E8F0FE;\n",
              "      border: none;\n",
              "      border-radius: 50%;\n",
              "      cursor: pointer;\n",
              "      display: none;\n",
              "      fill: #1967D2;\n",
              "      height: 32px;\n",
              "      padding: 0 0 0 0;\n",
              "      width: 32px;\n",
              "    }\n",
              "\n",
              "    .colab-df-convert:hover {\n",
              "      background-color: #E2EBFA;\n",
              "      box-shadow: 0px 1px 2px rgba(60, 64, 67, 0.3), 0px 1px 3px 1px rgba(60, 64, 67, 0.15);\n",
              "      fill: #174EA6;\n",
              "    }\n",
              "\n",
              "    [theme=dark] .colab-df-convert {\n",
              "      background-color: #3B4455;\n",
              "      fill: #D2E3FC;\n",
              "    }\n",
              "\n",
              "    [theme=dark] .colab-df-convert:hover {\n",
              "      background-color: #434B5C;\n",
              "      box-shadow: 0px 1px 3px 1px rgba(0, 0, 0, 0.15);\n",
              "      filter: drop-shadow(0px 1px 2px rgba(0, 0, 0, 0.3));\n",
              "      fill: #FFFFFF;\n",
              "    }\n",
              "  </style>\n",
              "\n",
              "      <script>\n",
              "        const buttonEl =\n",
              "          document.querySelector('#df-4eb6405a-ba62-43e1-a163-a3b00ee30600 button.colab-df-convert');\n",
              "        buttonEl.style.display =\n",
              "          google.colab.kernel.accessAllowed ? 'block' : 'none';\n",
              "\n",
              "        async function convertToInteractive(key) {\n",
              "          const element = document.querySelector('#df-4eb6405a-ba62-43e1-a163-a3b00ee30600');\n",
              "          const dataTable =\n",
              "            await google.colab.kernel.invokeFunction('convertToInteractive',\n",
              "                                                     [key], {});\n",
              "          if (!dataTable) return;\n",
              "\n",
              "          const docLinkHtml = 'Like what you see? Visit the ' +\n",
              "            '<a target=\"_blank\" href=https://colab.research.google.com/notebooks/data_table.ipynb>data table notebook</a>'\n",
              "            + ' to learn more about interactive tables.';\n",
              "          element.innerHTML = '';\n",
              "          dataTable['output_type'] = 'display_data';\n",
              "          await google.colab.output.renderOutput(dataTable, element);\n",
              "          const docLink = document.createElement('div');\n",
              "          docLink.innerHTML = docLinkHtml;\n",
              "          element.appendChild(docLink);\n",
              "        }\n",
              "      </script>\n",
              "    </div>\n",
              "  </div>\n",
              "  "
            ]
          },
          "metadata": {},
          "execution_count": 9
        }
      ]
    }
  ],
  "metadata": {
    "kernelspec": {
      "display_name": "Python 3 (ipykernel)",
      "language": "python",
      "name": "python3"
    },
    "language_info": {
      "codemirror_mode": {
        "name": "ipython",
        "version": 3
      },
      "file_extension": ".py",
      "mimetype": "text/x-python",
      "name": "python",
      "nbconvert_exporter": "python",
      "pygments_lexer": "ipython3",
      "version": "3.9.7"
    },
    "colab": {
      "provenance": [],
      "include_colab_link": true
    }
  },
  "nbformat": 4,
  "nbformat_minor": 5
}