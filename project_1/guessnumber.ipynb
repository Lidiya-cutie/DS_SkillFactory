{
 "cells": [
  {
   "cell_type": "markdown",
   "metadata": {},
   "source": [
    "# Игра угадай число"
   ]
  },
  {
   "cell_type": "code",
   "execution_count": 3,
   "metadata": {},
   "outputs": [],
   "source": [
    "from game_v2 import score_game\n",
    "from game_v2 import random_predict"
   ]
  },
  {
   "attachments": {},
   "cell_type": "markdown",
   "metadata": {},
   "source": [
    "## Компьютер рандомно угадывает число меньше чем за 20 попыток"
   ]
  },
  {
   "cell_type": "code",
   "execution_count": 3,
   "metadata": {},
   "outputs": [
    {
     "name": "stdout",
     "output_type": "stream",
     "text": [
      "Компьютер угадал число за 7 попыток. Это число 19\n"
     ]
    }
   ],
   "source": [
    "import numpy as np\n",
    "\n",
    "min = 1 # нижняя граница\n",
    "max = 100 # верхняя граница\n",
    "\n",
    "number = np.random.randint(min, max) # предполагаемое число, начинаем с рандома\n",
    "\n",
    "guessing_made = 0 # число попыток\n",
    "\n",
    "while True:\n",
    "    guessing_made+=1\n",
    "    predict_number = round((max+min) / 2)\n",
    "    \n",
    "    if predict_number > number:\n",
    "        max = predict_number\n",
    "    \n",
    "    elif predict_number < number:\n",
    "        min = predict_number\n",
    "\n",
    "    else:\n",
    "        # print(f\"Компьютер угадал число за {guessing_made} попыток. Это число {number}\")\n",
    "        break #конец игры выход из цикла\n",
    "\n",
    "print(f\"Компьютер угадал число за {guessing_made} попыток. Это число {number}\")"
   ]
  }
 ],
 "metadata": {
  "kernelspec": {
   "display_name": "Python 3",
   "language": "python",
   "name": "python3"
  },
  "language_info": {
   "codemirror_mode": {
    "name": "ipython",
    "version": 3
   },
   "file_extension": ".py",
   "mimetype": "text/x-python",
   "name": "python",
   "nbconvert_exporter": "python",
   "pygments_lexer": "ipython3",
   "version": "3.9.10 (tags/v3.9.10:f2f3f53, Jan 17 2022, 15:14:21) [MSC v.1929 64 bit (AMD64)]"
  },
  "orig_nbformat": 4,
  "vscode": {
   "interpreter": {
    "hash": "5965ad4b3656937d28e7bae6a05fd71edc8692d01ed5a941be35593b4d4d9925"
   }
  }
 },
 "nbformat": 4,
 "nbformat_minor": 2
}
