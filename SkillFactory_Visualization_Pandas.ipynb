{
  "cells": [
    {
      "cell_type": "markdown",
      "metadata": {
        "id": "view-in-github",
        "colab_type": "text"
      },
      "source": [
        "<a href=\"https://colab.research.google.com/github/Lidiya-cutie/DS_SkillFactory/blob/main/SkillFactory_Visualization_Pandas.ipynb\" target=\"_parent\"><img src=\"https://colab.research.google.com/assets/colab-badge.svg\" alt=\"Open In Colab\"/></a>"
      ]
    },
    {
      "cell_type": "markdown",
      "id": "f9f1e90b-5227-465b-a58d-35f76bc3ceeb",
      "metadata": {
        "id": "f9f1e90b-5227-465b-a58d-35f76bc3ceeb"
      },
      "source": [
        "# <center> Раздел 2. Модуль 5. Визуализация данных"
      ]
    },
    {
      "cell_type": "markdown",
      "id": "fdc20fb7-67c4-4d27-a84a-f51e98cdded7",
      "metadata": {
        "id": "fdc20fb7-67c4-4d27-a84a-f51e98cdded7"
      },
      "source": [
        "## <center> Графические возможности библиотеки pandas"
      ]
    },
    {
      "cell_type": "code",
      "execution_count": 4,
      "id": "d9fd2d12-ba06-4776-9363-2c291ddb44cf",
      "metadata": {
        "id": "d9fd2d12-ba06-4776-9363-2c291ddb44cf"
      },
      "outputs": [],
      "source": [
        "import pandas as pd"
      ]
    },
    {
      "cell_type": "code",
      "source": [
        "import matplotlib\n"
      ],
      "metadata": {
        "id": "VZUdu9Qe6hZc"
      },
      "id": "VZUdu9Qe6hZc",
      "execution_count": 20,
      "outputs": []
    },
    {
      "cell_type": "code",
      "source": [
        "covid_data = pd.read_csv('/content/covid_data.csv') "
      ],
      "metadata": {
        "id": "yLO7vOxlAVIc"
      },
      "id": "yLO7vOxlAVIc",
      "execution_count": null,
      "outputs": []
    },
    {
      "cell_type": "code",
      "source": [
        "country_vaccinations = pd.read_csv('/content/country_vaccinations.csv')"
      ],
      "metadata": {
        "id": "XqryHuAeBK84"
      },
      "id": "XqryHuAeBK84",
      "execution_count": null,
      "outputs": []
    },
    {
      "cell_type": "code",
      "source": [
        "covid_data = covid_data.groupby(\n",
        "    ['date', 'country'], \n",
        "    as_index=False\n",
        ")[['confirmed', 'deaths', 'recovered']].sum()"
      ],
      "metadata": {
        "id": "QWs2WkEeASLA"
      },
      "id": "QWs2WkEeASLA",
      "execution_count": null,
      "outputs": []
    },
    {
      "cell_type": "code",
      "source": [
        "covid_data['date'] = pd.to_datetime(covid_data['date'])\n"
      ],
      "metadata": {
        "id": "HQabah14CSvB"
      },
      "id": "HQabah14CSvB",
      "execution_count": null,
      "outputs": []
    },
    {
      "cell_type": "code",
      "source": [
        "covid_data['active'] = covid_data['confirmed'] - covid_data['deaths'] - covid_data['recovered']\n"
      ],
      "metadata": {
        "id": "fQP_UVUyCc7p"
      },
      "id": "fQP_UVUyCc7p",
      "execution_count": null,
      "outputs": []
    },
    {
      "cell_type": "code",
      "source": [
        "covid_data = covid_data.sort_values(by=['country', 'date'])\n",
        "covid_data['daily_confirmed'] = covid_data.groupby('country')['confirmed'].diff()\n",
        "covid_data['daily_deaths'] = covid_data.groupby('country')['deaths'].diff()\n",
        "covid_data['daily_recovered'] = covid_data.groupby('country')['recovered'].diff()"
      ],
      "metadata": {
        "id": "xKN-uljmChx3"
      },
      "id": "xKN-uljmChx3",
      "execution_count": null,
      "outputs": []
    },
    {
      "cell_type": "code",
      "source": [
        "country_vaccinations['date'] = pd.to_datetime(country_vaccinations['date'])\n"
      ],
      "metadata": {
        "id": "i8E7P4PpCmpB"
      },
      "id": "i8E7P4PpCmpB",
      "execution_count": null,
      "outputs": []
    },
    {
      "cell_type": "code",
      "source": [
        "covid_df = covid_data.merge(country_vaccinations, on=['date', 'country'], how='left')"
      ],
      "metadata": {
        "id": "R7qwmj0bC7VD"
      },
      "id": "R7qwmj0bC7VD",
      "execution_count": null,
      "outputs": []
    },
    {
      "cell_type": "code",
      "execution_count": null,
      "id": "b276f5bc-db57-4e82-9fc3-a0491c942847",
      "metadata": {
        "colab": {
          "base_uri": "https://localhost:8080/",
          "height": 386
        },
        "id": "b276f5bc-db57-4e82-9fc3-a0491c942847",
        "outputId": "33263273-bf03-4b65-9c44-a7f594485177"
      },
      "outputs": [
        {
          "output_type": "execute_result",
          "data": {
            "text/plain": [
              "        date      country  confirmed  deaths  recovered  active  \\\n",
              "0 2020-02-24  Afghanistan        1.0     0.0        0.0     1.0   \n",
              "1 2020-02-25  Afghanistan        1.0     0.0        0.0     1.0   \n",
              "2 2020-02-26  Afghanistan        1.0     0.0        0.0     1.0   \n",
              "3 2020-02-27  Afghanistan        1.0     0.0        0.0     1.0   \n",
              "4 2020-02-28  Afghanistan        1.0     0.0        0.0     1.0   \n",
              "\n",
              "   daily_confirmed  daily_deaths  daily_recovered iso_code  ...  \\\n",
              "0              NaN           NaN              NaN      NaN  ...   \n",
              "1              0.0           0.0              0.0      NaN  ...   \n",
              "2              0.0           0.0              0.0      NaN  ...   \n",
              "3              0.0           0.0              0.0      NaN  ...   \n",
              "4              0.0           0.0              0.0      NaN  ...   \n",
              "\n",
              "   people_fully_vaccinated  daily_vaccinations_raw  daily_vaccinations  \\\n",
              "0                      NaN                     NaN                 NaN   \n",
              "1                      NaN                     NaN                 NaN   \n",
              "2                      NaN                     NaN                 NaN   \n",
              "3                      NaN                     NaN                 NaN   \n",
              "4                      NaN                     NaN                 NaN   \n",
              "\n",
              "   total_vaccinations_per_hundred  people_vaccinated_per_hundred  \\\n",
              "0                             NaN                            NaN   \n",
              "1                             NaN                            NaN   \n",
              "2                             NaN                            NaN   \n",
              "3                             NaN                            NaN   \n",
              "4                             NaN                            NaN   \n",
              "\n",
              "   people_fully_vaccinated_per_hundred  daily_vaccinations_per_million  \\\n",
              "0                                  NaN                             NaN   \n",
              "1                                  NaN                             NaN   \n",
              "2                                  NaN                             NaN   \n",
              "3                                  NaN                             NaN   \n",
              "4                                  NaN                             NaN   \n",
              "\n",
              "   vaccines  source_name source_website  \n",
              "0       NaN          NaN            NaN  \n",
              "1       NaN          NaN            NaN  \n",
              "2       NaN          NaN            NaN  \n",
              "3       NaN          NaN            NaN  \n",
              "4       NaN          NaN            NaN  \n",
              "\n",
              "[5 rows x 22 columns]"
            ],
            "text/html": [
              "\n",
              "  <div id=\"df-14980e69-bfcb-4354-a086-ef0bd9f58cf5\">\n",
              "    <div class=\"colab-df-container\">\n",
              "      <div>\n",
              "<style scoped>\n",
              "    .dataframe tbody tr th:only-of-type {\n",
              "        vertical-align: middle;\n",
              "    }\n",
              "\n",
              "    .dataframe tbody tr th {\n",
              "        vertical-align: top;\n",
              "    }\n",
              "\n",
              "    .dataframe thead th {\n",
              "        text-align: right;\n",
              "    }\n",
              "</style>\n",
              "<table border=\"1\" class=\"dataframe\">\n",
              "  <thead>\n",
              "    <tr style=\"text-align: right;\">\n",
              "      <th></th>\n",
              "      <th>date</th>\n",
              "      <th>country</th>\n",
              "      <th>confirmed</th>\n",
              "      <th>deaths</th>\n",
              "      <th>recovered</th>\n",
              "      <th>active</th>\n",
              "      <th>daily_confirmed</th>\n",
              "      <th>daily_deaths</th>\n",
              "      <th>daily_recovered</th>\n",
              "      <th>iso_code</th>\n",
              "      <th>...</th>\n",
              "      <th>people_fully_vaccinated</th>\n",
              "      <th>daily_vaccinations_raw</th>\n",
              "      <th>daily_vaccinations</th>\n",
              "      <th>total_vaccinations_per_hundred</th>\n",
              "      <th>people_vaccinated_per_hundred</th>\n",
              "      <th>people_fully_vaccinated_per_hundred</th>\n",
              "      <th>daily_vaccinations_per_million</th>\n",
              "      <th>vaccines</th>\n",
              "      <th>source_name</th>\n",
              "      <th>source_website</th>\n",
              "    </tr>\n",
              "  </thead>\n",
              "  <tbody>\n",
              "    <tr>\n",
              "      <th>0</th>\n",
              "      <td>2020-02-24</td>\n",
              "      <td>Afghanistan</td>\n",
              "      <td>1.0</td>\n",
              "      <td>0.0</td>\n",
              "      <td>0.0</td>\n",
              "      <td>1.0</td>\n",
              "      <td>NaN</td>\n",
              "      <td>NaN</td>\n",
              "      <td>NaN</td>\n",
              "      <td>NaN</td>\n",
              "      <td>...</td>\n",
              "      <td>NaN</td>\n",
              "      <td>NaN</td>\n",
              "      <td>NaN</td>\n",
              "      <td>NaN</td>\n",
              "      <td>NaN</td>\n",
              "      <td>NaN</td>\n",
              "      <td>NaN</td>\n",
              "      <td>NaN</td>\n",
              "      <td>NaN</td>\n",
              "      <td>NaN</td>\n",
              "    </tr>\n",
              "    <tr>\n",
              "      <th>1</th>\n",
              "      <td>2020-02-25</td>\n",
              "      <td>Afghanistan</td>\n",
              "      <td>1.0</td>\n",
              "      <td>0.0</td>\n",
              "      <td>0.0</td>\n",
              "      <td>1.0</td>\n",
              "      <td>0.0</td>\n",
              "      <td>0.0</td>\n",
              "      <td>0.0</td>\n",
              "      <td>NaN</td>\n",
              "      <td>...</td>\n",
              "      <td>NaN</td>\n",
              "      <td>NaN</td>\n",
              "      <td>NaN</td>\n",
              "      <td>NaN</td>\n",
              "      <td>NaN</td>\n",
              "      <td>NaN</td>\n",
              "      <td>NaN</td>\n",
              "      <td>NaN</td>\n",
              "      <td>NaN</td>\n",
              "      <td>NaN</td>\n",
              "    </tr>\n",
              "    <tr>\n",
              "      <th>2</th>\n",
              "      <td>2020-02-26</td>\n",
              "      <td>Afghanistan</td>\n",
              "      <td>1.0</td>\n",
              "      <td>0.0</td>\n",
              "      <td>0.0</td>\n",
              "      <td>1.0</td>\n",
              "      <td>0.0</td>\n",
              "      <td>0.0</td>\n",
              "      <td>0.0</td>\n",
              "      <td>NaN</td>\n",
              "      <td>...</td>\n",
              "      <td>NaN</td>\n",
              "      <td>NaN</td>\n",
              "      <td>NaN</td>\n",
              "      <td>NaN</td>\n",
              "      <td>NaN</td>\n",
              "      <td>NaN</td>\n",
              "      <td>NaN</td>\n",
              "      <td>NaN</td>\n",
              "      <td>NaN</td>\n",
              "      <td>NaN</td>\n",
              "    </tr>\n",
              "    <tr>\n",
              "      <th>3</th>\n",
              "      <td>2020-02-27</td>\n",
              "      <td>Afghanistan</td>\n",
              "      <td>1.0</td>\n",
              "      <td>0.0</td>\n",
              "      <td>0.0</td>\n",
              "      <td>1.0</td>\n",
              "      <td>0.0</td>\n",
              "      <td>0.0</td>\n",
              "      <td>0.0</td>\n",
              "      <td>NaN</td>\n",
              "      <td>...</td>\n",
              "      <td>NaN</td>\n",
              "      <td>NaN</td>\n",
              "      <td>NaN</td>\n",
              "      <td>NaN</td>\n",
              "      <td>NaN</td>\n",
              "      <td>NaN</td>\n",
              "      <td>NaN</td>\n",
              "      <td>NaN</td>\n",
              "      <td>NaN</td>\n",
              "      <td>NaN</td>\n",
              "    </tr>\n",
              "    <tr>\n",
              "      <th>4</th>\n",
              "      <td>2020-02-28</td>\n",
              "      <td>Afghanistan</td>\n",
              "      <td>1.0</td>\n",
              "      <td>0.0</td>\n",
              "      <td>0.0</td>\n",
              "      <td>1.0</td>\n",
              "      <td>0.0</td>\n",
              "      <td>0.0</td>\n",
              "      <td>0.0</td>\n",
              "      <td>NaN</td>\n",
              "      <td>...</td>\n",
              "      <td>NaN</td>\n",
              "      <td>NaN</td>\n",
              "      <td>NaN</td>\n",
              "      <td>NaN</td>\n",
              "      <td>NaN</td>\n",
              "      <td>NaN</td>\n",
              "      <td>NaN</td>\n",
              "      <td>NaN</td>\n",
              "      <td>NaN</td>\n",
              "      <td>NaN</td>\n",
              "    </tr>\n",
              "  </tbody>\n",
              "</table>\n",
              "<p>5 rows × 22 columns</p>\n",
              "</div>\n",
              "      <button class=\"colab-df-convert\" onclick=\"convertToInteractive('df-14980e69-bfcb-4354-a086-ef0bd9f58cf5')\"\n",
              "              title=\"Convert this dataframe to an interactive table.\"\n",
              "              style=\"display:none;\">\n",
              "        \n",
              "  <svg xmlns=\"http://www.w3.org/2000/svg\" height=\"24px\"viewBox=\"0 0 24 24\"\n",
              "       width=\"24px\">\n",
              "    <path d=\"M0 0h24v24H0V0z\" fill=\"none\"/>\n",
              "    <path d=\"M18.56 5.44l.94 2.06.94-2.06 2.06-.94-2.06-.94-.94-2.06-.94 2.06-2.06.94zm-11 1L8.5 8.5l.94-2.06 2.06-.94-2.06-.94L8.5 2.5l-.94 2.06-2.06.94zm10 10l.94 2.06.94-2.06 2.06-.94-2.06-.94-.94-2.06-.94 2.06-2.06.94z\"/><path d=\"M17.41 7.96l-1.37-1.37c-.4-.4-.92-.59-1.43-.59-.52 0-1.04.2-1.43.59L10.3 9.45l-7.72 7.72c-.78.78-.78 2.05 0 2.83L4 21.41c.39.39.9.59 1.41.59.51 0 1.02-.2 1.41-.59l7.78-7.78 2.81-2.81c.8-.78.8-2.07 0-2.86zM5.41 20L4 18.59l7.72-7.72 1.47 1.35L5.41 20z\"/>\n",
              "  </svg>\n",
              "      </button>\n",
              "      \n",
              "  <style>\n",
              "    .colab-df-container {\n",
              "      display:flex;\n",
              "      flex-wrap:wrap;\n",
              "      gap: 12px;\n",
              "    }\n",
              "\n",
              "    .colab-df-convert {\n",
              "      background-color: #E8F0FE;\n",
              "      border: none;\n",
              "      border-radius: 50%;\n",
              "      cursor: pointer;\n",
              "      display: none;\n",
              "      fill: #1967D2;\n",
              "      height: 32px;\n",
              "      padding: 0 0 0 0;\n",
              "      width: 32px;\n",
              "    }\n",
              "\n",
              "    .colab-df-convert:hover {\n",
              "      background-color: #E2EBFA;\n",
              "      box-shadow: 0px 1px 2px rgba(60, 64, 67, 0.3), 0px 1px 3px 1px rgba(60, 64, 67, 0.15);\n",
              "      fill: #174EA6;\n",
              "    }\n",
              "\n",
              "    [theme=dark] .colab-df-convert {\n",
              "      background-color: #3B4455;\n",
              "      fill: #D2E3FC;\n",
              "    }\n",
              "\n",
              "    [theme=dark] .colab-df-convert:hover {\n",
              "      background-color: #434B5C;\n",
              "      box-shadow: 0px 1px 3px 1px rgba(0, 0, 0, 0.15);\n",
              "      filter: drop-shadow(0px 1px 2px rgba(0, 0, 0, 0.3));\n",
              "      fill: #FFFFFF;\n",
              "    }\n",
              "  </style>\n",
              "\n",
              "      <script>\n",
              "        const buttonEl =\n",
              "          document.querySelector('#df-14980e69-bfcb-4354-a086-ef0bd9f58cf5 button.colab-df-convert');\n",
              "        buttonEl.style.display =\n",
              "          google.colab.kernel.accessAllowed ? 'block' : 'none';\n",
              "\n",
              "        async function convertToInteractive(key) {\n",
              "          const element = document.querySelector('#df-14980e69-bfcb-4354-a086-ef0bd9f58cf5');\n",
              "          const dataTable =\n",
              "            await google.colab.kernel.invokeFunction('convertToInteractive',\n",
              "                                                     [key], {});\n",
              "          if (!dataTable) return;\n",
              "\n",
              "          const docLinkHtml = 'Like what you see? Visit the ' +\n",
              "            '<a target=\"_blank\" href=https://colab.research.google.com/notebooks/data_table.ipynb>data table notebook</a>'\n",
              "            + ' to learn more about interactive tables.';\n",
              "          element.innerHTML = '';\n",
              "          dataTable['output_type'] = 'display_data';\n",
              "          await google.colab.output.renderOutput(dataTable, element);\n",
              "          const docLink = document.createElement('div');\n",
              "          docLink.innerHTML = docLinkHtml;\n",
              "          element.appendChild(docLink);\n",
              "        }\n",
              "      </script>\n",
              "    </div>\n",
              "  </div>\n",
              "  "
            ]
          },
          "metadata": {},
          "execution_count": 18
        }
      ],
      "source": [
        "#используем объединенный датасет о заболеваемости и вакцинации\n",
        "covid_df['date'] = pd.to_datetime(covid_df['date'])\n",
        "covid_df.head()"
      ]
    },
    {
      "cell_type": "code",
      "source": [
        "covid_df.to_csv (r'C:\\Users\\Гарик\\Documents\\GitHub\\DS_SkillFactory\\pandas_files\\covid_df.csv', index= False )"
      ],
      "metadata": {
        "id": "0kNXUw6mZ788"
      },
      "id": "0kNXUw6mZ788",
      "execution_count": null,
      "outputs": []
    },
    {
      "cell_type": "code",
      "source": [
        "from google.colab import drive\n",
        "drive.mount('/content/drive')"
      ],
      "metadata": {
        "colab": {
          "base_uri": "https://localhost:8080/"
        },
        "id": "lIZIfPpi9dKZ",
        "outputId": "7d1fe5f1-4011-49aa-bcf2-7f230132db49"
      },
      "id": "lIZIfPpi9dKZ",
      "execution_count": 1,
      "outputs": [
        {
          "output_type": "stream",
          "name": "stdout",
          "text": [
            "Mounted at /content/drive\n"
          ]
        }
      ]
    },
    {
      "cell_type": "markdown",
      "id": "41e16a35-73db-4e49-8a7a-1bf6e2d310f0",
      "metadata": {
        "id": "41e16a35-73db-4e49-8a7a-1bf6e2d310f0"
      },
      "source": [
        "Основным методом для создания простейших графиков в Pandas является метод plot(). Разберем его основные параметры:\n",
        "* x - название признака, который будет отложен по оси абсцисс\n",
        "* y - название признака, который будет отложен по оси ординат\n",
        "* figsize - размер графика (кортеж из ширины и высоты в дюймах)\n",
        "* **kind** - тип визуализации. Основные типы:\n",
        "    * 'line' - линейный график (стоит по умолчанию)\n",
        "    * 'bar' - столбчатая диаграмма\n",
        "    * 'barh' - горизонтальная столбчатая диаграмма\n",
        "    * 'hist' - гистограмма\n",
        "    * 'box' - коробчатая диаграмма (boxplot)\n",
        "    * 'pie' - круговая диаграмма\n",
        "    * 'scatter' - диаграмма рассеяния\n",
        "* grid - отображение сетки (по умолчанию False)\n",
        "* legend - отображение легенды (по умолчанию False)\n",
        "* title - название графика\n",
        "* color - цвет\n"
      ]
    },
    {
      "cell_type": "code",
      "execution_count": null,
      "id": "0b8f79f8-e1c1-4443-8243-6dd22cd0f69e",
      "metadata": {
        "colab": {
          "base_uri": "https://localhost:8080/",
          "height": 307
        },
        "id": "0b8f79f8-e1c1-4443-8243-6dd22cd0f69e",
        "outputId": "abaea5dd-1dd7-4967-e4a6-8a01e06820f5"
      },
      "outputs": [
        {
          "output_type": "display_data",
          "data": {
            "text/plain": [
              "<Figure size 864x288 with 1 Axes>"
            ],
            "image/png": "[encoded data removed]"
          },
          "metadata": {
            "needs_background": "light"
          }
        }
      ],
      "source": [
        "grouped_cases = covid_df.groupby('date')['daily_confirmed'].sum()\n",
        "grouped_cases.plot(\n",
        "    kind='line',\n",
        "    figsize=(12, 4),\n",
        "    title='Ежедневная заболеваемость по всем странам',\n",
        "    grid = True,\n",
        "    lw=3\n",
        ");"
      ]
    },
    {
      "cell_type": "markdown",
      "id": "b2cd431c-e8ab-413f-8c88-429a0d33d1e8",
      "metadata": {
        "id": "b2cd431c-e8ab-413f-8c88-429a0d33d1e8"
      },
      "source": [
        "**Выводы по графику:** на графике отчетливо виден умеренный начальный рост заболеваемости, после чего наблюдается ее резкое повышение в середине октября 2020, а в декабре 2020 года вспышка коронавируса (зафиксировано более 1.4 млн заболевших в день). После чего наблюдается постепенное уменьшение числа ежедневно фиксированных случаев и наступление второй волны в марте 2021. Наконец, начиная с мая 2021 наблюдается очередной спад.\n",
        "\n",
        "Пилообразность графика - подъемы и спады с периодом в 7 дней - могут быть связаны с рабочими и выходными днями.\n",
        "Нам неизвестно, как  устроен во времени процесс постановки диагноза и сбора статистики и отличается ли он в разных странах. Можно предположить, что спад в выходные обусловлен меньшей интенсивностью работы медицинских служб. Также можно предположить, что в тех случаях, когда диагноз ставится по результатам анализа, если в выходные берется/проводится меньше тестов, к понедельнику они еще не готовы и диагноз еще не поставлен. Также можем предположить, что минимум в понедельник может быть запаздыванием подсчета статистики, т.е. на самом деле данные за понедельник - это данные за воскресенье\n"
      ]
    },
    {
      "cell_type": "code",
      "execution_count": null,
      "id": "43af7f48-d0a6-421b-adbe-f190020c32cf",
      "metadata": {
        "colab": {
          "base_uri": "https://localhost:8080/",
          "height": 403
        },
        "id": "43af7f48-d0a6-421b-adbe-f190020c32cf",
        "outputId": "8ab5fc86-8302-43a7-cded-abfd6be11121"
      },
      "outputs": [
        {
          "output_type": "display_data",
          "data": {
            "text/plain": [
              "<Figure size 720x432 with 1 Axes>"
            ],
            "image/png": "[encoded data removed]"
          },
          "metadata": {
            "needs_background": "light"
          }
        }
      ],
      "source": [
        "grouped_cases = covid_df.groupby('date')['daily_confirmed'].sum()\n",
        "grouped_cases.plot(\n",
        "    kind='hist',\n",
        "    figsize=(10, 6),\n",
        "    title='Распределение ежедневной заболеваемости',\n",
        "    grid = True,\n",
        "    color = 'black',\n",
        "    bins=10\n",
        ");"
      ]
    },
    {
      "cell_type": "code",
      "execution_count": 18,
      "id": "ffda8737-c40e-4dfc-90d9-57befaeb1f37",
      "metadata": {
        "colab": {
          "base_uri": "https://localhost:8080/"
        },
        "id": "ffda8737-c40e-4dfc-90d9-57befaeb1f37",
        "outputId": "dd1c2182-66b4-4495-8684-9e8545c7d7f7"
      },
      "outputs": [
        {
          "output_type": "execute_result",
          "data": {
            "text/plain": [
              "-1.0"
            ]
          },
          "metadata": {},
          "execution_count": 18
        }
      ],
      "source": [
        "import numpy as np\n",
        "first_line = [x*y for x in range(2, 100, 6) for y in range (7, 1, -2)]\n",
        "second_line = [x ** 0.5 for x in range(1000, 1101, 2)]\n",
        "third_line = [x**2 for x in range(51)]\n",
        "\n",
        "big_secret = np.array([first_line, second_line, third_line, second_line, first_line])\n",
        "big_secret[::2, ::2] = 1\n",
        "big_secret[1::2, 1::2] = -1\n",
        "big_secret[1][1]"
      ]
    },
    {
      "cell_type": "markdown",
      "id": "93e0194c-bab7-4de5-92ae-e177fe03c79e",
      "metadata": {
        "id": "93e0194c-bab7-4de5-92ae-e177fe03c79e"
      },
      "source": [
        "**Выводы по графику:** по гистограмме можно судить о частоте попадания ежедневной заболеваемости в определенный интервал. На оси абсцисс отложен диапазон ежедневной заболеваемости (в млн. человек), разбитый на 10 равных интервалов. На оси ординат - число наблюдений, попавших в этот интервал.\n",
        "\n",
        "Во-первых, мы видим модальное значение близ нуля (от 0 до примерно 150 тыс. заболеваний в день), т.е. большинство наблюдений сосредоточено в первом интервале, далее частота постепенно падает. Это связано с тем, что долгое время распространение вируса было довольно слабым.\n",
        "\n",
        "Во-вторых, в глаза бросается \"пенёк\", который соответствует резкой вспышке заболеваемости, которую мы видели ранее, его высота очень мала, ведь такое наблюдение единственно. Даже на гистограмме кажется, что данное наблюдение является аномальным и скорее всего является выбросом."
      ]
    },
    {
      "cell_type": "code",
      "execution_count": null,
      "id": "5c9a4813-af87-444d-8a0c-a949e5f422bf",
      "metadata": {
        "colab": {
          "base_uri": "https://localhost:8080/",
          "height": 361
        },
        "id": "5c9a4813-af87-444d-8a0c-a949e5f422bf",
        "outputId": "0992312a-f401-4df1-959b-02a35e297ba1"
      },
      "outputs": [
        {
          "output_type": "display_data",
          "data": {
            "text/plain": [
              "<Figure size 864x288 with 1 Axes>"
            ],
            "image/png": "[encoded data removed]"
          },
          "metadata": {
            "needs_background": "light"
          }
        }
      ],
      "source": [
        "grouped_country = covid_df.groupby(['country'])['confirmed'].last()\n",
        "grouped_country = grouped_country.nlargest(10)\n",
        "grouped_country.plot(\n",
        "    kind='bar',\n",
        "    grid=True,\n",
        "    figsize=(12, 4),\n",
        "    colormap='plasma'\n",
        ");"
      ]
    },
    {
      "cell_type": "markdown",
      "id": "e6c69a91-4666-4c78-94ef-2823f3baf21f",
      "metadata": {
        "id": "e6c69a91-4666-4c78-94ef-2823f3baf21f"
      },
      "source": [
        "**Выводы по графику:** на диаграмме видно, что лидерами по числу заболевших являются Соединенные Штаты, Индия и Бразилия. Соотношение зафиксированных случаев заражения в остальных странах примерно одинаково."
      ]
    },
    {
      "cell_type": "code",
      "execution_count": null,
      "id": "bb0fc2b2-88d2-41f5-99b2-23a7aacdc6dd",
      "metadata": {
        "colab": {
          "base_uri": "https://localhost:8080/",
          "height": 361
        },
        "id": "bb0fc2b2-88d2-41f5-99b2-23a7aacdc6dd",
        "outputId": "e4ebd988-fd54-48c8-8941-f7677d84feed"
      },
      "outputs": [
        {
          "output_type": "display_data",
          "data": {
            "text/plain": [
              "<Figure size 864x288 with 1 Axes>"
            ],
            "image/png": "[encoded data removed]"
          },
          "metadata": {
            "needs_background": "light"
          }
        }
      ],
      "source": [
        "grouped_country = covid_df.groupby(['country'])[['confirmed', 'deaths']].last()\n",
        "grouped_country = grouped_country.nlargest(10, columns=['confirmed'])\n",
        "grouped_country.plot(\n",
        "    kind='bar',\n",
        "    grid=True,\n",
        "    figsize=(12, 4),\n",
        "    legend=True\n",
        ");"
      ]
    },
    {
      "cell_type": "markdown",
      "id": "691ef5a6-89d9-4be2-8d56-00dd0b7be90d",
      "metadata": {
        "id": "691ef5a6-89d9-4be2-8d56-00dd0b7be90d"
      },
      "source": [
        "**Выводы по графику:** график является небольшим усовершенствованием предыдущего. Теперь на графике можно увидеть соотношение числа зафиксированных случаев и смертей. \n",
        "Очевидно, что отношение числа умерших к числу заболевших весьма низкое. Также это косвенно может говорить о разных методиках учёта заболевших (например, какие-то страны могут учитывать заболевших только по мазку, в то время как другие- по клинической картине, учитывающей и другие показатели). Это с методической точки зрения учёт по числу заражений может быть не совсем корректным. Лучшим показателем будет являться число смертей (хотя и этот метод не идален).\n"
      ]
    },
    {
      "cell_type": "markdown",
      "id": "83125d99-4c75-494b-96b1-6c7a2294d0ce",
      "metadata": {
        "id": "83125d99-4c75-494b-96b1-6c7a2294d0ce"
      },
      "source": [
        "Визуализация с помощью Pandas является удобным инструментом, когда графики необходимо построить \"здесь и сейчас\", не сильно заморачиваясь над их внешним видом. Однако, такой подход имеет значительный минус по сравнению с использованием специализированных библиотек для визуализации - довольно ограниченный функционал:\n",
        "* С помощью Pandas можно построить лишь базовый набор диаграмм. Для построения более сложных видов визуализации он не подходит\n",
        "* Трудно настроить визуализацию нескольких видов графиков одновременно в разных масштабах\n",
        "* Сложно или иногда даже невозможно корректировать внешний вид графика \n",
        "* Отсутствует 3D визуализация\n"
      ]
    },
    {
      "cell_type": "code",
      "execution_count": null,
      "id": "11932f14-f21c-45cd-bd03-45f60b433876",
      "metadata": {
        "colab": {
          "base_uri": "https://localhost:8080/",
          "height": 390
        },
        "id": "11932f14-f21c-45cd-bd03-45f60b433876",
        "outputId": "292ca39b-81b2-4424-bf8e-010d8802b6c5"
      },
      "outputs": [
        {
          "output_type": "display_data",
          "data": {
            "text/plain": [
              "<Figure size 432x288 with 1 Axes>"
            ],
            "image/png": "[encoded data removed]"
          },
          "metadata": {
            "needs_background": "light"
          }
        }
      ],
      "source": [
        "covid_df.groupby(['country'])['total_vaccinations'].last().nsmallest(5).plot(kind='bar');"
      ]
    },
    {
      "cell_type": "code",
      "source": [
        "covid_df.groupby(['country'])['total_vaccinations'].first().nsmallest(5).plot(kind='bar');"
      ],
      "metadata": {
        "colab": {
          "base_uri": "https://localhost:8080/",
          "height": 376
        },
        "id": "EXt9w8LQGcVV",
        "outputId": "5cf870a0-657b-48f6-a717-df76e1e9f3c3"
      },
      "id": "EXt9w8LQGcVV",
      "execution_count": null,
      "outputs": [
        {
          "output_type": "display_data",
          "data": {
            "text/plain": [
              "<Figure size 432x288 with 1 Axes>"
            ],
            "image/png": "[encoded data removed]"
          },
          "metadata": {
            "needs_background": "light"
          }
        }
      ]
    },
    {
      "cell_type": "code",
      "source": [
        "covid_df.groupby(['country'])['total_vaccinations'].last().nlargest(5).plot(kind='box');"
      ],
      "metadata": {
        "colab": {
          "base_uri": "https://localhost:8080/",
          "height": 277
        },
        "id": "X2VkHzRNGld5",
        "outputId": "7ae31128-d91c-4d01-ed53-511b2721a500"
      },
      "id": "X2VkHzRNGld5",
      "execution_count": null,
      "outputs": [
        {
          "output_type": "display_data",
          "data": {
            "text/plain": [
              "<Figure size 432x288 with 1 Axes>"
            ],
            "image/png": "[encoded data removed]"
          },
          "metadata": {
            "needs_background": "light"
          }
        }
      ]
    },
    {
      "cell_type": "code",
      "source": [
        "covid_df.groupby(['date'])['total_vaccinations'].mean().nsmallest(5).plot(kind='bar');"
      ],
      "metadata": {
        "id": "sbr0zP8iGsUL",
        "outputId": "42ee5f03-79a9-457b-f39a-4157876c6584",
        "colab": {
          "base_uri": "https://localhost:8080/",
          "height": 374
        }
      },
      "id": "sbr0zP8iGsUL",
      "execution_count": null,
      "outputs": [
        {
          "output_type": "display_data",
          "data": {
            "text/plain": [
              "<Figure size 432x288 with 1 Axes>"
            ],
            "image/png": "[encoded data removed]"
          },
          "metadata": {
            "needs_background": "light"
          }
        }
      ]
    },
    {
      "cell_type": "markdown",
      "source": [
        "# АНАЛИЗ ДАННЫХ ПРИ ПОМОЩИ МЕТОДА РУЧНОГО ПОИСКА И ЗДРАВОГО СМЫСЛА"
      ],
      "metadata": {
        "id": "nUjJ4cVyRxh2"
      },
      "id": "nUjJ4cVyRxh2"
    },
    {
      "cell_type": "markdown",
      "source": [
        "Рассчитать статистические показатели (минимум, максимум, среднее, квантили) и по ним определить наличие аномалий можно с помощью уже знакомого вам метода describe(). Рассчитаем статистические показатели для признака жилой площади (life_sq)."
      ],
      "metadata": {
        "id": "baYiYTKAt7li"
      },
      "id": "baYiYTKAt7li"
    },
    {
      "cell_type": "code",
      "source": [
        "sber_data = pd.read_csv('/content/sber_data.csv')\n",
        "sber_data['life_sq'].describe()"
      ],
      "metadata": {
        "id": "TtSax1aZt71v",
        "colab": {
          "base_uri": "https://localhost:8080/"
        },
        "outputId": "590f1af7-1180-4484-ab7f-5344d046e0c2"
      },
      "id": "TtSax1aZt71v",
      "execution_count": 5,
      "outputs": [
        {
          "output_type": "execute_result",
          "data": {
            "text/plain": [
              "count    24088.000000\n",
              "mean        34.403271\n",
              "std         52.285733\n",
              "min          0.000000\n",
              "25%         20.000000\n",
              "50%         30.000000\n",
              "75%         43.000000\n",
              "max       7478.000000\n",
              "Name: life_sq, dtype: float64"
            ]
          },
          "metadata": {},
          "execution_count": 5
        }
      ]
    },
    {
      "cell_type": "markdown",
      "source": [
        "Благодаря методу describe() мы видим, что, во-первых, у нас есть квартиры с нулевой жилой площадью. Во-вторых, в то время как 75-й квантиль равен 43, максимум превышает 7 тысяч квадратных метров (жилище короля!). \n",
        "\n",
        "Найдём число квартир с нулевой жилой площадью:"
      ],
      "metadata": {
        "id": "wNCKdMerOFYk"
      },
      "id": "wNCKdMerOFYk"
    },
    {
      "cell_type": "code",
      "source": [
        "print(sber_data[sber_data['life_sq'] == 0].shape[0])"
      ],
      "metadata": {
        "colab": {
          "base_uri": "https://localhost:8080/"
        },
        "id": "zYytYa2COl-P",
        "outputId": "cb1d7566-ce48-4a0d-a6b1-d44fad1b2ee6"
      },
      "id": "zYytYa2COl-P",
      "execution_count": 6,
      "outputs": [
        {
          "output_type": "stream",
          "name": "stdout",
          "text": [
            "45\n"
          ]
        }
      ]
    },
    {
      "cell_type": "markdown",
      "source": [
        "Такие квартиры авляются апартаментами и должны быть исключены из данного исследования. Надо исключить и жилплощадь более 7000 квадратных метров"
      ],
      "metadata": {
        "id": "lyfRctooOvKT"
      },
      "id": "lyfRctooOvKT"
    },
    {
      "cell_type": "code",
      "source": [
        "display(sber_data[sber_data['life_sq'] > 7000])"
      ],
      "metadata": {
        "colab": {
          "base_uri": "https://localhost:8080/",
          "height": 191
        },
        "id": "3J4U3M7EPOC7",
        "outputId": "6032efe6-2440-4b4a-ef60-ed7dc2e30687"
      },
      "id": "3J4U3M7EPOC7",
      "execution_count": 7,
      "outputs": [
        {
          "output_type": "display_data",
          "data": {
            "text/plain": [
              "          id  full_sq  life_sq  floor                 sub_area  \\\n",
              "13546  13549       79   7478.0    8.0  Poselenie Voskresenskoe   \n",
              "\n",
              "       preschool_quota  preschool_education_centers_raion  school_quota  \\\n",
              "13546              NaN                                  0           NaN   \n",
              "\n",
              "       school_education_centers_raion  school_education_centers_top_20_raion  \\\n",
              "13546                               0                                      0   \n",
              "\n",
              "       ...  office_km  additional_education_km  preschool_km  big_church_km  \\\n",
              "13546  ...   5.072389                 1.210613      0.826052       1.582378   \n",
              "\n",
              "       church_synagogue_km  theater_km  museum_km  ecology mosque_count_1000  \\\n",
              "13546             0.756119   21.472421  14.917332  no data                 0   \n",
              "\n",
              "      price_doc  \n",
              "13546   7705000  \n",
              "\n",
              "[1 rows x 61 columns]"
            ],
            "text/html": [
              "\n",
              "  <div id=\"df-b1c28f41-51a4-4abf-8c0f-52f05f98b4c3\">\n",
              "    <div class=\"colab-df-container\">\n",
              "      <div>\n",
              "<style scoped>\n",
              "    .dataframe tbody tr th:only-of-type {\n",
              "        vertical-align: middle;\n",
              "    }\n",
              "\n",
              "    .dataframe tbody tr th {\n",
              "        vertical-align: top;\n",
              "    }\n",
              "\n",
              "    .dataframe thead th {\n",
              "        text-align: right;\n",
              "    }\n",
              "</style>\n",
              "<table border=\"1\" class=\"dataframe\">\n",
              "  <thead>\n",
              "    <tr style=\"text-align: right;\">\n",
              "      <th></th>\n",
              "      <th>id</th>\n",
              "      <th>full_sq</th>\n",
              "      <th>life_sq</th>\n",
              "      <th>floor</th>\n",
              "      <th>sub_area</th>\n",
              "      <th>preschool_quota</th>\n",
              "      <th>preschool_education_centers_raion</th>\n",
              "      <th>school_quota</th>\n",
              "      <th>school_education_centers_raion</th>\n",
              "      <th>school_education_centers_top_20_raion</th>\n",
              "      <th>...</th>\n",
              "      <th>office_km</th>\n",
              "      <th>additional_education_km</th>\n",
              "      <th>preschool_km</th>\n",
              "      <th>big_church_km</th>\n",
              "      <th>church_synagogue_km</th>\n",
              "      <th>theater_km</th>\n",
              "      <th>museum_km</th>\n",
              "      <th>ecology</th>\n",
              "      <th>mosque_count_1000</th>\n",
              "      <th>price_doc</th>\n",
              "    </tr>\n",
              "  </thead>\n",
              "  <tbody>\n",
              "    <tr>\n",
              "      <th>13546</th>\n",
              "      <td>13549</td>\n",
              "      <td>79</td>\n",
              "      <td>7478.0</td>\n",
              "      <td>8.0</td>\n",
              "      <td>Poselenie Voskresenskoe</td>\n",
              "      <td>NaN</td>\n",
              "      <td>0</td>\n",
              "      <td>NaN</td>\n",
              "      <td>0</td>\n",
              "      <td>0</td>\n",
              "      <td>...</td>\n",
              "      <td>5.072389</td>\n",
              "      <td>1.210613</td>\n",
              "      <td>0.826052</td>\n",
              "      <td>1.582378</td>\n",
              "      <td>0.756119</td>\n",
              "      <td>21.472421</td>\n",
              "      <td>14.917332</td>\n",
              "      <td>no data</td>\n",
              "      <td>0</td>\n",
              "      <td>7705000</td>\n",
              "    </tr>\n",
              "  </tbody>\n",
              "</table>\n",
              "<p>1 rows × 61 columns</p>\n",
              "</div>\n",
              "      <button class=\"colab-df-convert\" onclick=\"convertToInteractive('df-b1c28f41-51a4-4abf-8c0f-52f05f98b4c3')\"\n",
              "              title=\"Convert this dataframe to an interactive table.\"\n",
              "              style=\"display:none;\">\n",
              "        \n",
              "  <svg xmlns=\"http://www.w3.org/2000/svg\" height=\"24px\"viewBox=\"0 0 24 24\"\n",
              "       width=\"24px\">\n",
              "    <path d=\"M0 0h24v24H0V0z\" fill=\"none\"/>\n",
              "    <path d=\"M18.56 5.44l.94 2.06.94-2.06 2.06-.94-2.06-.94-.94-2.06-.94 2.06-2.06.94zm-11 1L8.5 8.5l.94-2.06 2.06-.94-2.06-.94L8.5 2.5l-.94 2.06-2.06.94zm10 10l.94 2.06.94-2.06 2.06-.94-2.06-.94-.94-2.06-.94 2.06-2.06.94z\"/><path d=\"M17.41 7.96l-1.37-1.37c-.4-.4-.92-.59-1.43-.59-.52 0-1.04.2-1.43.59L10.3 9.45l-7.72 7.72c-.78.78-.78 2.05 0 2.83L4 21.41c.39.39.9.59 1.41.59.51 0 1.02-.2 1.41-.59l7.78-7.78 2.81-2.81c.8-.78.8-2.07 0-2.86zM5.41 20L4 18.59l7.72-7.72 1.47 1.35L5.41 20z\"/>\n",
              "  </svg>\n",
              "      </button>\n",
              "      \n",
              "  <style>\n",
              "    .colab-df-container {\n",
              "      display:flex;\n",
              "      flex-wrap:wrap;\n",
              "      gap: 12px;\n",
              "    }\n",
              "\n",
              "    .colab-df-convert {\n",
              "      background-color: #E8F0FE;\n",
              "      border: none;\n",
              "      border-radius: 50%;\n",
              "      cursor: pointer;\n",
              "      display: none;\n",
              "      fill: #1967D2;\n",
              "      height: 32px;\n",
              "      padding: 0 0 0 0;\n",
              "      width: 32px;\n",
              "    }\n",
              "\n",
              "    .colab-df-convert:hover {\n",
              "      background-color: #E2EBFA;\n",
              "      box-shadow: 0px 1px 2px rgba(60, 64, 67, 0.3), 0px 1px 3px 1px rgba(60, 64, 67, 0.15);\n",
              "      fill: #174EA6;\n",
              "    }\n",
              "\n",
              "    [theme=dark] .colab-df-convert {\n",
              "      background-color: #3B4455;\n",
              "      fill: #D2E3FC;\n",
              "    }\n",
              "\n",
              "    [theme=dark] .colab-df-convert:hover {\n",
              "      background-color: #434B5C;\n",
              "      box-shadow: 0px 1px 3px 1px rgba(0, 0, 0, 0.15);\n",
              "      filter: drop-shadow(0px 1px 2px rgba(0, 0, 0, 0.3));\n",
              "      fill: #FFFFFF;\n",
              "    }\n",
              "  </style>\n",
              "\n",
              "      <script>\n",
              "        const buttonEl =\n",
              "          document.querySelector('#df-b1c28f41-51a4-4abf-8c0f-52f05f98b4c3 button.colab-df-convert');\n",
              "        buttonEl.style.display =\n",
              "          google.colab.kernel.accessAllowed ? 'block' : 'none';\n",
              "\n",
              "        async function convertToInteractive(key) {\n",
              "          const element = document.querySelector('#df-b1c28f41-51a4-4abf-8c0f-52f05f98b4c3');\n",
              "          const dataTable =\n",
              "            await google.colab.kernel.invokeFunction('convertToInteractive',\n",
              "                                                     [key], {});\n",
              "          if (!dataTable) return;\n",
              "\n",
              "          const docLinkHtml = 'Like what you see? Visit the ' +\n",
              "            '<a target=\"_blank\" href=https://colab.research.google.com/notebooks/data_table.ipynb>data table notebook</a>'\n",
              "            + ' to learn more about interactive tables.';\n",
              "          element.innerHTML = '';\n",
              "          dataTable['output_type'] = 'display_data';\n",
              "          await google.colab.output.renderOutput(dataTable, element);\n",
              "          const docLink = document.createElement('div');\n",
              "          docLink.innerHTML = docLinkHtml;\n",
              "          element.appendChild(docLink);\n",
              "        }\n",
              "      </script>\n",
              "    </div>\n",
              "  </div>\n",
              "  "
            ]
          },
          "metadata": {}
        }
      ]
    },
    {
      "cell_type": "markdown",
      "source": [
        "Возникает вопрос: а много ли у нас таких квартир, у которых жилая площадь больше, чем суммарная?\n",
        "\n",
        "Выясним это с помощью фильтрации:"
      ],
      "metadata": {
        "id": "VrWm87YMPiR5"
      },
      "id": "VrWm87YMPiR5"
    },
    {
      "cell_type": "code",
      "source": [
        "outliers = sber_data[sber_data['life_sq'] > sber_data['full_sq']]\n",
        "print(outliers.shape[0])"
      ],
      "metadata": {
        "colab": {
          "base_uri": "https://localhost:8080/"
        },
        "id": "gRTmRvt8PtHd",
        "outputId": "31530acf-80c0-4da5-eea5-74724c2ee7d2"
      },
      "id": "gRTmRvt8PtHd",
      "execution_count": 8,
      "outputs": [
        {
          "output_type": "stream",
          "name": "stdout",
          "text": [
            "37\n"
          ]
        }
      ]
    },
    {
      "cell_type": "markdown",
      "source": [
        "Таких квартир оказывается 37 штук. Подобные наблюдения уже не поддаются здравому смыслу — они являются ошибочными, и от них стоит избавиться. Для этого можно воспользоваться методом drop() и удалить записи по их индексам:"
      ],
      "metadata": {
        "id": "3bX5J1g3P1O1"
      },
      "id": "3bX5J1g3P1O1"
    },
    {
      "cell_type": "code",
      "source": [
        "cleaned = sber_data.drop(outliers.index, axis=0)\n",
        "print(f'Результирующее число записей: {cleaned.shape[0]}')"
      ],
      "metadata": {
        "colab": {
          "base_uri": "https://localhost:8080/"
        },
        "id": "2NkjVrSWP2Gi",
        "outputId": "1c406b7d-03cc-4639-c065-c12a6d9f1d9a"
      },
      "id": "2NkjVrSWP2Gi",
      "execution_count": 9,
      "outputs": [
        {
          "output_type": "stream",
          "name": "stdout",
          "text": [
            "Результирующее число записей: 30434\n"
          ]
        }
      ]
    },
    {
      "cell_type": "markdown",
      "source": [
        "Теперь обратим свой взор на количество этажей (floor). Для этого воспользуемся все тем же методом describe()"
      ],
      "metadata": {
        "id": "fIORF1cGQOAG"
      },
      "id": "fIORF1cGQOAG"
    },
    {
      "cell_type": "code",
      "source": [
        "display(sber_data['floor'].describe())"
      ],
      "metadata": {
        "colab": {
          "base_uri": "https://localhost:8080/",
          "height": 181
        },
        "id": "AN-4GKmWQoRg",
        "outputId": "960b80fc-7948-4d5c-ee96-449d8287d9ce"
      },
      "id": "AN-4GKmWQoRg",
      "execution_count": 12,
      "outputs": [
        {
          "output_type": "display_data",
          "data": {
            "text/plain": [
              "count    30304.000000\n",
              "mean         7.670803\n",
              "std          5.319989\n",
              "min          0.000000\n",
              "25%          3.000000\n",
              "50%          6.500000\n",
              "75%         11.000000\n",
              "max         77.000000\n",
              "Name: floor, dtype: float64"
            ]
          },
          "metadata": {}
        }
      ]
    },
    {
      "cell_type": "markdown",
      "source": [
        "Сложно представить себе, что в Москве есть здания, где этажей больше 50. По крайней мере пока. Отфильтруем эту квартиру."
      ],
      "metadata": {
        "id": "5gSYb2_tQvXZ"
      },
      "id": "5gSYb2_tQvXZ"
    },
    {
      "cell_type": "code",
      "source": [
        "display(sber_data[sber_data['floor']> 50])"
      ],
      "metadata": {
        "colab": {
          "base_uri": "https://localhost:8080/",
          "height": 174
        },
        "id": "9zubl0L6ROwg",
        "outputId": "0b0de8af-7c41-4011-b9fa-60faf64fe31a"
      },
      "id": "9zubl0L6ROwg",
      "execution_count": 10,
      "outputs": [
        {
          "output_type": "display_data",
          "data": {
            "text/plain": [
              "          id  full_sq  life_sq  floor       sub_area  preschool_quota  \\\n",
              "23584  23587       57     33.0   77.0  Lomonosovskoe           3091.0   \n",
              "\n",
              "       preschool_education_centers_raion  school_quota  \\\n",
              "23584                                  5        8359.0   \n",
              "\n",
              "       school_education_centers_raion  school_education_centers_top_20_raion  \\\n",
              "23584                               7                                      1   \n",
              "\n",
              "       ...  office_km  additional_education_km  preschool_km  big_church_km  \\\n",
              "23584  ...   0.310557                 0.731683      0.489763        0.86354   \n",
              "\n",
              "       church_synagogue_km  theater_km  museum_km       ecology  \\\n",
              "23584             0.863266    2.920671   2.757058  satisfactory   \n",
              "\n",
              "      mosque_count_1000 price_doc  \n",
              "23584                 0  13700000  \n",
              "\n",
              "[1 rows x 61 columns]"
            ],
            "text/html": [
              "\n",
              "  <div id=\"df-dc533876-7f88-438f-a54b-48725fd222fc\">\n",
              "    <div class=\"colab-df-container\">\n",
              "      <div>\n",
              "<style scoped>\n",
              "    .dataframe tbody tr th:only-of-type {\n",
              "        vertical-align: middle;\n",
              "    }\n",
              "\n",
              "    .dataframe tbody tr th {\n",
              "        vertical-align: top;\n",
              "    }\n",
              "\n",
              "    .dataframe thead th {\n",
              "        text-align: right;\n",
              "    }\n",
              "</style>\n",
              "<table border=\"1\" class=\"dataframe\">\n",
              "  <thead>\n",
              "    <tr style=\"text-align: right;\">\n",
              "      <th></th>\n",
              "      <th>id</th>\n",
              "      <th>full_sq</th>\n",
              "      <th>life_sq</th>\n",
              "      <th>floor</th>\n",
              "      <th>sub_area</th>\n",
              "      <th>preschool_quota</th>\n",
              "      <th>preschool_education_centers_raion</th>\n",
              "      <th>school_quota</th>\n",
              "      <th>school_education_centers_raion</th>\n",
              "      <th>school_education_centers_top_20_raion</th>\n",
              "      <th>...</th>\n",
              "      <th>office_km</th>\n",
              "      <th>additional_education_km</th>\n",
              "      <th>preschool_km</th>\n",
              "      <th>big_church_km</th>\n",
              "      <th>church_synagogue_km</th>\n",
              "      <th>theater_km</th>\n",
              "      <th>museum_km</th>\n",
              "      <th>ecology</th>\n",
              "      <th>mosque_count_1000</th>\n",
              "      <th>price_doc</th>\n",
              "    </tr>\n",
              "  </thead>\n",
              "  <tbody>\n",
              "    <tr>\n",
              "      <th>23584</th>\n",
              "      <td>23587</td>\n",
              "      <td>57</td>\n",
              "      <td>33.0</td>\n",
              "      <td>77.0</td>\n",
              "      <td>Lomonosovskoe</td>\n",
              "      <td>3091.0</td>\n",
              "      <td>5</td>\n",
              "      <td>8359.0</td>\n",
              "      <td>7</td>\n",
              "      <td>1</td>\n",
              "      <td>...</td>\n",
              "      <td>0.310557</td>\n",
              "      <td>0.731683</td>\n",
              "      <td>0.489763</td>\n",
              "      <td>0.86354</td>\n",
              "      <td>0.863266</td>\n",
              "      <td>2.920671</td>\n",
              "      <td>2.757058</td>\n",
              "      <td>satisfactory</td>\n",
              "      <td>0</td>\n",
              "      <td>13700000</td>\n",
              "    </tr>\n",
              "  </tbody>\n",
              "</table>\n",
              "<p>1 rows × 61 columns</p>\n",
              "</div>\n",
              "      <button class=\"colab-df-convert\" onclick=\"convertToInteractive('df-dc533876-7f88-438f-a54b-48725fd222fc')\"\n",
              "              title=\"Convert this dataframe to an interactive table.\"\n",
              "              style=\"display:none;\">\n",
              "        \n",
              "  <svg xmlns=\"http://www.w3.org/2000/svg\" height=\"24px\"viewBox=\"0 0 24 24\"\n",
              "       width=\"24px\">\n",
              "    <path d=\"M0 0h24v24H0V0z\" fill=\"none\"/>\n",
              "    <path d=\"M18.56 5.44l.94 2.06.94-2.06 2.06-.94-2.06-.94-.94-2.06-.94 2.06-2.06.94zm-11 1L8.5 8.5l.94-2.06 2.06-.94-2.06-.94L8.5 2.5l-.94 2.06-2.06.94zm10 10l.94 2.06.94-2.06 2.06-.94-2.06-.94-.94-2.06-.94 2.06-2.06.94z\"/><path d=\"M17.41 7.96l-1.37-1.37c-.4-.4-.92-.59-1.43-.59-.52 0-1.04.2-1.43.59L10.3 9.45l-7.72 7.72c-.78.78-.78 2.05 0 2.83L4 21.41c.39.39.9.59 1.41.59.51 0 1.02-.2 1.41-.59l7.78-7.78 2.81-2.81c.8-.78.8-2.07 0-2.86zM5.41 20L4 18.59l7.72-7.72 1.47 1.35L5.41 20z\"/>\n",
              "  </svg>\n",
              "      </button>\n",
              "      \n",
              "  <style>\n",
              "    .colab-df-container {\n",
              "      display:flex;\n",
              "      flex-wrap:wrap;\n",
              "      gap: 12px;\n",
              "    }\n",
              "\n",
              "    .colab-df-convert {\n",
              "      background-color: #E8F0FE;\n",
              "      border: none;\n",
              "      border-radius: 50%;\n",
              "      cursor: pointer;\n",
              "      display: none;\n",
              "      fill: #1967D2;\n",
              "      height: 32px;\n",
              "      padding: 0 0 0 0;\n",
              "      width: 32px;\n",
              "    }\n",
              "\n",
              "    .colab-df-convert:hover {\n",
              "      background-color: #E2EBFA;\n",
              "      box-shadow: 0px 1px 2px rgba(60, 64, 67, 0.3), 0px 1px 3px 1px rgba(60, 64, 67, 0.15);\n",
              "      fill: #174EA6;\n",
              "    }\n",
              "\n",
              "    [theme=dark] .colab-df-convert {\n",
              "      background-color: #3B4455;\n",
              "      fill: #D2E3FC;\n",
              "    }\n",
              "\n",
              "    [theme=dark] .colab-df-convert:hover {\n",
              "      background-color: #434B5C;\n",
              "      box-shadow: 0px 1px 3px 1px rgba(0, 0, 0, 0.15);\n",
              "      filter: drop-shadow(0px 1px 2px rgba(0, 0, 0, 0.3));\n",
              "      fill: #FFFFFF;\n",
              "    }\n",
              "  </style>\n",
              "\n",
              "      <script>\n",
              "        const buttonEl =\n",
              "          document.querySelector('#df-dc533876-7f88-438f-a54b-48725fd222fc button.colab-df-convert');\n",
              "        buttonEl.style.display =\n",
              "          google.colab.kernel.accessAllowed ? 'block' : 'none';\n",
              "\n",
              "        async function convertToInteractive(key) {\n",
              "          const element = document.querySelector('#df-dc533876-7f88-438f-a54b-48725fd222fc');\n",
              "          const dataTable =\n",
              "            await google.colab.kernel.invokeFunction('convertToInteractive',\n",
              "                                                     [key], {});\n",
              "          if (!dataTable) return;\n",
              "\n",
              "          const docLinkHtml = 'Like what you see? Visit the ' +\n",
              "            '<a target=\"_blank\" href=https://colab.research.google.com/notebooks/data_table.ipynb>data table notebook</a>'\n",
              "            + ' to learn more about interactive tables.';\n",
              "          element.innerHTML = '';\n",
              "          dataTable['output_type'] = 'display_data';\n",
              "          await google.colab.output.renderOutput(dataTable, element);\n",
              "          const docLink = document.createElement('div');\n",
              "          docLink.innerHTML = docLinkHtml;\n",
              "          element.appendChild(docLink);\n",
              "        }\n",
              "      </script>\n",
              "    </div>\n",
              "  </div>\n",
              "  "
            ]
          },
          "metadata": {}
        }
      ]
    },
    {
      "cell_type": "markdown",
      "source": [
        "В нашем случае это выброс, так как дома такой высотности находятся в Москва-сити, а не в Ломоносовском районе"
      ],
      "metadata": {
        "id": "g9bcka0MRYZ9"
      },
      "id": "g9bcka0MRYZ9"
    },
    {
      "cell_type": "markdown",
      "source": [
        "# СУЧЕСТВУЕТ ДРУГОЙ МЕТОД АНАЛИЗА ДАННЫХ И УСТРАНЕНИЯ ТАК НАЗЫВАЕМЫХ ВЫБРОСОВ - МЕТОД МЕЖКВАРТИЛЬНОГО РАЗМАХА (МЕТОД ТЬЮКИ)"
      ],
      "metadata": {
        "id": "CFfAIQmrSFjj"
      },
      "id": "CFfAIQmrSFjj"
    },
    {
      "cell_type": "markdown",
      "source": [
        "Отличным помощником в поиске потенциальных выбросов является визуализация. Если признак является числовым, то можно построить гистограмму или коробчатую диаграмму, чтобы найти аномалии.\n",
        "\n",
        "На гистограмме мы можем увидеть потенциальные выбросы как низкие далеко отстоящие от основной группы столбцов «пеньки», а на коробчатой диаграмме — точки за пределами усов."
      ],
      "metadata": {
        "id": "_Ls-kZkFSYkD"
      },
      "id": "_Ls-kZkFSYkD"
    },
    {
      "cell_type": "code",
      "source": [
        "# Для корректной работы не забываем импортировать библиотеки\n",
        "import plotly.express as px\n",
        "import seaborn as sns\n",
        "import matplotlib.pyplot as plt\n",
        "%matplotlib inline\n",
        "fig, axes = plt.subplots(nrows=1, ncols=2, figsize=(15, 4))\n",
        "histplot = sns.histplot(data=sber_data, x='full_sq', ax=axes[0]);\n",
        "histplot.set_title('Full Square Distribution');\n",
        "boxplot = sns.boxplot(data=sber_data, x='full_sq', ax=axes[1]);\n",
        "boxplot.set_title('Full Square Boxplot');"
      ],
      "metadata": {
        "colab": {
          "base_uri": "https://localhost:8080/",
          "height": 296
        },
        "id": "uEHaZ0cwSkY0",
        "outputId": "fe63ccd0-9c2c-44c2-af7c-7ed414fb6bad"
      },
      "id": "uEHaZ0cwSkY0",
      "execution_count": 11,
      "outputs": [
        {
          "output_type": "display_data",
          "data": {
            "text/plain": [
              "<Figure size 1080x288 with 2 Axes>"
            ],
            "image/png": "[encoded data removed]"
          },
          "metadata": {
            "needs_background": "light"
          }
        }
      ]
    },
    {
      "cell_type": "markdown",
      "source": [
        "*Именно так выглядят типичные графики распределений с выбросами в данных.*"
      ],
      "metadata": {
        "id": "SFmZ_YEMUlZQ"
      },
      "id": "SFmZ_YEMUlZQ"
    },
    {
      "cell_type": "markdown",
      "source": [
        "**Mетод межквартильного размаха ** (его еще называют методом Тьюки), который используется для построения коробчатой диаграммы"
      ],
      "metadata": {
        "id": "p7_hsE4dVZly"
      },
      "id": "p7_hsE4dVZly"
    },
    {
      "cell_type": "code",
      "source": [
        "#запишем функцию для вычисления межквартильного размаха\n",
        "def outliers_iqr(data, feature):\n",
        "    x = data[feature]\n",
        "    #вычислить 25-ый и 75-ый квантили (первый и третий квартили) — и  для признака, который мы исследуем\n",
        "    quartile_1, quartile_3 = x.quantile(0.25), x.quantile(0.75),\n",
        "    #вычислить межквартильное расстояние: IQR = Q(75) - Q(25)\n",
        "    iqr = quartile_3 - quartile_1\n",
        "    #вычислить верхнюю и нижнюю границы Тьюки\n",
        "    lower_bound = quartile_1 - (iqr * 1.5)\n",
        "    upper_bound = quartile_3 + (iqr * 1.5)\n",
        "    outliers = data[(x < lower_bound) | (x > upper_bound)]\n",
        "    cleaned = data[(x > lower_bound) & (x < upper_bound)]\n",
        "    return outliers, cleaned\n",
        "#применим эту функцию к таблице sber_data и признаку full_sq, а также выведем размерности результатов\n",
        "outliers, cleaned = outliers_iqr(sber_data, 'full_sq')\n",
        "print(f'Число выбросов по методу Тьюки: {outliers.shape[0]}')\n",
        "print(f'Результирующее число записей: {cleaned.shape[0]}')"
      ],
      "metadata": {
        "colab": {
          "base_uri": "https://localhost:8080/"
        },
        "id": "0ZbLNGwDUw30",
        "outputId": "12b32cf3-4d86-4e10-f03b-8219b9bccbb9"
      },
      "id": "0ZbLNGwDUw30",
      "execution_count": 12,
      "outputs": [
        {
          "output_type": "stream",
          "name": "stdout",
          "text": [
            "Число выбросов по методу Тьюки: 963\n",
            "Результирующее число записей: 29508\n"
          ]
        }
      ]
    },
    {
      "cell_type": "markdown",
      "source": [
        "Согласно классическому методу Тьюки, под выбросы у нас попали 963 записи в таблице. Давайте построим гистограмму и коробчатую диаграмму на новых данных cleaned_sber_data:"
      ],
      "metadata": {
        "id": "4lfnlMzMXLF3"
      },
      "id": "4lfnlMzMXLF3"
    },
    {
      "cell_type": "code",
      "source": [
        "# задаем параметры для двух графиков (количество графиков повертикали (nrows=1) и горизонтали(ncols=2))\n",
        "# и их размеры\n",
        "fig, axes = plt.subplots(nrows=1, ncols=2, figsize=(15, 4))\n",
        "# параметры для вывода гистограммы\n",
        "histplot = sns.histplot(data=cleaned, x='full_sq', ax=axes[0]);\n",
        "histplot.set_title('Cleaned Full Square Distribution');\n",
        "# параметры для вывода коробчатой диаграммы\n",
        "boxplot = sns.boxplot(data=cleaned, x='full_sq', ax=axes[1]);\n",
        "boxplot.set_title('Cleaned Full Square Boxplot');"
      ],
      "metadata": {
        "colab": {
          "base_uri": "https://localhost:8080/",
          "height": 296
        },
        "id": "_Q9IUYw3XKXJ",
        "outputId": "50a80bed-2f6a-4e83-9822-3f2df367e0a8"
      },
      "id": "_Q9IUYw3XKXJ",
      "execution_count": 13,
      "outputs": [
        {
          "output_type": "display_data",
          "data": {
            "text/plain": [
              "<Figure size 1080x288 with 2 Axes>"
            ],
            "image/png": "[encoded data removed]"
          },
          "metadata": {
            "needs_background": "light"
          }
        }
      ]
    },
    {
      "cell_type": "code",
      "source": [
        "def outliers_iqr_mod(data, feature, left=1.5, right=1.5):\n",
        "    x = data[feature]\n",
        "    #вычислить 25-ый и 75-ый квантили (первый и третий квартили) — и  для признака, который мы исследуем\n",
        "    quartile_1, quartile_3 = x.quantile(0.25), x.quantile(0.75),\n",
        "    #вычислить межквартильное расстояние: IQR = Q(75) - Q(25)\n",
        "    iqr = quartile_3 - quartile_1\n",
        "    #вычислить верхнюю и нижнюю границы Тьюки\n",
        "    lower_bound = quartile_1 - (iqr * left)\n",
        "    upper_bound = quartile_3 + (iqr * right)\n",
        "    outliers = data[(x < lower_bound) | (x > upper_bound)]\n",
        "    cleaned = data[(x > lower_bound) & (x < upper_bound)]\n",
        "    return outliers, cleaned\n",
        "#применим эту функцию к таблице sber_data и признаку full_sq, а также выведем размерности результатов\n",
        "outliers, cleaned = outliers_iqr_mod(sber_data, 'full_sq')\n",
        "print(f'Число выбросов по методу Тьюки: {outliers.shape[0]}')\n",
        "print(f'Результирующее число записей: {cleaned.shape[0]}')"
      ],
      "metadata": {
        "colab": {
          "base_uri": "https://localhost:8080/"
        },
        "id": "6iap4OadYy3N",
        "outputId": "850f9a76-710e-4906-f39d-7213306c520b"
      },
      "id": "6iap4OadYy3N",
      "execution_count": 14,
      "outputs": [
        {
          "output_type": "stream",
          "name": "stdout",
          "text": [
            "Число выбросов по методу Тьюки: 963\n",
            "Результирующее число записей: 29508\n"
          ]
        }
      ]
    },
    {
      "cell_type": "markdown",
      "source": [
        "Ослабим критерии к признаку full_sq из таблицы sber_data данным с параметрами left=1 и right=6"
      ],
      "metadata": {
        "id": "OfKvRXl8bUwL"
      },
      "id": "OfKvRXl8bUwL"
    },
    {
      "cell_type": "code",
      "source": [
        "def outliers_iqr_mod(data, feature, left=1, right=6):\n",
        "    x = data[feature]\n",
        "    #вычислить 25-ый и 75-ый квантили (первый и третий квартили) — и  для признака, который мы исследуем\n",
        "    quartile_1, quartile_3 = x.quantile(0.25), x.quantile(0.75),\n",
        "    #вычислить межквартильное расстояние: IQR = Q(75) - Q(25)\n",
        "    iqr = quartile_3 - quartile_1\n",
        "    #вычислить верхнюю и нижнюю границы Тьюки\n",
        "    lower_bound = quartile_1 - (iqr * left)\n",
        "    upper_bound = quartile_3 + (iqr * right)\n",
        "    outliers = data[(x < lower_bound) | (x > upper_bound)]\n",
        "    cleaned = data[(x > lower_bound) & (x < upper_bound)]\n",
        "    return outliers, cleaned\n",
        "#применим эту функцию к таблице sber_data и признаку full_sq, а также выведем размерности результатов\n",
        "outliers, cleaned = outliers_iqr_mod(sber_data, 'full_sq')\n",
        "print(f'Число выбросов по методу Тьюки: {outliers.shape[0]}')\n",
        "print(f'Результирующее число записей: {cleaned.shape[0]}')"
      ],
      "metadata": {
        "id": "oO7h_mT1bg0d"
      },
      "id": "oO7h_mT1bg0d",
      "execution_count": null,
      "outputs": []
    },
    {
      "cell_type": "code",
      "source": [
        "# Если мы построим гистограмму и коробчатую диаграмму на полученных данных, то увидим вот такую картинку:\n",
        "\n",
        "fig, axes = plt.subplots(nrows=1, ncols=2, figsize=(15, 4))\n",
        "histplot = sns.histplot(data=cleaned, x='full_sq', ax=axes[0]);\n",
        "histplot.set_title('Cleaned Full Square Distribution');\n",
        "boxplot = sns.boxplot(data=cleaned, x='full_sq', ax=axes[1]);\n",
        "boxplot.set_title('Cleaned Full Square Boxplot');"
      ],
      "metadata": {
        "colab": {
          "base_uri": "https://localhost:8080/",
          "height": 296
        },
        "id": "pOnStfAxSRWm",
        "outputId": "5a8510ef-8f0e-440f-e015-d03a7186d519"
      },
      "id": "pOnStfAxSRWm",
      "execution_count": 16,
      "outputs": [
        {
          "output_type": "display_data",
          "data": {
            "text/plain": [
              "<Figure size 1080x288 with 2 Axes>"
            ],
            "image/png": "[encoded data removed]"
          },
          "metadata": {
            "needs_background": "light"
          }
        }
      ]
    },
    {
      "cell_type": "markdown",
      "source": [
        "# МЕТОД Z-ОТКЛОНЕНИЙ (МЕТОД СИГМ)"
      ],
      "metadata": {
        "id": "Sz8vRDUYS_SR"
      },
      "id": "Sz8vRDUYS_SR"
    },
    {
      "cell_type": "markdown",
      "source": [
        "Построим две гистограммы признака расстояния до МКАД (mkad_km): первая — в обычном масштабе, а вторая — в логарифмическом. Логарифмировать будем с помощью функции log() из библиотеки numpy (натуральный логарифм — логарифм по основанию числа e). Признак имеет среди своих значений 0. Из математики известно, что логарифма от 0 не существует, поэтому мы прибавляем к нашему признаку 1, чтобы не логарифмировать нули и не получать предупреждения.\n",
        "\n"
      ],
      "metadata": {
        "id": "I_ZiHE46TeHp"
      },
      "id": "I_ZiHE46TeHp"
    },
    {
      "cell_type": "code",
      "source": [
        "import numpy as np\n",
        "fig, axes = plt.subplots(1, 2, figsize=(15, 4))\n",
        "\n",
        "#гистограмма исходного признака\n",
        "histplot = sns.histplot(sber_data['mkad_km'], bins=30, ax=axes[0])\n",
        "histplot.set_title('MKAD Km Distribution');\n",
        "\n",
        "#гистограмма в логарифмическом масштабе\n",
        "log_mkad_km= np.log(sber_data['mkad_km'] + 1)\n",
        "histplot = sns.histplot(log_mkad_km , bins=30, ax=axes[1])\n",
        "histplot.set_title('Log MKAD Km Distribution');"
      ],
      "metadata": {
        "colab": {
          "base_uri": "https://localhost:8080/",
          "height": 296
        },
        "id": "76MEr5KmTBiM",
        "outputId": "b3ca171b-495e-4bb7-c8ce-de57066f855c"
      },
      "id": "76MEr5KmTBiM",
      "execution_count": 20,
      "outputs": [
        {
          "output_type": "display_data",
          "data": {
            "text/plain": [
              "<Figure size 1080x288 with 2 Axes>"
            ],
            "image/png": "[encoded data removed]"
          },
          "metadata": {
            "needs_background": "light"
          }
        }
      ]
    },
    {
      "cell_type": "code",
      "source": [
        "# Численный показатель асимметрии можно вычислить с помощью метода:skew():\n",
        "print(log_mkad_km.skew())"
      ],
      "metadata": {
        "colab": {
          "base_uri": "https://localhost:8080/"
        },
        "id": "1EdTLcS1UEYe",
        "outputId": "b2bd02f8-db66-42c4-80fc-e592fde871e7"
      },
      "id": "1EdTLcS1UEYe",
      "execution_count": 22,
      "outputs": [
        {
          "output_type": "stream",
          "name": "stdout",
          "text": [
            "-0.14263612203024953\n"
          ]
        }
      ]
    },
    {
      "cell_type": "markdown",
      "source": [
        "Напишем функцию outliers_z_score(), которая реализует этот алгоритм. \n",
        "\n",
        "На вход она принимает DataFrame и признак, по которому ищутся выбросы. В дополнение добавим в функцию возможность работы в логарифмическом масштабе: для этого введём аргумент log_scale. Если он равен True, то будем логарифмировать рассматриваемый признак, иначе — оставляем его в исходном виде.\n",
        "\n",
        "Как и раньше, функция будет возвращать выбросы и очищенные от них данные:"
      ],
      "metadata": {
        "id": "wv9H_P7yUXX-"
      },
      "id": "wv9H_P7yUXX-"
    },
    {
      "cell_type": "code",
      "source": [
        "def outliers_z_score(data, feature, log_scale=False):\n",
        "    if log_scale:\n",
        "        x = np.log(data[feature]+1)\n",
        "    else:\n",
        "        x = data[feature]\n",
        "    # вычислим математическое ожидание mu (среднее)\n",
        "    mu = x.mean()\n",
        "    # вычислим стандартное отклонение (sigma) признака x;\n",
        "    sigma = x.std()\n",
        "    # вычислим нижнюю границу интервала\n",
        "    lower_bound = mu - 3 * sigma\n",
        "    # вычислим верхнюю границу интервала\n",
        "    upper_bound = mu + 3 * sigma\n",
        "    outliers = data[(x < lower_bound) | (x > upper_bound)]\n",
        "    cleaned = data[(x > lower_bound) & (x < upper_bound)]\n",
        "    return outliers, cleaned\n",
        "\n",
        "# Применим эту функцию к таблице sber_data и признаку mkad_km, а также выведем размерности результатов:\n",
        "outliers, cleaned = outliers_z_score(sber_data, 'mkad_km', log_scale=True)\n",
        "print(f'Число выбросов по методу z-отклонения: {outliers.shape[0]}')\n",
        "print(f'Результирующее число записей: {cleaned.shape[0]}')"
      ],
      "metadata": {
        "colab": {
          "base_uri": "https://localhost:8080/"
        },
        "id": "c59V1tWSUZDu",
        "outputId": "a4503941-82de-436e-e70e-d3f022c0f3f0"
      },
      "id": "c59V1tWSUZDu",
      "execution_count": 23,
      "outputs": [
        {
          "output_type": "stream",
          "name": "stdout",
          "text": [
            "Число выбросов по методу z-отклонения: 33\n",
            "Результирующее число записей: 30438\n"
          ]
        }
      ]
    },
    {
      "cell_type": "markdown",
      "source": [
        "Итак, метод z-отклонения нашел нам 33 потенциальных выброса по признаку расстояния до МКАД. Давайте узнаем, в каких районах (sub_area) представлены эти квартиры:\n"
      ],
      "metadata": {
        "id": "T0K1Y2AVWJfL"
      },
      "id": "T0K1Y2AVWJfL"
    },
    {
      "cell_type": "code",
      "source": [
        "print(outliers['sub_area'].unique())"
      ],
      "metadata": {
        "colab": {
          "base_uri": "https://localhost:8080/"
        },
        "id": "oSzikICaWJ19",
        "outputId": "42056fe8-1d44-4c8d-91db-3c847223f3f1"
      },
      "id": "oSzikICaWJ19",
      "execution_count": 24,
      "outputs": [
        {
          "output_type": "stream",
          "name": "stdout",
          "text": [
            "['Poselenie Rogovskoe' 'Poselenie Kievskij']\n"
          ]
        }
      ]
    },
    {
      "cell_type": "markdown",
      "source": [
        "Давайте отдельно построим гистограмму прологарифмированного распределения, а также отобразим на гистограмме вертикальные линии, соответствующие среднему (центру интервала в методе трёх сигм) и границы интервала . Вертикальные линии можно построить с помощью метода axvline(). Для среднего линия будет обычной, а для границ интервала — пунктирной (параметр ls ='--'):"
      ],
      "metadata": {
        "id": "45b7ibJYWX0A"
      },
      "id": "45b7ibJYWX0A"
    },
    {
      "cell_type": "code",
      "source": [
        "fig, ax = plt.subplots(1, 1, figsize=(8, 4))\n",
        "log_mkad_km = np.log(sber_data['mkad_km'] + 1)\n",
        "histplot = sns.histplot(log_mkad_km, bins=30, ax=ax)\n",
        "histplot.axvline(log_mkad_km.mean(), color='k', lw=2)\n",
        "histplot.axvline(log_mkad_km.mean()+ 3 * log_mkad_km.std(), color='k', ls='--', lw=2)\n",
        "histplot.axvline(log_mkad_km.mean()- 3 * log_mkad_km.std(), color='k', ls='--', lw=2)\n",
        "histplot.set_title('Log MKAD Km Distribution');"
      ],
      "metadata": {
        "colab": {
          "base_uri": "https://localhost:8080/",
          "height": 296
        },
        "id": "x-MsHKYJWbLh",
        "outputId": "dcf3ae5a-8462-4229-baac-9cb386ff543f"
      },
      "id": "x-MsHKYJWbLh",
      "execution_count": 25,
      "outputs": [
        {
          "output_type": "display_data",
          "data": {
            "text/plain": [
              "<Figure size 576x288 with 1 Axes>"
            ],
            "image/png": "[encoded data removed]"
          },
          "metadata": {
            "needs_background": "light"
          }
        }
      ]
    },
    {
      "cell_type": "markdown",
      "source": [
        "Давайте расширим правило трёх сигм, чтобы иметь возможность особенности данных. Добавьте в функцию outliers_z_score() параметры left и right, которые будут задавать число сигм (стандартных отклонений) влево и вправо соответственно, определяющее границы метода z-отклонения. По умолчанию оба параметры равны 3. Результирующую функцию назовите outliers_z_score_mod()."
      ],
      "metadata": {
        "id": "gE46yJ5WWqXp"
      },
      "id": "gE46yJ5WWqXp"
    },
    {
      "cell_type": "code",
      "source": [
        "import numpy as np\n",
        "def outliers_z_score_mod(data, feature, left=3, right=3, log_scale=False):\n",
        "    if log_scale:\n",
        "        x = np.log(data[feature]+1)\n",
        "    else:\n",
        "        x = data[feature]\n",
        "    # вычислим математическое ожидание mu (среднее)\n",
        "    mu = x.mean()\n",
        "    # вычислим стандартное отклонение (sigma) признака x;\n",
        "    sigma = x.std()\n",
        "    # вычислим нижнюю границу интервала\n",
        "    lower_bound = mu - left * sigma \n",
        "    # вычислим верхнюю границу интервала\n",
        "    upper_bound = mu + right * sigma\n",
        "    outliers = data[(x < lower_bound) | (x > upper_bound)]\n",
        "    cleaned = data[(x > lower_bound) & (x < upper_bound)]\n",
        "    return outliers, cleaned\n",
        "\n",
        "# Применим эту функцию к таблице sber_data и признаку mkad_km, а также выведем размерности результатов:\n",
        "outliers, cleaned = outliers_z_score_mod(sber_data, 'mkad_km', log_scale=True)\n",
        "print(f'Число выбросов по методу z-отклонения: {outliers.shape[0]}')\n",
        "print(f'Результирующее число записей: {cleaned.shape[0]}')"
      ],
      "metadata": {
        "colab": {
          "base_uri": "https://localhost:8080/"
        },
        "id": "inNYZRkPWph5",
        "outputId": "8aad7642-6873-485b-9fda-e038e78bb84a"
      },
      "id": "inNYZRkPWph5",
      "execution_count": 48,
      "outputs": [
        {
          "output_type": "stream",
          "name": "stdout",
          "text": [
            "Число выбросов по методу z-отклонения: 52\n",
            "Результирующее число записей: 30419\n"
          ]
        }
      ]
    },
    {
      "cell_type": "markdown",
      "source": [
        "Проверьте, что будет, если дать «послабление» вправо, увеличив число сигм. Наша задача — узнать, начиная с какой границы поселения «Роговское» и «Киевское» перестают считаться выбросами. Примените свою функцию outliers_z_score_mod() к признаку mkad_km с параметрами left=3, right=3.5, log_scale=True"
      ],
      "metadata": {
        "id": "pon8iQLCbl6w"
      },
      "id": "pon8iQLCbl6w"
    },
    {
      "cell_type": "code",
      "source": [
        "import numpy as np\n",
        "def outliers_z_score_mod(data, feature, left=3, right=3.5, log_scale=True):\n",
        "    if log_scale:\n",
        "        x = np.log(data[feature]+1)\n",
        "    else:\n",
        "        x = data[feature]\n",
        "    # вычислим математическое ожидание mu (среднее)\n",
        "    mu = x.mean()\n",
        "    # вычислим стандартное отклонение (sigma) признака x;\n",
        "    sigma = x.std()\n",
        "    # вычислим нижнюю границу интервала\n",
        "    lower_bound = mu - left *sigma \n",
        "    # вычислим верхнюю границу интервала\n",
        "    upper_bound = mu + right * sigma\n",
        "    outliers = data[(x < lower_bound) | (x > upper_bound)]\n",
        "    cleaned = data[(x > lower_bound) & (x < upper_bound)]\n",
        "    return outliers, cleaned\n",
        "\n",
        "# Применим эту функцию к таблице sber_data и признаку mkad_km, а также выведем размерности результатов:\n",
        "outliers, cleaned = outliers_z_score_mod(sber_data, 'mkad_km', log_scale=True)\n",
        "print(f'Число выбросов по методу z-отклонения: {outliers.shape[0]}')\n",
        "print(f'Результирующее число записей: {cleaned.shape[0]}')"
      ],
      "metadata": {
        "colab": {
          "base_uri": "https://localhost:8080/"
        },
        "id": "JkUnmEiQbm5Y",
        "outputId": "21b52701-4ffc-407b-ddaa-23f911b46e0a"
      },
      "id": "JkUnmEiQbm5Y",
      "execution_count": 39,
      "outputs": [
        {
          "output_type": "stream",
          "name": "stdout",
          "text": [
            "Число выбросов по методу z-отклонения: 232\n",
            "Результирующее число записей: 30239\n"
          ]
        }
      ]
    },
    {
      "cell_type": "markdown",
      "source": [
        "Построим гистограмму для признака price_doc в логарифмическом масштабе"
      ],
      "metadata": {
        "id": "ktZ-ZhAZcg-b"
      },
      "id": "ktZ-ZhAZcg-b"
    },
    {
      "cell_type": "code",
      "source": [
        "fig, ax = plt.subplots(1, 1, figsize=(10, 5))\n",
        "log_price_doc = np.log(sber_data['price_doc'] + 1)\n",
        "histplot = sns.histplot(log_price_doc, bins=24, ax=ax)\n",
        "histplot.axvline(log_price_doc.mean(), color='k', lw=2)\n",
        "histplot.axvline(log_price_doc.mean()+ 3 * log_price_doc.std(), color='k', ls='--', lw=2)\n",
        "histplot.axvline(log_price_doc.mean()- 3 * log_price_doc.std(), color='k', ls='--', lw=2)\n",
        "histplot.set_title('Log PRICE doc Distribution')"
      ],
      "metadata": {
        "colab": {
          "base_uri": "https://localhost:8080/",
          "height": 369
        },
        "id": "c8bG-eKGchVy",
        "outputId": "cb3cc9f9-005b-4b3f-9a76-a6a94b1f785b"
      },
      "id": "c8bG-eKGchVy",
      "execution_count": 34,
      "outputs": [
        {
          "output_type": "execute_result",
          "data": {
            "text/plain": [
              "Text(0.5, 1.0, 'Log PRICE doc Distribution')"
            ]
          },
          "metadata": {},
          "execution_count": 34
        },
        {
          "output_type": "display_data",
          "data": {
            "text/plain": [
              "<Figure size 720x360 with 1 Axes>"
            ],
            "image/png": "[encoded data removed]"
          },
          "metadata": {
            "needs_background": "light"
          }
        }
      ]
    },
    {
      "cell_type": "markdown",
      "source": [
        "Найдите потенциальные выбросы в таблице sber_data и признаку price_doc с помощью метода z-отклонения. Используйте логарифмический масштаб распределения. Сделайте «послабление» на 0.7 сигм в в обе стороны распределения. Сколько выбросов вы получили?\n",
        "\n",
        "> Блок с отступами\n",
        "\n"
      ],
      "metadata": {
        "id": "vd23PoT1iRm2"
      },
      "id": "vd23PoT1iRm2"
    },
    {
      "cell_type": "code",
      "source": [
        "import numpy as np\n",
        "def outliers_z_score_mod(data, feature, left=3.7, right=3.7, log_scale=True):\n",
        "    if log_scale:\n",
        "        x = np.log(data[feature]+1)\n",
        "    else:\n",
        "        x = data[feature]\n",
        "    # вычислим математическое ожидание mu (среднее)\n",
        "    mu = x.mean()\n",
        "    # вычислим стандартное отклонение (sigma) признака x;\n",
        "    sigma = x.std()\n",
        "    # вычислим нижнюю границу интервала\n",
        "    lower_bound = mu - left * sigma \n",
        "    # вычислим верхнюю границу интервала\n",
        "    upper_bound = mu + right * sigma\n",
        "    outliers = data[(x < lower_bound) | (x > upper_bound)]\n",
        "    cleaned = data[(x > lower_bound) & (x < upper_bound)]\n",
        "    return outliers, cleaned\n",
        "\n",
        "# Применим эту функцию к таблице sber_data и признаку price_doc, а также выведем размерности результатов:\n",
        "outliers, cleaned = outliers_z_score_mod(sber_data, 'price_doc', log_scale=True)\n",
        "print(f'Число выбросов по методу z-отклонения: {outliers.shape[0]}')\n",
        "print(f'Результирующее число записей: {cleaned.shape[0]}')"
      ],
      "metadata": {
        "colab": {
          "base_uri": "https://localhost:8080/"
        },
        "id": "mbaq1_CDiHjC",
        "outputId": "2d09713f-0af0-4920-f0b1-6e39630845a3"
      },
      "id": "mbaq1_CDiHjC",
      "execution_count": 49,
      "outputs": [
        {
          "output_type": "stream",
          "name": "stdout",
          "text": [
            "Число выбросов по методу z-отклонения: 52\n",
            "Результирующее число записей: 30419\n"
          ]
        }
      ]
    },
    {
      "cell_type": "code",
      "source": [
        "def outliers_iqr_mod(data, feature, left=3, right=3, log_scale=True):\n",
        "    if log_scale:\n",
        "        x = np.log(data[feature])\n",
        "    else:\n",
        "        x = data[feature]\n",
        "    #вычислить 25-ый и 75-ый квантили (первый и третий квартили) — и  для признака, который мы исследуем\n",
        "    quartile_1, quartile_3 = x.quantile(0.25), x.quantile(0.75),\n",
        "    #вычислить межквартильное расстояние: IQR = Q(75) - Q(25)\n",
        "    iqr = quartile_3 - quartile_1\n",
        "    #вычислить верхнюю и нижнюю границы Тьюки\n",
        "    lower_bound = quartile_1 - (iqr * left)\n",
        "    upper_bound = quartile_3 + (iqr * right)\n",
        "    outliers = data[(x < lower_bound) | (x > upper_bound)]\n",
        "    cleaned = data[(x > lower_bound) & (x < upper_bound)]\n",
        "    return outliers, cleaned\n",
        "#применим эту функцию к таблице sber_data и признаку price_doc, а также выведем размерности результатов\n",
        "outliers, cleaned = outliers_iqr_mod(sber_data, 'price_doc', log_scale=True)\n",
        "print(f'Число выбросов по методу Тьюки: {outliers.shape[0]}')\n",
        "print(f'Результирующее число записей: {cleaned.shape[0]}')"
      ],
      "metadata": {
        "colab": {
          "base_uri": "https://localhost:8080/"
        },
        "id": "uV99L8k-i5Iv",
        "outputId": "51054ccd-7e7c-416c-a727-0818c0d842c8"
      },
      "id": "uV99L8k-i5Iv",
      "execution_count": 51,
      "outputs": [
        {
          "output_type": "stream",
          "name": "stdout",
          "text": [
            "Число выбросов по методу Тьюки: 92\n",
            "Результирующее число записей: 30379\n"
          ]
        }
      ]
    }
  ],
  "metadata": {
    "kernelspec": {
      "display_name": "Python 3 (ipykernel)",
      "language": "python",
      "name": "python3"
    },
    "language_info": {
      "codemirror_mode": {
        "name": "ipython",
        "version": 3
      },
      "file_extension": ".py",
      "mimetype": "text/x-python",
      "name": "python",
      "nbconvert_exporter": "python",
      "pygments_lexer": "ipython3",
      "version": "3.8.8"
    },
    "colab": {
      "provenance": [],
      "include_colab_link": true
    }
  },
  "nbformat": 4,
  "nbformat_minor": 5
}